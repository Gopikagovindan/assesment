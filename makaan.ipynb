{
  "nbformat": 4,
  "nbformat_minor": 0,
  "metadata": {
    "colab": {
      "name": "makaan.ipynb",
      "provenance": [],
      "include_colab_link": true
    },
    "kernelspec": {
      "name": "python3",
      "display_name": "Python 3"
    },
    "language_info": {
      "name": "python"
    }
  },
  "cells": [
    {
      "cell_type": "markdown",
      "metadata": {
        "id": "view-in-github",
        "colab_type": "text"
      },
      "source": [
        "<a href=\"https://colab.research.google.com/github/Gopikagovindan/assesment/blob/main/makaan.ipynb\" target=\"_parent\"><img src=\"https://colab.research.google.com/assets/colab-badge.svg\" alt=\"Open In Colab\"/></a>"
      ]
    },
    {
      "cell_type": "code",
      "metadata": {
        "id": "OQube03vEvKi"
      },
      "source": [
        "#import all the packages\n",
        "\n",
        "import requests\n",
        "from bs4 import BeautifulSoup\n",
        "import pandas as pd"
      ],
      "execution_count": null,
      "outputs": []
    },
    {
      "cell_type": "code",
      "metadata": {
        "colab": {
          "base_uri": "https://localhost:8080/"
        },
        "id": "gOcbkhauEw67",
        "outputId": "6b23de19-b340-49b4-c8ce-3998ce55d6c8"
      },
      "source": [
        "url = 'https://www.makaan.com/hyderabad-residential-property/buy-property-in-hyderabad-city'\n",
        "req = requests.get(url)\n",
        "print(req)\n",
        "soup = BeautifulSoup(req.text,'html')\n",
        "#print(soup.prettify())"
      ],
      "execution_count": null,
      "outputs": [
        {
          "output_type": "stream",
          "text": [
            "<Response [200]>\n"
          ],
          "name": "stdout"
        }
      ]
    },
    {
      "cell_type": "code",
      "metadata": {
        "colab": {
          "base_uri": "https://localhost:8080/"
        },
        "id": "jcrVfNbeEw-d",
        "outputId": "0688a470-6d35-4051-8bf7-38e4e996b9bc"
      },
      "source": [
        "#find and findall\n",
        "soup.find('span')   # find will give us the first span tag"
      ],
      "execution_count": null,
      "outputs": [
        {
          "output_type": "execute_result",
          "data": {
            "text/plain": [
              "<span data-target=\"categoryPlaceholder\">buy</span>"
            ]
          },
          "metadata": {
            "tags": []
          },
          "execution_count": 4
        }
      ]
    },
    {
      "cell_type": "code",
      "metadata": {
        "colab": {
          "base_uri": "https://localhost:8080/"
        },
        "id": "MpnBu-hBExBq",
        "outputId": "0ed30c3e-f1c4-4337-a143-a459bc0f9009"
      },
      "source": [
        "soup.findAll('span')"
      ],
      "execution_count": null,
      "outputs": [
        {
          "output_type": "execute_result",
          "data": {
            "text/plain": [
              "[<span data-target=\"categoryPlaceholder\">buy</span>,\n",
              " <span class=\"path1\"></span>,\n",
              " <span class=\"path2\"></span>,\n",
              " <span class=\"val js-tag\"></span>,\n",
              " <span class=\"close\"></span>,\n",
              " <span class=\"makaan-select-img\"></span>,\n",
              " <span class=\"homeloan-img\"></span>,\n",
              " <span class=\"txt\"> Home Loan</span>,\n",
              " <span class=\"d-show span-link\" data-link-name=\"download app\" data-link-type=\"Other\" data-type=\"download-app\" data-url=\"/download-mobileapp\" title=\"\"><span class=\"app-img\"></span><span class=\"txt\"> Download app</span></span>,\n",
              " <span class=\"app-img\"></span>,\n",
              " <span class=\"txt\"> Download app</span>,\n",
              " <span class=\"list-icon\"></span>,\n",
              " <span class=\"txt\">Sell/Rent Property<sup> Free</sup></span>,\n",
              " <span class=\"initial\" data-initial=\"\"></span>,\n",
              " <span class=\"avatar\"><img alt=\"\" class=\"hide\" src=\"//static.makaan.com/images/sellerHomePage/avtaar.17607d33.png\"/></span>,\n",
              " <span class=\"count\">+1</span>,\n",
              " <span>Property in Hyderabad</span>,\n",
              " <span>Top Localities</span>,\n",
              " <span>Builders in Hyderabad</span>,\n",
              " <span>Recent Projects</span>,\n",
              " <span>Top Cities</span>,\n",
              " <span>Top Builders</span>,\n",
              " <span>Logout</span>,\n",
              " <span class=\"path1\"></span>,\n",
              " <span class=\"path2\"></span>,\n",
              " <span class=\"path3\"></span>,\n",
              " <span>Top projects for  Sale in Hyderabad<i class=\"icon-chevron-right\"></i></span>,\n",
              " <span>Top builderfloors for  Sale in Hyderabad<i class=\"icon-chevron-right\"></i></span>,\n",
              " <span>Top popular searches for  Sale in Hyderabad<i class=\"icon-chevron-right\"></i></span>,\n",
              " <span>Top apartments for  Sale in Hyderabad<i class=\"icon-chevron-right\"></i></span>,\n",
              " <span>Top villas for  Sale in Hyderabad<i class=\"icon-chevron-right\"></i></span>,\n",
              " <span class=\"path1\"></span>,\n",
              " <span class=\"path2\"></span>,\n",
              " <span class=\"path3\"></span>,\n",
              " <span>Top projects for  Sale in Hyderabad</span>,\n",
              " <span class=\"path1\"></span>,\n",
              " <span class=\"path2\"></span>,\n",
              " <span class=\"path3\"></span>,\n",
              " <span class=\"path1\"></span>,\n",
              " <span class=\"path2\"></span>,\n",
              " <span class=\"path3\"></span>,\n",
              " <span>Top popular searches for  Sale in Hyderabad</span>,\n",
              " <span class=\"path1\"></span>,\n",
              " <span class=\"path2\"></span>,\n",
              " <span class=\"path3\"></span>,\n",
              " <span class=\"path1\"></span>,\n",
              " <span class=\"path2\"></span>,\n",
              " <span class=\"path3\"></span>,\n",
              " <span class=\"path1\"></span>,\n",
              " <span class=\"path2\"></span>,\n",
              " <span class=\"path3\"></span>,\n",
              " <span>Top Localities</span>,\n",
              " <span>Property in Gachibowli<i class=\"icon-chevron-right\"></i></span>,\n",
              " <span>Property in Kukatpally<i class=\"icon-chevron-right\"></i></span>,\n",
              " <span>Property in Pragathi Nagar<i class=\"icon-chevron-right\"></i></span>,\n",
              " <span>Property in Kondapur<i class=\"icon-chevron-right\"></i></span>,\n",
              " <span>Property in Maheshwaram<i class=\"icon-chevron-right\"></i></span>,\n",
              " <span>Property in Tellapur<i class=\"icon-chevron-right\"></i></span>,\n",
              " <span>Property in Manikonda<i class=\"icon-chevron-right\"></i></span>,\n",
              " <span>Property in Shadnagar<i class=\"icon-chevron-right\"></i></span>,\n",
              " <span>Property in Kothur<i class=\"icon-chevron-right\"></i></span>,\n",
              " <span>Property in Miyapur<i class=\"icon-chevron-right\"></i></span>,\n",
              " <span class=\"path1\"></span>,\n",
              " <span class=\"path2\"></span>,\n",
              " <span class=\"path3\"></span>,\n",
              " <span>Top projects for  Sale in Gachibowli<i class=\"icon-chevron-right\"></i></span>,\n",
              " <span>Top builderfloors for  Sale in Gachibowli<i class=\"icon-chevron-right\"></i></span>,\n",
              " <span>Top popular searches for  Sale in Gachibowli<i class=\"icon-chevron-right\"></i></span>,\n",
              " <span>Top villas for  Sale in Gachibowli<i class=\"icon-chevron-right\"></i></span>,\n",
              " <span>Top apartments for  Sale in Gachibowli<i class=\"icon-chevron-right\"></i></span>,\n",
              " <span class=\"path1\"></span>,\n",
              " <span class=\"path2\"></span>,\n",
              " <span class=\"path3\"></span>,\n",
              " <span>Top projects for  Sale in Gachibowli</span>,\n",
              " <span class=\"path1\"></span>,\n",
              " <span class=\"path2\"></span>,\n",
              " <span class=\"path3\"></span>,\n",
              " <span class=\"path1\"></span>,\n",
              " <span class=\"path2\"></span>,\n",
              " <span class=\"path3\"></span>,\n",
              " <span>Top popular searches for  Sale in Gachibowli</span>,\n",
              " <span class=\"path1\"></span>,\n",
              " <span class=\"path2\"></span>,\n",
              " <span class=\"path3\"></span>,\n",
              " <span class=\"path1\"></span>,\n",
              " <span class=\"path2\"></span>,\n",
              " <span class=\"path3\"></span>,\n",
              " <span class=\"path1\"></span>,\n",
              " <span class=\"path2\"></span>,\n",
              " <span class=\"path3\"></span>,\n",
              " <span>Top projects for  Sale in Kukatpally<i class=\"icon-chevron-right\"></i></span>,\n",
              " <span>Top builderfloors for  Sale in Kukatpally<i class=\"icon-chevron-right\"></i></span>,\n",
              " <span>Top popular searches for  Sale in Kukatpally<i class=\"icon-chevron-right\"></i></span>,\n",
              " <span>Top apartments for  Sale in Kukatpally<i class=\"icon-chevron-right\"></i></span>,\n",
              " <span>Top villas for  Sale in Kukatpally<i class=\"icon-chevron-right\"></i></span>,\n",
              " <span class=\"path1\"></span>,\n",
              " <span class=\"path2\"></span>,\n",
              " <span class=\"path3\"></span>,\n",
              " <span>Top projects for  Sale in Kukatpally</span>,\n",
              " <span class=\"path1\"></span>,\n",
              " <span class=\"path2\"></span>,\n",
              " <span class=\"path3\"></span>,\n",
              " <span class=\"path1\"></span>,\n",
              " <span class=\"path2\"></span>,\n",
              " <span class=\"path3\"></span>,\n",
              " <span>Top popular searches for  Sale in Kukatpally</span>,\n",
              " <span class=\"path1\"></span>,\n",
              " <span class=\"path2\"></span>,\n",
              " <span class=\"path3\"></span>,\n",
              " <span class=\"path1\"></span>,\n",
              " <span class=\"path2\"></span>,\n",
              " <span class=\"path3\"></span>,\n",
              " <span class=\"path1\"></span>,\n",
              " <span class=\"path2\"></span>,\n",
              " <span class=\"path3\"></span>,\n",
              " <span>Top popular searches for  Sale in Pragathi Nagar<i class=\"icon-chevron-right\"></i></span>,\n",
              " <span>Top apartments for  Sale in Pragathi Nagar<i class=\"icon-chevron-right\"></i></span>,\n",
              " <span>Top villas for  Sale in Pragathi Nagar<i class=\"icon-chevron-right\"></i></span>,\n",
              " <span class=\"path1\"></span>,\n",
              " <span class=\"path2\"></span>,\n",
              " <span class=\"path3\"></span>,\n",
              " <span>Top popular searches for  Sale in Pragathi Nagar</span>,\n",
              " <span class=\"path1\"></span>,\n",
              " <span class=\"path2\"></span>,\n",
              " <span class=\"path3\"></span>,\n",
              " <span class=\"path1\"></span>,\n",
              " <span class=\"path2\"></span>,\n",
              " <span class=\"path3\"></span>,\n",
              " <span>Top villas for  Sale in Pragathi Nagar</span>,\n",
              " <span class=\"path1\"></span>,\n",
              " <span class=\"path2\"></span>,\n",
              " <span class=\"path3\"></span>,\n",
              " <span>Top projects for  Sale in Kondapur<i class=\"icon-chevron-right\"></i></span>,\n",
              " <span>Top builderfloors for  Sale in Kondapur<i class=\"icon-chevron-right\"></i></span>,\n",
              " <span>Top popular searches for  Sale in Kondapur<i class=\"icon-chevron-right\"></i></span>,\n",
              " <span>Top villas for  Sale in Kondapur<i class=\"icon-chevron-right\"></i></span>,\n",
              " <span>Top apartments for  Sale in Kondapur<i class=\"icon-chevron-right\"></i></span>,\n",
              " <span class=\"path1\"></span>,\n",
              " <span class=\"path2\"></span>,\n",
              " <span class=\"path3\"></span>,\n",
              " <span>Top projects for  Sale in Kondapur</span>,\n",
              " <span class=\"path1\"></span>,\n",
              " <span class=\"path2\"></span>,\n",
              " <span class=\"path3\"></span>,\n",
              " <span class=\"path1\"></span>,\n",
              " <span class=\"path2\"></span>,\n",
              " <span class=\"path3\"></span>,\n",
              " <span>Top popular searches for  Sale in Kondapur</span>,\n",
              " <span class=\"path1\"></span>,\n",
              " <span class=\"path2\"></span>,\n",
              " <span class=\"path3\"></span>,\n",
              " <span class=\"path1\"></span>,\n",
              " <span class=\"path2\"></span>,\n",
              " <span class=\"path3\"></span>,\n",
              " <span class=\"path1\"></span>,\n",
              " <span class=\"path2\"></span>,\n",
              " <span class=\"path3\"></span>,\n",
              " <span>Top projects for  Sale in Maheshwaram<i class=\"icon-chevron-right\"></i></span>,\n",
              " <span>Top popular searches for  Sale in Maheshwaram<i class=\"icon-chevron-right\"></i></span>,\n",
              " <span>Top villas for  Sale in Maheshwaram<i class=\"icon-chevron-right\"></i></span>,\n",
              " <span>Top apartments for  Sale in Maheshwaram<i class=\"icon-chevron-right\"></i></span>,\n",
              " <span class=\"path1\"></span>,\n",
              " <span class=\"path2\"></span>,\n",
              " <span class=\"path3\"></span>,\n",
              " <span>Top projects for  Sale in Maheshwaram</span>,\n",
              " <span class=\"path1\"></span>,\n",
              " <span class=\"path2\"></span>,\n",
              " <span class=\"path3\"></span>,\n",
              " <span>Top popular searches for  Sale in Maheshwaram</span>,\n",
              " <span class=\"path1\"></span>,\n",
              " <span class=\"path2\"></span>,\n",
              " <span class=\"path3\"></span>,\n",
              " <span class=\"path1\"></span>,\n",
              " <span class=\"path2\"></span>,\n",
              " <span class=\"path3\"></span>,\n",
              " <span class=\"path1\"></span>,\n",
              " <span class=\"path2\"></span>,\n",
              " <span class=\"path3\"></span>,\n",
              " <span>Top projects for  Sale in Tellapur<i class=\"icon-chevron-right\"></i></span>,\n",
              " <span>Top builderfloors for  Sale in Tellapur<i class=\"icon-chevron-right\"></i></span>,\n",
              " <span>Top popular searches for  Sale in Tellapur<i class=\"icon-chevron-right\"></i></span>,\n",
              " <span>Top villas for  Sale in Tellapur<i class=\"icon-chevron-right\"></i></span>,\n",
              " <span>Top apartments for  Sale in Tellapur<i class=\"icon-chevron-right\"></i></span>,\n",
              " <span class=\"path1\"></span>,\n",
              " <span class=\"path2\"></span>,\n",
              " <span class=\"path3\"></span>,\n",
              " <span>Top projects for  Sale in Tellapur</span>,\n",
              " <span class=\"path1\"></span>,\n",
              " <span class=\"path2\"></span>,\n",
              " <span class=\"path3\"></span>,\n",
              " <span class=\"path1\"></span>,\n",
              " <span class=\"path2\"></span>,\n",
              " <span class=\"path3\"></span>,\n",
              " <span>Top popular searches for  Sale in Tellapur</span>,\n",
              " <span class=\"path1\"></span>,\n",
              " <span class=\"path2\"></span>,\n",
              " <span class=\"path3\"></span>,\n",
              " <span class=\"path1\"></span>,\n",
              " <span class=\"path2\"></span>,\n",
              " <span class=\"path3\"></span>,\n",
              " <span class=\"path1\"></span>,\n",
              " <span class=\"path2\"></span>,\n",
              " <span class=\"path3\"></span>,\n",
              " <span>Top projects for  Sale in Manikonda<i class=\"icon-chevron-right\"></i></span>,\n",
              " <span>Top builderfloors for  Sale in Manikonda<i class=\"icon-chevron-right\"></i></span>,\n",
              " <span>Top popular searches for  Sale in Manikonda<i class=\"icon-chevron-right\"></i></span>,\n",
              " <span>Top apartments for  Sale in Manikonda<i class=\"icon-chevron-right\"></i></span>,\n",
              " <span>Top villas for  Sale in Manikonda<i class=\"icon-chevron-right\"></i></span>,\n",
              " <span class=\"path1\"></span>,\n",
              " <span class=\"path2\"></span>,\n",
              " <span class=\"path3\"></span>,\n",
              " <span>Top projects for  Sale in Manikonda</span>,\n",
              " <span class=\"path1\"></span>,\n",
              " <span class=\"path2\"></span>,\n",
              " <span class=\"path3\"></span>,\n",
              " <span class=\"path1\"></span>,\n",
              " <span class=\"path2\"></span>,\n",
              " <span class=\"path3\"></span>,\n",
              " <span>Top popular searches for  Sale in Manikonda</span>,\n",
              " <span class=\"path1\"></span>,\n",
              " <span class=\"path2\"></span>,\n",
              " <span class=\"path3\"></span>,\n",
              " <span class=\"path1\"></span>,\n",
              " <span class=\"path2\"></span>,\n",
              " <span class=\"path3\"></span>,\n",
              " <span class=\"path1\"></span>,\n",
              " <span class=\"path2\"></span>,\n",
              " <span class=\"path3\"></span>,\n",
              " <span>Top projects for  Sale in Shadnagar<i class=\"icon-chevron-right\"></i></span>,\n",
              " <span>Top popular searches for  Sale in Shadnagar<i class=\"icon-chevron-right\"></i></span>,\n",
              " <span>Top apartments for  Sale in Shadnagar<i class=\"icon-chevron-right\"></i></span>,\n",
              " <span>Top villas for  Sale in Shadnagar<i class=\"icon-chevron-right\"></i></span>,\n",
              " <span class=\"path1\"></span>,\n",
              " <span class=\"path2\"></span>,\n",
              " <span class=\"path3\"></span>,\n",
              " <span>Top projects for  Sale in Shadnagar</span>,\n",
              " <span class=\"path1\"></span>,\n",
              " <span class=\"path2\"></span>,\n",
              " <span class=\"path3\"></span>,\n",
              " <span>Top popular searches for  Sale in Shadnagar</span>,\n",
              " <span class=\"path1\"></span>,\n",
              " <span class=\"path2\"></span>,\n",
              " <span class=\"path3\"></span>,\n",
              " <span class=\"path1\"></span>,\n",
              " <span class=\"path2\"></span>,\n",
              " <span class=\"path3\"></span>,\n",
              " <span class=\"path1\"></span>,\n",
              " <span class=\"path2\"></span>,\n",
              " <span class=\"path3\"></span>,\n",
              " <span>Top projects for  Sale in Kothur<i class=\"icon-chevron-right\"></i></span>,\n",
              " <span>Top popular searches for  Sale in Kothur<i class=\"icon-chevron-right\"></i></span>,\n",
              " <span>Top villas for  Sale in Kothur<i class=\"icon-chevron-right\"></i></span>,\n",
              " <span>Top apartments for  Sale in Kothur<i class=\"icon-chevron-right\"></i></span>,\n",
              " <span class=\"path1\"></span>,\n",
              " <span class=\"path2\"></span>,\n",
              " <span class=\"path3\"></span>,\n",
              " <span>Top projects for  Sale in Kothur</span>,\n",
              " <span class=\"path1\"></span>,\n",
              " <span class=\"path2\"></span>,\n",
              " <span class=\"path3\"></span>,\n",
              " <span>Top popular searches for  Sale in Kothur</span>,\n",
              " <span class=\"path1\"></span>,\n",
              " <span class=\"path2\"></span>,\n",
              " <span class=\"path3\"></span>,\n",
              " <span class=\"path1\"></span>,\n",
              " <span class=\"path2\"></span>,\n",
              " <span class=\"path3\"></span>,\n",
              " <span class=\"path1\"></span>,\n",
              " <span class=\"path2\"></span>,\n",
              " <span class=\"path3\"></span>,\n",
              " <span>Top projects for  Sale in Miyapur<i class=\"icon-chevron-right\"></i></span>,\n",
              " <span>Top builderfloors for  Sale in Miyapur<i class=\"icon-chevron-right\"></i></span>,\n",
              " <span>Top popular searches for  Sale in Miyapur<i class=\"icon-chevron-right\"></i></span>,\n",
              " <span>Top villas for  Sale in Miyapur<i class=\"icon-chevron-right\"></i></span>,\n",
              " <span>Top apartments for  Sale in Miyapur<i class=\"icon-chevron-right\"></i></span>,\n",
              " <span class=\"path1\"></span>,\n",
              " <span class=\"path2\"></span>,\n",
              " <span class=\"path3\"></span>,\n",
              " <span>Top projects for  Sale in Miyapur</span>,\n",
              " <span class=\"path1\"></span>,\n",
              " <span class=\"path2\"></span>,\n",
              " <span class=\"path3\"></span>,\n",
              " <span class=\"path1\"></span>,\n",
              " <span class=\"path2\"></span>,\n",
              " <span class=\"path3\"></span>,\n",
              " <span>Top popular searches for  Sale in Miyapur</span>,\n",
              " <span class=\"path1\"></span>,\n",
              " <span class=\"path2\"></span>,\n",
              " <span class=\"path3\"></span>,\n",
              " <span class=\"path1\"></span>,\n",
              " <span class=\"path2\"></span>,\n",
              " <span class=\"path3\"></span>,\n",
              " <span class=\"path1\"></span>,\n",
              " <span class=\"path2\"></span>,\n",
              " <span class=\"path3\"></span>,\n",
              " <span>Builders in Hyderabad</span>,\n",
              " <span class=\"path1\"></span>,\n",
              " <span class=\"path2\"></span>,\n",
              " <span class=\"path3\"></span>,\n",
              " <span>Recent Projects</span>,\n",
              " <span class=\"path1\"></span>,\n",
              " <span class=\"path2\"></span>,\n",
              " <span class=\"path3\"></span>,\n",
              " <span>Top Cities</span>,\n",
              " <span>Nearby Cities<i class=\"icon-chevron-right\"></i></span>,\n",
              " <span>Top Cities<i class=\"icon-chevron-right\"></i></span>,\n",
              " <span>Other Top Cities<i class=\"icon-chevron-right\"></i></span>,\n",
              " <span class=\"path1\"></span>,\n",
              " <span class=\"path2\"></span>,\n",
              " <span class=\"path3\"></span>,\n",
              " <span>Nearby Cities</span>,\n",
              " <span class=\"path1\"></span>,\n",
              " <span class=\"path2\"></span>,\n",
              " <span class=\"path3\"></span>,\n",
              " <span>Top Cities</span>,\n",
              " <span class=\"path1\"></span>,\n",
              " <span class=\"path2\"></span>,\n",
              " <span class=\"path3\"></span>,\n",
              " <span>Other Top Cities</span>,\n",
              " <span class=\"path1\"></span>,\n",
              " <span class=\"path2\"></span>,\n",
              " <span class=\"path3\"></span>,\n",
              " <span>Top Builders</span>,\n",
              " <span itemprop=\"name\">home</span>,\n",
              " <span itemprop=\"name\">Property In Hyderabad</span>,\n",
              " <span itemprop=\"name\">properties for sale in Hyderabad</span>,\n",
              " <span>1 BHK Properties in Hyderabad</span>,\n",
              " <span>2 BHK Properties in Hyderabad</span>,\n",
              " <span>3 BHK Properties in Hyderabad</span>,\n",
              " <span>Plots For Sale in Hyderabad</span>,\n",
              " <span>All Residential</span>,\n",
              " <span>â¯</span>,\n",
              " <span class=\"img-ldr\"><i class=\"icon-reset\"><span class=\"path1\"></span><span class=\"path2\"></span><span class=\"path3\"></span><span class=\"path4\"></span></i></span>,\n",
              " <span class=\"path1\"></span>,\n",
              " <span class=\"path2\"></span>,\n",
              " <span class=\"path3\"></span>,\n",
              " <span class=\"path4\"></span>,\n",
              " <span class=\"dot active\"></span>,\n",
              " <span class=\"dot \"></span>,\n",
              " <span class=\"dot \"></span>,\n",
              " <span class=\"dot \"></span>,\n",
              " <span class=\"dot \"></span>,\n",
              " <span class=\"dot \"></span>,\n",
              " <span class=\"highlighter-badge\"></span>,\n",
              " <span itemprop=\"name\">Vessella Group</span>,\n",
              " <span class=\"seller-type\">BUILDER</span>,\n",
              " <span class=\"val\">4 </span>,\n",
              " <span>BHK </span>,\n",
              " <span>Villa</span>,\n",
              " <span class=\"project-wrap\"> in <strong><a class=\"projName\" data-link-name=\"Vessella Meadows\" data-link-type=\"project overview\" data-track-label=\"14826366_1_658184_select\" data-type=\"projName\" href=\"https://www.makaan.com/hyderabad/vessella-group-meadows-in-narsingi-658184\" target=\"_blank\" title=\"Go to Vessella Meadows\"><span>Vessella Meadows</span></a></strong></span>,\n",
              " <span>Vessella Meadows</span>,\n",
              " <span><span itemprop=\"address\" itemscope=\"\" itemtype=\"http://schema.org/PostalAddress\" title=\"Buy property in Narsingi Hyderabad\"><span class=\"locName\"><a class=\"loclink\" data-link-name=\"Narsingi Hyderabad\" data-link-type=\"locality buy serp\" data-type=\"localityName\" href=\"https://www.makaan.com/hyderabad-property/narsingi-flats-for-sale-51200\" itemprop=\"url\" target=\"_blank\"><span itemprop=\"addressLocality\"><strong>Narsingi</strong></span>, <span class=\"cityName\" itemprop=\"addressRegion\">Hyderabad</span></a></span></span></span>,\n",
              " <span itemprop=\"address\" itemscope=\"\" itemtype=\"http://schema.org/PostalAddress\" title=\"Buy property in Narsingi Hyderabad\"><span class=\"locName\"><a class=\"loclink\" data-link-name=\"Narsingi Hyderabad\" data-link-type=\"locality buy serp\" data-type=\"localityName\" href=\"https://www.makaan.com/hyderabad-property/narsingi-flats-for-sale-51200\" itemprop=\"url\" target=\"_blank\"><span itemprop=\"addressLocality\"><strong>Narsingi</strong></span>, <span class=\"cityName\" itemprop=\"addressRegion\">Hyderabad</span></a></span></span>,\n",
              " <span class=\"locName\"><a class=\"loclink\" data-link-name=\"Narsingi Hyderabad\" data-link-type=\"locality buy serp\" data-type=\"localityName\" href=\"https://www.makaan.com/hyderabad-property/narsingi-flats-for-sale-51200\" itemprop=\"url\" target=\"_blank\"><span itemprop=\"addressLocality\"><strong>Narsingi</strong></span>, <span class=\"cityName\" itemprop=\"addressRegion\">Hyderabad</span></a></span>,\n",
              " <span itemprop=\"addressLocality\"><strong>Narsingi</strong></span>,\n",
              " <span class=\"cityName\" itemprop=\"addressRegion\">Hyderabad</span>,\n",
              " <span class=\"val\" itemprop=\"offers\" itemscope=\"\" itemtype=\"http://schema.org/Offer\"><meta content=\"https://www.makaan.com/hyderabad/vessella-group-meadows-in-narsingi-14826366/4bhk-2929-sqft-villa\" itemprop=\"url\"/><meta content=\"46864000 \" itemprop=\"price\"/><meta content=\"INR\" itemprop=\"priceCurrency\"/>4.68</span>,\n",
              " <span class=\"unit\"> Cr</span>,\n",
              " <span class=\"val\">2929 </span>,\n",
              " <span><strong><span>Possession by Jan 2023</span></strong></span>,\n",
              " <span>Possession by Jan 2023</span>,\n",
              " <span>New </span>,\n",
              " <span>4 BHK Property for Sale in Narsingi Hyderabad</span>,\n",
              " <span class=\"favbtn serpfavd\" data-id=\"14826366\" data-lazymodule=\"shortlist\" data-type=\"fav-btn\" id=\"shortlist-14826366\" title=\"shortlist this property\"><script type=\"text/x-config\">{\"listingId\":14826366,\"dataAwaited\": true}</script><i class=\"icon-makaan\"></i><i class=\"icon-makaanfill\"></i></span>,\n",
              " <span class=\"serpShare shareitem\" data-type=\"social-share\" data-url=\"https://www.makaan.com/hyderabad/vessella-group-meadows-in-narsingi-14826366/4bhk-2929-sqft-villa\" title=\"share\"><i class=\"icon-share\"></i></span>,\n",
              " <span class=\"img-ldr\"><i class=\"icon-reset\"><span class=\"path1\"></span><span class=\"path2\"></span><span class=\"path3\"></span><span class=\"path4\"></span></i></span>,\n",
              " <span class=\"path1\"></span>,\n",
              " <span class=\"path2\"></span>,\n",
              " <span class=\"path3\"></span>,\n",
              " <span class=\"path4\"></span>,\n",
              " <span class=\"dot active\"></span>,\n",
              " <span class=\"dot \"></span>,\n",
              " <span class=\"dot \"></span>,\n",
              " <span class=\"dot \"></span>,\n",
              " <span class=\"dot \"></span>,\n",
              " <span class=\"dot \"></span>,\n",
              " <span class=\"highlighter-badge\"></span>,\n",
              " <span itemprop=\"name\">Anuhar Homes Pvt Ltd</span>,\n",
              " <span class=\"seller-type\">BUILDER</span>,\n",
              " <span class=\"val\">3 </span>,\n",
              " <span>BHK </span>,\n",
              " <span>Apartment</span>,\n",
              " <span class=\"project-wrap\"> in <strong><a class=\"projName\" data-link-name=\"Anuhar Rami Reddy Towers\" data-link-type=\"project overview\" data-track-label=\"14634762_2_1706361_select\" data-type=\"projName\" href=\"https://www.makaan.com/hyderabad/anuhar-homes-rami-reddy-towers-in-manikonda-1706361\" target=\"_blank\" title=\"Go to Anuhar Rami Reddy Towers\"><span>Anuhar Rami Reddy Towers</span></a></strong></span>,\n",
              " <span>Anuhar Rami Reddy Towers</span>,\n",
              " <span><span itemprop=\"address\" itemscope=\"\" itemtype=\"http://schema.org/PostalAddress\" title=\"Buy property in Manikonda Hyderabad\"><span class=\"locName\"><a class=\"loclink\" data-link-name=\"Manikonda Hyderabad\" data-link-type=\"locality buy serp\" data-type=\"localityName\" href=\"https://www.makaan.com/hyderabad-property/manikonda-flats-for-sale-51943\" itemprop=\"url\" target=\"_blank\"><span itemprop=\"addressLocality\"><strong>Manikonda</strong></span>, <span class=\"cityName\" itemprop=\"addressRegion\">Hyderabad</span></a></span></span></span>,\n",
              " <span itemprop=\"address\" itemscope=\"\" itemtype=\"http://schema.org/PostalAddress\" title=\"Buy property in Manikonda Hyderabad\"><span class=\"locName\"><a class=\"loclink\" data-link-name=\"Manikonda Hyderabad\" data-link-type=\"locality buy serp\" data-type=\"localityName\" href=\"https://www.makaan.com/hyderabad-property/manikonda-flats-for-sale-51943\" itemprop=\"url\" target=\"_blank\"><span itemprop=\"addressLocality\"><strong>Manikonda</strong></span>, <span class=\"cityName\" itemprop=\"addressRegion\">Hyderabad</span></a></span></span>,\n",
              " <span class=\"locName\"><a class=\"loclink\" data-link-name=\"Manikonda Hyderabad\" data-link-type=\"locality buy serp\" data-type=\"localityName\" href=\"https://www.makaan.com/hyderabad-property/manikonda-flats-for-sale-51943\" itemprop=\"url\" target=\"_blank\"><span itemprop=\"addressLocality\"><strong>Manikonda</strong></span>, <span class=\"cityName\" itemprop=\"addressRegion\">Hyderabad</span></a></span>,\n",
              " <span itemprop=\"addressLocality\"><strong>Manikonda</strong></span>,\n",
              " <span class=\"cityName\" itemprop=\"addressRegion\">Hyderabad</span>,\n",
              " <span class=\"val\" itemprop=\"offers\" itemscope=\"\" itemtype=\"http://schema.org/Offer\"><meta content=\"https://www.makaan.com/hyderabad/anuhar-homes-rami-reddy-towers-in-manikonda-14634762/3bhk-2810-sqft-apartment\" itemprop=\"url\"/><meta content=\"16014190 \" itemprop=\"price\"/><meta content=\"INR\" itemprop=\"priceCurrency\"/>1.6</span>,\n",
              " <span class=\"unit\"> Cr</span>,\n",
              " <span class=\"val\">2810 </span>,\n",
              " <span><strong><span>Possession by Aug 2022</span></strong></span>,\n",
              " <span>Possession by Aug 2022</span>,\n",
              " <span>New </span>,\n",
              " <span>3 BHK Property for Sale in Manikonda Hyderabad</span>,\n",
              " <span class=\"favbtn serpfavd\" data-id=\"14634762\" data-lazymodule=\"shortlist\" data-type=\"fav-btn\" id=\"shortlist-14634762\" title=\"shortlist this property\"><script type=\"text/x-config\">{\"listingId\":14634762,\"dataAwaited\": true}</script><i class=\"icon-makaan\"></i><i class=\"icon-makaanfill\"></i></span>,\n",
              " <span class=\"serpShare shareitem\" data-type=\"social-share\" data-url=\"https://www.makaan.com/hyderabad/anuhar-homes-rami-reddy-towers-in-manikonda-14634762/3bhk-2810-sqft-apartment\" title=\"share\"><i class=\"icon-share\"></i></span>,\n",
              " <span class=\"img-ldr\"><i class=\"icon-reset\"><span class=\"path1\"></span><span class=\"path2\"></span><span class=\"path3\"></span><span class=\"path4\"></span></i></span>,\n",
              " <span class=\"path1\"></span>,\n",
              " <span class=\"path2\"></span>,\n",
              " <span class=\"path3\"></span>,\n",
              " <span class=\"path4\"></span>,\n",
              " <span class=\"dot active\"></span>,\n",
              " <span class=\"dot \"></span>,\n",
              " <span class=\"dot \"></span>,\n",
              " <span class=\"dot \"></span>,\n",
              " <span class=\"dot \"></span>,\n",
              " <span class=\"dot \"></span>,\n",
              " <span class=\"initial\" style=\"color:#fff;\">S</span>,\n",
              " <span class=\"highlighter-badge\"></span>,\n",
              " <span itemprop=\"name\">Salarpuria Sattva</span>,\n",
              " <span class=\"seller-type\">BUILDER</span>,\n",
              " <span class=\"val\">2 </span>,\n",
              " <span>BHK </span>,\n",
              " <span>Apartment</span>,\n",
              " <span class=\"project-wrap\"> in <strong><a class=\"projName\" data-link-name=\"Salarpuria Magnus\" data-link-type=\"project overview\" data-track-label=\"14561088_3_1312102_select\" data-type=\"projName\" href=\"https://www.makaan.com/hyderabad/salarpuria-sattva-group-magnus-in-shaikpet-1312102\" target=\"_blank\" title=\"Go to Salarpuria Magnus\"><span>Salarpuria Magnus</span></a></strong></span>,\n",
              " <span>Salarpuria Magnus</span>,\n",
              " <span><span itemprop=\"address\" itemscope=\"\" itemtype=\"http://schema.org/PostalAddress\" title=\"Buy property in Shaikpet Hyderabad\"><span class=\"locName\"><a class=\"loclink\" data-link-name=\"Shaikpet Hyderabad\" data-link-type=\"locality buy serp\" data-type=\"localityName\" href=\"https://www.makaan.com/hyderabad-property/shaikpet-flats-for-sale-52138\" itemprop=\"url\" target=\"_blank\"><span itemprop=\"addressLocality\"><strong>Shaikpet</strong></span>, <span class=\"cityName\" itemprop=\"addressRegion\">Hyderabad</span></a></span></span></span>,\n",
              " <span itemprop=\"address\" itemscope=\"\" itemtype=\"http://schema.org/PostalAddress\" title=\"Buy property in Shaikpet Hyderabad\"><span class=\"locName\"><a class=\"loclink\" data-link-name=\"Shaikpet Hyderabad\" data-link-type=\"locality buy serp\" data-type=\"localityName\" href=\"https://www.makaan.com/hyderabad-property/shaikpet-flats-for-sale-52138\" itemprop=\"url\" target=\"_blank\"><span itemprop=\"addressLocality\"><strong>Shaikpet</strong></span>, <span class=\"cityName\" itemprop=\"addressRegion\">Hyderabad</span></a></span></span>,\n",
              " <span class=\"locName\"><a class=\"loclink\" data-link-name=\"Shaikpet Hyderabad\" data-link-type=\"locality buy serp\" data-type=\"localityName\" href=\"https://www.makaan.com/hyderabad-property/shaikpet-flats-for-sale-52138\" itemprop=\"url\" target=\"_blank\"><span itemprop=\"addressLocality\"><strong>Shaikpet</strong></span>, <span class=\"cityName\" itemprop=\"addressRegion\">Hyderabad</span></a></span>,\n",
              " <span itemprop=\"addressLocality\"><strong>Shaikpet</strong></span>,\n",
              " <span class=\"cityName\" itemprop=\"addressRegion\">Hyderabad</span>,\n",
              " <span class=\"val\" itemprop=\"offers\" itemscope=\"\" itemtype=\"http://schema.org/Offer\"><meta content=\"https://www.makaan.com/hyderabad/salarpuria-sattva-group-magnus-in-shaikpet-14561088/2bhk-2t-1495-sqft-apartment\" itemprop=\"url\"/><meta content=\"14300000 \" itemprop=\"price\"/><meta content=\"INR\" itemprop=\"priceCurrency\"/>1.43</span>,\n",
              " <span class=\"unit\"> Cr</span>,\n",
              " <span class=\"val\">1495 </span>,\n",
              " <span>0 - 1 year old</span>,\n",
              " <span>2 Bathrooms</span>,\n",
              " <span>New </span>,\n",
              " <span>2 BHK Property for Sale in Shaikpet Hyderabad</span>,\n",
              " <span class=\"favbtn serpfavd\" data-id=\"14561088\" data-lazymodule=\"shortlist\" data-type=\"fav-btn\" id=\"shortlist-14561088\" title=\"shortlist this property\"><script type=\"text/x-config\">{\"listingId\":14561088,\"dataAwaited\": true}</script><i class=\"icon-makaan\"></i><i class=\"icon-makaanfill\"></i></span>,\n",
              " <span class=\"serpShare shareitem\" data-type=\"social-share\" data-url=\"https://www.makaan.com/hyderabad/salarpuria-sattva-group-magnus-in-shaikpet-14561088/2bhk-2t-1495-sqft-apartment\" title=\"share\"><i class=\"icon-share\"></i></span>,\n",
              " <span class=\"dark\">Event </span>,\n",
              " <span class=\"light\"> this month </span>,\n",
              " <span class=\"img-ldr\"><i class=\"icon-reset\"><span class=\"path1\"></span><span class=\"path2\"></span><span class=\"path3\"></span><span class=\"path4\"></span></i></span>,\n",
              " <span class=\"path1\"></span>,\n",
              " <span class=\"path2\"></span>,\n",
              " <span class=\"path3\"></span>,\n",
              " <span class=\"path4\"></span>,\n",
              " <span class=\"dot active\"></span>,\n",
              " <span class=\"dot \"></span>,\n",
              " <span class=\"dot \"></span>,\n",
              " <span class=\"dot \"></span>,\n",
              " <span class=\"dot \"></span>,\n",
              " <span class=\"dot \"></span>,\n",
              " <span class=\"highlighter-badge\"></span>,\n",
              " <span itemprop=\"name\">Risinia Builders</span>,\n",
              " <span class=\"seller-type\">BUILDER</span>,\n",
              " <span class=\"val\">2 </span>,\n",
              " <span>BHK </span>,\n",
              " <span>Apartment</span>,\n",
              " <span class=\"project-wrap\"> in <strong><span class=\"projName\">Risinia Trendilla</span></strong></span>,\n",
              " <span class=\"projName\">Risinia Trendilla</span>,\n",
              " <span><span itemprop=\"address\" itemscope=\"\" itemtype=\"http://schema.org/PostalAddress\" title=\"Buy property in Bachupally Hyderabad\"><span class=\"locName\"><a class=\"loclink\" data-link-name=\"Bachupally Hyderabad\" data-link-type=\"locality buy serp\" data-type=\"localityName\" href=\"https://www.makaan.com/hyderabad-property/bachupally-flats-for-sale-50400\" itemprop=\"url\" target=\"_blank\"><span itemprop=\"addressLocality\"><strong>Bachupally</strong></span>, <span class=\"cityName\" itemprop=\"addressRegion\">Hyderabad</span></a></span></span></span>,\n",
              " <span itemprop=\"address\" itemscope=\"\" itemtype=\"http://schema.org/PostalAddress\" title=\"Buy property in Bachupally Hyderabad\"><span class=\"locName\"><a class=\"loclink\" data-link-name=\"Bachupally Hyderabad\" data-link-type=\"locality buy serp\" data-type=\"localityName\" href=\"https://www.makaan.com/hyderabad-property/bachupally-flats-for-sale-50400\" itemprop=\"url\" target=\"_blank\"><span itemprop=\"addressLocality\"><strong>Bachupally</strong></span>, <span class=\"cityName\" itemprop=\"addressRegion\">Hyderabad</span></a></span></span>,\n",
              " <span class=\"locName\"><a class=\"loclink\" data-link-name=\"Bachupally Hyderabad\" data-link-type=\"locality buy serp\" data-type=\"localityName\" href=\"https://www.makaan.com/hyderabad-property/bachupally-flats-for-sale-50400\" itemprop=\"url\" target=\"_blank\"><span itemprop=\"addressLocality\"><strong>Bachupally</strong></span>, <span class=\"cityName\" itemprop=\"addressRegion\">Hyderabad</span></a></span>,\n",
              " <span itemprop=\"addressLocality\"><strong>Bachupally</strong></span>,\n",
              " <span class=\"cityName\" itemprop=\"addressRegion\">Hyderabad</span>,\n",
              " <span class=\"val\" itemprop=\"offers\" itemscope=\"\" itemtype=\"http://schema.org/Offer\"><meta content=\"https://www.makaan.com/hyderabad/risinia-builders-trendilla-in-bachupally-9836003/2bhk-1295-sqft-apartment\" itemprop=\"url\"/><meta content=\"5698000 \" itemprop=\"price\"/><meta content=\"INR\" itemprop=\"priceCurrency\"/>56.98</span>,\n",
              " <span class=\"unit\"> L</span>,\n",
              " <span class=\"val\">1295 </span>,\n",
              " <span><strong><span>Possession by Nov 2021</span></strong></span>,\n",
              " <span>Possession by Nov 2021</span>,\n",
              " <span>New </span>,\n",
              " <span class=\"favbtn serpfavd\" data-id=\"9836003\" data-lazymodule=\"shortlist\" data-type=\"fav-btn\" id=\"shortlist-9836003\" title=\"shortlist this property\"><script type=\"text/x-config\">{\"listingId\":9836003,\"dataAwaited\": true}</script><i class=\"icon-makaan\"></i><i class=\"icon-makaanfill\"></i></span>,\n",
              " <span class=\"serpShare shareitem\" data-type=\"social-share\" data-url=\"https://www.makaan.com/hyderabad/risinia-builders-trendilla-in-bachupally-9836003/2bhk-1295-sqft-apartment\" title=\"share\"><i class=\"icon-share\"></i></span>,\n",
              " <span class=\"img-ldr\"><i class=\"icon-reset\"><span class=\"path1\"></span><span class=\"path2\"></span><span class=\"path3\"></span><span class=\"path4\"></span></i></span>,\n",
              " <span class=\"path1\"></span>,\n",
              " <span class=\"path2\"></span>,\n",
              " <span class=\"path3\"></span>,\n",
              " <span class=\"path4\"></span>,\n",
              " <span class=\"dot active\"></span>,\n",
              " <span class=\"dot \"></span>,\n",
              " <span class=\"dot \"></span>,\n",
              " <span class=\"dot \"></span>,\n",
              " <span class=\"dot \"></span>,\n",
              " <span class=\"dot \"></span>,\n",
              " <span class=\"highlighter-badge\"></span>,\n",
              " <span itemprop=\"name\">Suchirindia Constructions Pvt Ltd</span>,\n",
              " <span class=\"seller-type\">BUILDER</span>,\n",
              " <span class=\"val\">2 </span>,\n",
              " <span>BHK </span>,\n",
              " <span>Apartment</span>,\n",
              " <span class=\"project-wrap\"> in <strong><a class=\"projName\" data-link-name=\"Suchirindia The Tales of Greek\" data-link-type=\"project overview\" data-track-label=\"14256412_5_3090106_select\" data-type=\"projName\" href=\"https://www.makaan.com/hyderabad/suchirindia-constructions-pvt-ltd-the-tales-of-greek-in-shamshabad-3090106\" target=\"_blank\" title=\"Go to Suchirindia The Tales of Greek\"><span>Suchirindia The Tales of Greek</span></a></strong></span>,\n",
              " <span>Suchirindia The Tales of Greek</span>,\n",
              " <span><span itemprop=\"address\" itemscope=\"\" itemtype=\"http://schema.org/PostalAddress\" title=\"Buy property in Shamshabad Hyderabad\"><span class=\"locName\"><a class=\"loclink\" data-link-name=\"Shamshabad Hyderabad\" data-link-type=\"locality buy serp\" data-type=\"localityName\" href=\"https://www.makaan.com/hyderabad-property/shamshabad-flats-for-sale-51633\" itemprop=\"url\" target=\"_blank\"><span itemprop=\"addressLocality\"><strong>Shamshabad</strong></span>, <span class=\"cityName\" itemprop=\"addressRegion\">Hyderabad</span></a></span></span></span>,\n",
              " <span itemprop=\"address\" itemscope=\"\" itemtype=\"http://schema.org/PostalAddress\" title=\"Buy property in Shamshabad Hyderabad\"><span class=\"locName\"><a class=\"loclink\" data-link-name=\"Shamshabad Hyderabad\" data-link-type=\"locality buy serp\" data-type=\"localityName\" href=\"https://www.makaan.com/hyderabad-property/shamshabad-flats-for-sale-51633\" itemprop=\"url\" target=\"_blank\"><span itemprop=\"addressLocality\"><strong>Shamshabad</strong></span>, <span class=\"cityName\" itemprop=\"addressRegion\">Hyderabad</span></a></span></span>,\n",
              " <span class=\"locName\"><a class=\"loclink\" data-link-name=\"Shamshabad Hyderabad\" data-link-type=\"locality buy serp\" data-type=\"localityName\" href=\"https://www.makaan.com/hyderabad-property/shamshabad-flats-for-sale-51633\" itemprop=\"url\" target=\"_blank\"><span itemprop=\"addressLocality\"><strong>Shamshabad</strong></span>, <span class=\"cityName\" itemprop=\"addressRegion\">Hyderabad</span></a></span>,\n",
              " <span itemprop=\"addressLocality\"><strong>Shamshabad</strong></span>,\n",
              " <span class=\"cityName\" itemprop=\"addressRegion\">Hyderabad</span>,\n",
              " <span class=\"val\" itemprop=\"offers\" itemscope=\"\" itemtype=\"http://schema.org/Offer\"><meta content=\"https://www.makaan.com/hyderabad/suchirindia-constructions-pvt-ltd-the-tales-of-greek-in-shamshabad-14256412/2bhk-890-sqft-apartment\" itemprop=\"url\"/><meta content=\"4360110 \" itemprop=\"price\"/><meta content=\"INR\" itemprop=\"priceCurrency\"/>43.6</span>,\n",
              " <span class=\"unit\"> L</span>,\n",
              " <span class=\"val\">890 </span>,\n",
              " <span><strong><span>Possession by Jan 2025</span></strong></span>,\n",
              " <span>Possession by Jan 2025</span>,\n",
              " <span>New </span>,\n",
              " <span>2 BHK Property for Sale in Shamshabad Hyderabad</span>,\n",
              " <span class=\"favbtn serpfavd\" data-id=\"14256412\" data-lazymodule=\"shortlist\" data-type=\"fav-btn\" id=\"shortlist-14256412\" title=\"shortlist this property\"><script type=\"text/x-config\">{\"listingId\":14256412,\"dataAwaited\": true}</script><i class=\"icon-makaan\"></i><i class=\"icon-makaanfill\"></i></span>,\n",
              " <span class=\"serpShare shareitem\" data-type=\"social-share\" data-url=\"https://www.makaan.com/hyderabad/suchirindia-constructions-pvt-ltd-the-tales-of-greek-in-shamshabad-14256412/2bhk-890-sqft-apartment\" title=\"share\"><i class=\"icon-share\"></i></span>,\n",
              " <span class=\"img-ldr\"><i class=\"icon-reset\"><span class=\"path1\"></span><span class=\"path2\"></span><span class=\"path3\"></span><span class=\"path4\"></span></i></span>,\n",
              " <span class=\"path1\"></span>,\n",
              " <span class=\"path2\"></span>,\n",
              " <span class=\"path3\"></span>,\n",
              " <span class=\"path4\"></span>,\n",
              " <span class=\"dot active\"></span>,\n",
              " <span class=\"dot \"></span>,\n",
              " <span class=\"dot \"></span>,\n",
              " <span class=\"dot \"></span>,\n",
              " <span class=\"dot \"></span>,\n",
              " <span class=\"dot \"></span>,\n",
              " <span class=\"highlighter-badge\"></span>,\n",
              " <span itemprop=\"name\">Aakriti Constructions and Developers Pvt Ltd</span>,\n",
              " <span class=\"seller-type\">BUILDER</span>,\n",
              " <span class=\"val\">3 </span>,\n",
              " <span>BHK </span>,\n",
              " <span>Apartment</span>,\n",
              " <span class=\"project-wrap\"> in <strong><a class=\"projName\" data-link-name=\"Aakriti Esta\" data-link-type=\"project overview\" data-track-label=\"14174529_6_1721481_select\" data-type=\"projName\" href=\"https://www.makaan.com/hyderabad/aakriti-housing-esta-in-tellapur-1721481\" target=\"_blank\" title=\"Go to Aakriti Esta\"><span>Aakriti Esta</span></a></strong></span>,\n",
              " <span>Aakriti Esta</span>,\n",
              " <span><span itemprop=\"address\" itemscope=\"\" itemtype=\"http://schema.org/PostalAddress\" title=\"Buy property in Tellapur Hyderabad\"><span class=\"locName\"><a class=\"loclink\" data-link-name=\"Tellapur Hyderabad\" data-link-type=\"locality buy serp\" data-type=\"localityName\" href=\"https://www.makaan.com/hyderabad-property/tellapur-flats-for-sale-52122\" itemprop=\"url\" target=\"_blank\"><span itemprop=\"addressLocality\"><strong>Tellapur</strong></span>, <span class=\"cityName\" itemprop=\"addressRegion\">Hyderabad</span></a></span></span></span>,\n",
              " <span itemprop=\"address\" itemscope=\"\" itemtype=\"http://schema.org/PostalAddress\" title=\"Buy property in Tellapur Hyderabad\"><span class=\"locName\"><a class=\"loclink\" data-link-name=\"Tellapur Hyderabad\" data-link-type=\"locality buy serp\" data-type=\"localityName\" href=\"https://www.makaan.com/hyderabad-property/tellapur-flats-for-sale-52122\" itemprop=\"url\" target=\"_blank\"><span itemprop=\"addressLocality\"><strong>Tellapur</strong></span>, <span class=\"cityName\" itemprop=\"addressRegion\">Hyderabad</span></a></span></span>,\n",
              " <span class=\"locName\"><a class=\"loclink\" data-link-name=\"Tellapur Hyderabad\" data-link-type=\"locality buy serp\" data-type=\"localityName\" href=\"https://www.makaan.com/hyderabad-property/tellapur-flats-for-sale-52122\" itemprop=\"url\" target=\"_blank\"><span itemprop=\"addressLocality\"><strong>Tellapur</strong></span>, <span class=\"cityName\" itemprop=\"addressRegion\">Hyderabad</span></a></span>,\n",
              " <span itemprop=\"addressLocality\"><strong>Tellapur</strong></span>,\n",
              " <span class=\"cityName\" itemprop=\"addressRegion\">Hyderabad</span>,\n",
              " <span class=\"val\" itemprop=\"offers\" itemscope=\"\" itemtype=\"http://schema.org/Offer\"><meta content=\"https://www.makaan.com/hyderabad/aakriti-housing-esta-in-tellapur-14174529/3bhk-1431-sqft-apartment\" itemprop=\"url\"/><meta content=\"6582600 \" itemprop=\"price\"/><meta content=\"INR\" itemprop=\"priceCurrency\"/>65.82</span>,\n",
              " <span class=\"unit\"> L</span>,\n",
              " <span class=\"val\">1431 </span>,\n",
              " <span><strong><span>Possession by Nov 2022</span></strong></span>,\n",
              " <span>Possession by Nov 2022</span>,\n",
              " <span>New </span>,\n",
              " <span>3 BHK Property for Sale in Tellapur Hyderabad</span>,\n",
              " <span class=\"favbtn serpfavd\" data-id=\"14174529\" data-lazymodule=\"shortlist\" data-type=\"fav-btn\" id=\"shortlist-14174529\" title=\"shortlist this property\"><script type=\"text/x-config\">{\"listingId\":14174529,\"dataAwaited\": true}</script><i class=\"icon-makaan\"></i><i class=\"icon-makaanfill\"></i></span>,\n",
              " <span class=\"serpShare shareitem\" data-type=\"social-share\" data-url=\"https://www.makaan.com/hyderabad/aakriti-housing-esta-in-tellapur-14174529/3bhk-1431-sqft-apartment\" title=\"share\"><i class=\"icon-share\"></i></span>,\n",
              " <span class=\"highlighter-badge\"></span>,\n",
              " <span itemprop=\"name\">Ramireddy Constructions</span>,\n",
              " <span class=\"seller-type\">BUILDER</span>,\n",
              " <span class=\"val\">2 </span>,\n",
              " <span>BHK </span>,\n",
              " <span>Apartment</span>,\n",
              " <span class=\"project-wrap\"> in <strong><a class=\"projName\" data-link-name=\"Rami Reddy Laxmi Ram Haran\" data-link-type=\"project overview\" data-track-label=\"14165412_7_3027173_select\" data-type=\"projName\" href=\"https://www.makaan.com/hyderabad/rami-reddy-laxmi-ram-haran-in-attapur-3027173\" target=\"_blank\" title=\"Go to Rami Reddy Laxmi Ram Haran\"><span>Rami Reddy Laxmi Ram Haran</span></a></strong></span>,\n",
              " <span>Rami Reddy Laxmi Ram Haran</span>,\n",
              " <span><span itemprop=\"address\" itemscope=\"\" itemtype=\"http://schema.org/PostalAddress\" title=\"Buy property in Attapur Hyderabad\"><span class=\"locName\"><a class=\"loclink\" data-link-name=\"Attapur Hyderabad\" data-link-type=\"locality buy serp\" data-type=\"localityName\" href=\"https://www.makaan.com/hyderabad-property/attapur-flats-for-sale-51240\" itemprop=\"url\" target=\"_blank\"><span itemprop=\"addressLocality\"><strong>Attapur</strong></span>, <span class=\"cityName\" itemprop=\"addressRegion\">Hyderabad</span></a></span></span></span>,\n",
              " <span itemprop=\"address\" itemscope=\"\" itemtype=\"http://schema.org/PostalAddress\" title=\"Buy property in Attapur Hyderabad\"><span class=\"locName\"><a class=\"loclink\" data-link-name=\"Attapur Hyderabad\" data-link-type=\"locality buy serp\" data-type=\"localityName\" href=\"https://www.makaan.com/hyderabad-property/attapur-flats-for-sale-51240\" itemprop=\"url\" target=\"_blank\"><span itemprop=\"addressLocality\"><strong>Attapur</strong></span>, <span class=\"cityName\" itemprop=\"addressRegion\">Hyderabad</span></a></span></span>,\n",
              " <span class=\"locName\"><a class=\"loclink\" data-link-name=\"Attapur Hyderabad\" data-link-type=\"locality buy serp\" data-type=\"localityName\" href=\"https://www.makaan.com/hyderabad-property/attapur-flats-for-sale-51240\" itemprop=\"url\" target=\"_blank\"><span itemprop=\"addressLocality\"><strong>Attapur</strong></span>, <span class=\"cityName\" itemprop=\"addressRegion\">Hyderabad</span></a></span>,\n",
              " <span itemprop=\"addressLocality\"><strong>Attapur</strong></span>,\n",
              " <span class=\"cityName\" itemprop=\"addressRegion\">Hyderabad</span>,\n",
              " <span class=\"val\" itemprop=\"offers\" itemscope=\"\" itemtype=\"http://schema.org/Offer\"><meta content=\"https://www.makaan.com/hyderabad/rami-reddy-laxmi-ram-haran-in-attapur-14165412/2bhk-1173-sqft-apartment\" itemprop=\"url\"/><meta content=\"7626255 \" itemprop=\"price\"/><meta content=\"INR\" itemprop=\"priceCurrency\"/>76.26</span>,\n",
              " <span class=\"unit\"> L</span>,\n",
              " <span class=\"val\">1173 </span>,\n",
              " <span><strong><span>Possession by Nov 2025</span></strong></span>,\n",
              " <span>Possession by Nov 2025</span>,\n",
              " <span>New </span>,\n",
              " <span>2 BHK Property for Sale in Attapur Hyderabad</span>,\n",
              " <span class=\"favbtn serpfavd\" data-id=\"14165412\" data-lazymodule=\"shortlist\" data-type=\"fav-btn\" id=\"shortlist-14165412\" title=\"shortlist this property\"><script type=\"text/x-config\">{\"listingId\":14165412,\"dataAwaited\": true}</script><i class=\"icon-makaan\"></i><i class=\"icon-makaanfill\"></i></span>,\n",
              " <span class=\"serpShare shareitem\" data-type=\"social-share\" data-url=\"https://www.makaan.com/hyderabad/rami-reddy-laxmi-ram-haran-in-attapur-14165412/2bhk-1173-sqft-apartment\" title=\"share\"><i class=\"icon-share\"></i></span>,\n",
              " <span class=\"img-ldr\"><i class=\"icon-reset\"><span class=\"path1\"></span><span class=\"path2\"></span><span class=\"path3\"></span><span class=\"path4\"></span></i></span>,\n",
              " <span class=\"path1\"></span>,\n",
              " <span class=\"path2\"></span>,\n",
              " <span class=\"path3\"></span>,\n",
              " <span class=\"path4\"></span>,\n",
              " <span class=\"dot active\"></span>,\n",
              " <span class=\"dot \"></span>,\n",
              " <span class=\"dot \"></span>,\n",
              " <span class=\"dot \"></span>,\n",
              " <span class=\"dot \"></span>,\n",
              " <span class=\"dot \"></span>,\n",
              " <span class=\"initial\" style=\"color:#fff;\">O</span>,\n",
              " <span class=\"highlighter-badge\"></span>,\n",
              " <span itemprop=\"name\">Om Sree Builders And Developers</span>,\n",
              " <span class=\"seller-type\">BUILDER</span>,\n",
              " <span class=\"val\">3 </span>,\n",
              " <span>BHK </span>,\n",
              " <span>Apartment</span>,\n",
              " <span class=\"project-wrap\"> in <strong><a class=\"projName\" data-link-name=\"Om Sree Brilliance\" data-link-type=\"project overview\" data-track-label=\"14001479_8_3038109_select\" data-type=\"projName\" href=\"https://www.makaan.com/hyderabad/om-sree-builders-brilliance-in-sainikpuri-3038109\" target=\"_blank\" title=\"Go to Om Sree Brilliance\"><span>Om Sree Brilliance</span></a></strong></span>,\n",
              " <span>Om Sree Brilliance</span>,\n",
              " <span><span itemprop=\"address\" itemscope=\"\" itemtype=\"http://schema.org/PostalAddress\" title=\"Buy property in Sainikpuri Hyderabad\"><span class=\"locName\"><a class=\"loclink\" data-link-name=\"Sainikpuri Hyderabad\" data-link-type=\"locality buy serp\" data-type=\"localityName\" href=\"https://www.makaan.com/hyderabad-property/sainikpuri-flats-for-sale-50389\" itemprop=\"url\" target=\"_blank\"><span itemprop=\"addressLocality\"><strong>Sainikpuri</strong></span>, <span class=\"cityName\" itemprop=\"addressRegion\">Hyderabad</span></a></span></span></span>,\n",
              " <span itemprop=\"address\" itemscope=\"\" itemtype=\"http://schema.org/PostalAddress\" title=\"Buy property in Sainikpuri Hyderabad\"><span class=\"locName\"><a class=\"loclink\" data-link-name=\"Sainikpuri Hyderabad\" data-link-type=\"locality buy serp\" data-type=\"localityName\" href=\"https://www.makaan.com/hyderabad-property/sainikpuri-flats-for-sale-50389\" itemprop=\"url\" target=\"_blank\"><span itemprop=\"addressLocality\"><strong>Sainikpuri</strong></span>, <span class=\"cityName\" itemprop=\"addressRegion\">Hyderabad</span></a></span></span>,\n",
              " <span class=\"locName\"><a class=\"loclink\" data-link-name=\"Sainikpuri Hyderabad\" data-link-type=\"locality buy serp\" data-type=\"localityName\" href=\"https://www.makaan.com/hyderabad-property/sainikpuri-flats-for-sale-50389\" itemprop=\"url\" target=\"_blank\"><span itemprop=\"addressLocality\"><strong>Sainikpuri</strong></span>, <span class=\"cityName\" itemprop=\"addressRegion\">Hyderabad</span></a></span>,\n",
              " <span itemprop=\"addressLocality\"><strong>Sainikpuri</strong></span>,\n",
              " <span class=\"cityName\" itemprop=\"addressRegion\">Hyderabad</span>,\n",
              " <span class=\"val\" itemprop=\"offers\" itemscope=\"\" itemtype=\"http://schema.org/Offer\"><meta content=\"https://www.makaan.com/hyderabad/om-sree-builders-brilliance-in-sainikpuri-14001479/3bhk-2200-sqft-apartment\" itemprop=\"url\"/><meta content=\"11880000 \" itemprop=\"price\"/><meta content=\"INR\" itemprop=\"priceCurrency\"/>1.18</span>,\n",
              " <span class=\"unit\"> Cr</span>,\n",
              " <span class=\"val\">2200 </span>,\n",
              " <span><strong><span>Possession by May 2023</span></strong></span>,\n",
              " <span>Possession by May 2023</span>,\n",
              " <span>New </span>,\n",
              " <span>3 BHK Property for Sale in Sainikpuri Hyderabad</span>,\n",
              " <span class=\"favbtn serpfavd\" data-id=\"14001479\" data-lazymodule=\"shortlist\" data-type=\"fav-btn\" id=\"shortlist-14001479\" title=\"shortlist this property\"><script type=\"text/x-config\">{\"listingId\":14001479,\"dataAwaited\": true}</script><i class=\"icon-makaan\"></i><i class=\"icon-makaanfill\"></i></span>,\n",
              " <span class=\"serpShare shareitem\" data-type=\"social-share\" data-url=\"https://www.makaan.com/hyderabad/om-sree-builders-brilliance-in-sainikpuri-14001479/3bhk-2200-sqft-apartment\" title=\"share\"><i class=\"icon-share\"></i></span>,\n",
              " <span class=\"dark\">Event </span>,\n",
              " <span class=\"light\"> this month </span>,\n",
              " <span class=\"img-ldr\"><i class=\"icon-reset\"><span class=\"path1\"></span><span class=\"path2\"></span><span class=\"path3\"></span><span class=\"path4\"></span></i></span>,\n",
              " <span class=\"path1\"></span>,\n",
              " <span class=\"path2\"></span>,\n",
              " <span class=\"path3\"></span>,\n",
              " <span class=\"path4\"></span>,\n",
              " <span class=\"dot active\"></span>,\n",
              " <span class=\"dot \"></span>,\n",
              " <span class=\"dot \"></span>,\n",
              " <span class=\"dot \"></span>,\n",
              " <span class=\"dot \"></span>,\n",
              " <span class=\"highlighter-badge\"></span>,\n",
              " <span itemprop=\"name\">Haripriya Developers</span>,\n",
              " <span class=\"seller-type\">BUILDER</span>,\n",
              " <span>Residential Plot</span>,\n",
              " <span class=\"project-wrap\"> in <strong><a class=\"projName\" data-link-name=\"Haripriya Dukes County Phase II\" data-link-type=\"project overview\" data-track-label=\"14019358_9_2078106_select\" data-type=\"projName\" href=\"https://www.makaan.com/hyderabad/haripriya-developers-hyderabad-dukes-county-phase-ii-in-sheriguda-2078106\" target=\"_blank\" title=\"Go to Haripriya Dukes County Phase II\"><span>Haripriya Dukes County Phase II</span></a></strong></span>,\n",
              " <span>Haripriya Dukes County Phase II</span>,\n",
              " <span><span itemprop=\"address\" itemscope=\"\" itemtype=\"http://schema.org/PostalAddress\" title=\"Buy property in Sheriguda Hyderabad\"><span class=\"locName\"><a class=\"loclink\" data-link-name=\"Sheriguda Hyderabad\" data-link-type=\"locality buy serp\" data-type=\"localityName\" href=\"https://www.makaan.com/hyderabad-property/sheriguda-flats-for-sale-98243\" itemprop=\"url\" target=\"_blank\"><span itemprop=\"addressLocality\"><strong>Sheriguda</strong></span>, <span class=\"cityName\" itemprop=\"addressRegion\">Hyderabad</span></a></span></span></span>,\n",
              " <span itemprop=\"address\" itemscope=\"\" itemtype=\"http://schema.org/PostalAddress\" title=\"Buy property in Sheriguda Hyderabad\"><span class=\"locName\"><a class=\"loclink\" data-link-name=\"Sheriguda Hyderabad\" data-link-type=\"locality buy serp\" data-type=\"localityName\" href=\"https://www.makaan.com/hyderabad-property/sheriguda-flats-for-sale-98243\" itemprop=\"url\" target=\"_blank\"><span itemprop=\"addressLocality\"><strong>Sheriguda</strong></span>, <span class=\"cityName\" itemprop=\"addressRegion\">Hyderabad</span></a></span></span>,\n",
              " <span class=\"locName\"><a class=\"loclink\" data-link-name=\"Sheriguda Hyderabad\" data-link-type=\"locality buy serp\" data-type=\"localityName\" href=\"https://www.makaan.com/hyderabad-property/sheriguda-flats-for-sale-98243\" itemprop=\"url\" target=\"_blank\"><span itemprop=\"addressLocality\"><strong>Sheriguda</strong></span>, <span class=\"cityName\" itemprop=\"addressRegion\">Hyderabad</span></a></span>,\n",
              " <span itemprop=\"addressLocality\"><strong>Sheriguda</strong></span>,\n",
              " <span class=\"cityName\" itemprop=\"addressRegion\">Hyderabad</span>,\n",
              " <span class=\"val\" itemprop=\"offers\" itemscope=\"\" itemtype=\"http://schema.org/Offer\"><meta content=\"https://www.makaan.com/hyderabad/haripriya-developers-hyderabad-dukes-county-phase-ii-in-sheriguda-14019358/3150-sqft-plot\" itemprop=\"url\"/><meta content=\"11198250 \" itemprop=\"price\"/><meta content=\"INR\" itemprop=\"priceCurrency\"/>1.11</span>,\n",
              " <span class=\"unit\"> Cr</span>,\n",
              " <span class=\"val\">3150 </span>,\n",
              " <span><strong><span>Possession by Oct 2022</span></strong></span>,\n",
              " <span>Possession by Oct 2022</span>,\n",
              " <span> Property for Sale in Sheriguda Hyderabad</span>,\n",
              " <span class=\"favbtn serpfavd\" data-id=\"14019358\" data-lazymodule=\"shortlist\" data-type=\"fav-btn\" id=\"shortlist-14019358\" title=\"shortlist this property\"><script type=\"text/x-config\">{\"listingId\":14019358,\"dataAwaited\": true}</script><i class=\"icon-makaan\"></i><i class=\"icon-makaanfill\"></i></span>,\n",
              " <span class=\"serpShare shareitem\" data-type=\"social-share\" data-url=\"https://www.makaan.com/hyderabad/haripriya-developers-hyderabad-dukes-county-phase-ii-in-sheriguda-14019358/3150-sqft-plot\" title=\"share\"><i class=\"icon-share\"></i></span>,\n",
              " <span class=\"img-ldr\"><i class=\"icon-reset\"><span class=\"path1\"></span><span class=\"path2\"></span><span class=\"path3\"></span><span class=\"path4\"></span></i></span>,\n",
              " <span class=\"path1\"></span>,\n",
              " <span class=\"path2\"></span>,\n",
              " <span class=\"path3\"></span>,\n",
              " <span class=\"path4\"></span>,\n",
              " <span class=\"dot active\"></span>,\n",
              " <span class=\"dot \"></span>,\n",
              " <span class=\"dot \"></span>,\n",
              " <span class=\"dot \"></span>,\n",
              " <span class=\"dot \"></span>,\n",
              " <span class=\"dot \"></span>,\n",
              " <span class=\"highlighter-badge\"></span>,\n",
              " <span itemprop=\"name\">Riddhi Group</span>,\n",
              " <span class=\"seller-type\">BUILDER</span>,\n",
              " <span class=\"val\">3 </span>,\n",
              " <span>BHK </span>,\n",
              " <span>Apartment</span>,\n",
              " <span class=\"project-wrap\"> in <strong><a class=\"projName\" data-link-name=\"Riddhi Grandeur\" data-link-type=\"project overview\" data-track-label=\"13837835_10_1761166_select\" data-type=\"projName\" href=\"https://www.makaan.com/hyderabad/riddhi-grandeur-in-manikonda-1761166\" target=\"_blank\" title=\"Go to Riddhi Grandeur\"><span>Riddhi Grandeur</span></a></strong></span>,\n",
              " <span>Riddhi Grandeur</span>,\n",
              " <span><span itemprop=\"address\" itemscope=\"\" itemtype=\"http://schema.org/PostalAddress\" title=\"Buy property in Manikonda Hyderabad\"><span class=\"locName\"><a class=\"loclink\" data-link-name=\"Manikonda Hyderabad\" data-link-type=\"locality buy serp\" data-type=\"localityName\" href=\"https://www.makaan.com/hyderabad-property/manikonda-flats-for-sale-51943\" itemprop=\"url\" target=\"_blank\"><span itemprop=\"addressLocality\"><strong>Manikonda</strong></span>, <span class=\"cityName\" itemprop=\"addressRegion\">Hyderabad</span></a></span></span></span>,\n",
              " <span itemprop=\"address\" itemscope=\"\" itemtype=\"http://schema.org/PostalAddress\" title=\"Buy property in Manikonda Hyderabad\"><span class=\"locName\"><a class=\"loclink\" data-link-name=\"Manikonda Hyderabad\" data-link-type=\"locality buy serp\" data-type=\"localityName\" href=\"https://www.makaan.com/hyderabad-property/manikonda-flats-for-sale-51943\" itemprop=\"url\" target=\"_blank\"><span itemprop=\"addressLocality\"><strong>Manikonda</strong></span>, <span class=\"cityName\" itemprop=\"addressRegion\">Hyderabad</span></a></span></span>,\n",
              " <span class=\"locName\"><a class=\"loclink\" data-link-name=\"Manikonda Hyderabad\" data-link-type=\"locality buy serp\" data-type=\"localityName\" href=\"https://www.makaan.com/hyderabad-property/manikonda-flats-for-sale-51943\" itemprop=\"url\" target=\"_blank\"><span itemprop=\"addressLocality\"><strong>Manikonda</strong></span>, <span class=\"cityName\" itemprop=\"addressRegion\">Hyderabad</span></a></span>,\n",
              " <span itemprop=\"addressLocality\"><strong>Manikonda</strong></span>,\n",
              " <span class=\"cityName\" itemprop=\"addressRegion\">Hyderabad</span>,\n",
              " <span class=\"val\" itemprop=\"offers\" itemscope=\"\" itemtype=\"http://schema.org/Offer\"><meta content=\"https://www.makaan.com/hyderabad/riddhi-grandeur-in-manikonda-13837835/3bhk-1538-sqft-apartment\" itemprop=\"url\"/><meta content=\"9535600 \" itemprop=\"price\"/><meta content=\"INR\" itemprop=\"priceCurrency\"/>95.35</span>,\n",
              " <span class=\"unit\"> L</span>,\n",
              " <span class=\"val\">1538 </span>,\n",
              " <span><strong><span>Possession by Oct 2023</span></strong></span>,\n",
              " <span>Possession by Oct 2023</span>,\n",
              " <span>New </span>,\n",
              " <span>3 BHK Property for Sale in Manikonda Hyderabad</span>,\n",
              " <span class=\"favbtn serpfavd\" data-id=\"13837835\" data-lazymodule=\"shortlist\" data-type=\"fav-btn\" id=\"shortlist-13837835\" title=\"shortlist this property\"><script type=\"text/x-config\">{\"listingId\":13837835,\"dataAwaited\": true}</script><i class=\"icon-makaan\"></i><i class=\"icon-makaanfill\"></i></span>,\n",
              " <span class=\"serpShare shareitem\" data-type=\"social-share\" data-url=\"https://www.makaan.com/hyderabad/riddhi-grandeur-in-manikonda-13837835/3bhk-1538-sqft-apartment\" title=\"share\"><i class=\"icon-share\"></i></span>,\n",
              " <span class=\"img-ldr\"><i class=\"icon-reset\"><span class=\"path1\"></span><span class=\"path2\"></span><span class=\"path3\"></span><span class=\"path4\"></span></i></span>,\n",
              " <span class=\"path1\"></span>,\n",
              " <span class=\"path2\"></span>,\n",
              " <span class=\"path3\"></span>,\n",
              " <span class=\"path4\"></span>,\n",
              " <span class=\"dot active\"></span>,\n",
              " <span class=\"dot \"></span>,\n",
              " <span class=\"dot \"></span>,\n",
              " <span class=\"dot \"></span>,\n",
              " <span class=\"initial\" style=\"color:#fff;\">V</span>,\n",
              " <span class=\"highlighter-badge\"></span>,\n",
              " <span itemprop=\"name\">Vajra Builders And Developers</span>,\n",
              " <span class=\"seller-type\">BUILDER</span>,\n",
              " <span class=\"val\">4 </span>,\n",
              " <span>BHK </span>,\n",
              " <span>Villa</span>,\n",
              " <span class=\"project-wrap\"> in <strong><a class=\"projName\" data-link-name=\"Vajra Nature City\" data-link-type=\"project overview\" data-track-label=\"13741717_11_3043665_select\" data-type=\"projName\" href=\"https://www.makaan.com/hyderabad/vajra-builders-and-developers-nature-city-in-bachupally-3043665\" target=\"_blank\" title=\"Go to Vajra Nature City\"><span>Vajra Nature City</span></a></strong></span>,\n",
              " <span>Vajra Nature City</span>,\n",
              " <span><span itemprop=\"address\" itemscope=\"\" itemtype=\"http://schema.org/PostalAddress\" title=\"Buy property in Bachupally Hyderabad\"><span class=\"locName\"><a class=\"loclink\" data-link-name=\"Bachupally Hyderabad\" data-link-type=\"locality buy serp\" data-type=\"localityName\" href=\"https://www.makaan.com/hyderabad-property/bachupally-flats-for-sale-50400\" itemprop=\"url\" target=\"_blank\"><span itemprop=\"addressLocality\"><strong>Bachupally</strong></span>, <span class=\"cityName\" itemprop=\"addressRegion\">Hyderabad</span></a></span></span></span>,\n",
              " <span itemprop=\"address\" itemscope=\"\" itemtype=\"http://schema.org/PostalAddress\" title=\"Buy property in Bachupally Hyderabad\"><span class=\"locName\"><a class=\"loclink\" data-link-name=\"Bachupally Hyderabad\" data-link-type=\"locality buy serp\" data-type=\"localityName\" href=\"https://www.makaan.com/hyderabad-property/bachupally-flats-for-sale-50400\" itemprop=\"url\" target=\"_blank\"><span itemprop=\"addressLocality\"><strong>Bachupally</strong></span>, <span class=\"cityName\" itemprop=\"addressRegion\">Hyderabad</span></a></span></span>,\n",
              " <span class=\"locName\"><a class=\"loclink\" data-link-name=\"Bachupally Hyderabad\" data-link-type=\"locality buy serp\" data-type=\"localityName\" href=\"https://www.makaan.com/hyderabad-property/bachupally-flats-for-sale-50400\" itemprop=\"url\" target=\"_blank\"><span itemprop=\"addressLocality\"><strong>Bachupally</strong></span>, <span class=\"cityName\" itemprop=\"addressRegion\">Hyderabad</span></a></span>,\n",
              " <span itemprop=\"addressLocality\"><strong>Bachupally</strong></span>,\n",
              " <span class=\"cityName\" itemprop=\"addressRegion\">Hyderabad</span>,\n",
              " <span class=\"val\" itemprop=\"offers\" itemscope=\"\" itemtype=\"http://schema.org/Offer\"><meta content=\"https://www.makaan.com/hyderabad/vajra-builders-and-developers-nature-city-in-bachupally-13741717/4bhk-2300-sqft-villa\" itemprop=\"url\"/><meta content=\"14500000 \" itemprop=\"price\"/><meta content=\"INR\" itemprop=\"priceCurrency\"/>1.45</span>,\n",
              " <span class=\"unit\"> Cr</span>,\n",
              " <span class=\"val\">2300 </span>,\n",
              " <span><strong><span>Possession by Apr 2022</span></strong></span>,\n",
              " <span>Possession by Apr 2022</span>,\n",
              " <span>New </span>,\n",
              " <span>4 BHK Property for Sale in Bachupally Hyderabad</span>,\n",
              " <span class=\"favbtn serpfavd\" data-id=\"13741717\" data-lazymodule=\"shortlist\" data-type=\"fav-btn\" id=\"shortlist-13741717\" title=\"shortlist this property\"><script type=\"text/x-config\">{\"listingId\":13741717,\"dataAwaited\": true}</script><i class=\"icon-makaan\"></i><i class=\"icon-makaanfill\"></i></span>,\n",
              " <span class=\"serpShare shareitem\" data-type=\"social-share\" data-url=\"https://www.makaan.com/hyderabad/vajra-builders-and-developers-nature-city-in-bachupally-13741717/4bhk-2300-sqft-villa\" title=\"share\"><i class=\"icon-share\"></i></span>,\n",
              " <span class=\"img-ldr\"><i class=\"icon-reset\"><span class=\"path1\"></span><span class=\"path2\"></span><span class=\"path3\"></span><span class=\"path4\"></span></i></span>,\n",
              " <span class=\"path1\"></span>,\n",
              " <span class=\"path2\"></span>,\n",
              " <span class=\"path3\"></span>,\n",
              " <span class=\"path4\"></span>,\n",
              " <span class=\"dot active\"></span>,\n",
              " <span class=\"dot \"></span>,\n",
              " <span class=\"dot \"></span>,\n",
              " <span class=\"highlighter-badge\"></span>,\n",
              " <span itemprop=\"name\">Vasavi Constructions</span>,\n",
              " <span class=\"seller-type\">BUILDER</span>,\n",
              " <span class=\"val\">2 </span>,\n",
              " <span>BHK </span>,\n",
              " <span>Apartment</span>,\n",
              " <span class=\"project-wrap\"> in <strong><a class=\"projName\" data-link-name=\"Vasavi Sri Nivasam\" data-link-type=\"project overview\" data-track-label=\"13657427_12_3056614_select\" data-type=\"projName\" href=\"https://www.makaan.com/hyderabad/vasavi-constructions-sri-nivasam-in-ghatkesar-3056614\" target=\"_blank\" title=\"Go to Vasavi Sri Nivasam\"><span>Vasavi Sri Nivasam</span></a></strong></span>,\n",
              " <span>Vasavi Sri Nivasam</span>,\n",
              " <span><span itemprop=\"address\" itemscope=\"\" itemtype=\"http://schema.org/PostalAddress\" title=\"Buy property in Ghatkesar Hyderabad\"><span class=\"locName\"><a class=\"loclink\" data-link-name=\"Ghatkesar Hyderabad\" data-link-type=\"locality buy serp\" data-type=\"localityName\" href=\"https://www.makaan.com/hyderabad-property/ghatkesar-flats-for-sale-52016\" itemprop=\"url\" target=\"_blank\"><span itemprop=\"addressLocality\"><strong>Ghatkesar</strong></span>, <span class=\"cityName\" itemprop=\"addressRegion\">Hyderabad</span></a></span></span></span>,\n",
              " <span itemprop=\"address\" itemscope=\"\" itemtype=\"http://schema.org/PostalAddress\" title=\"Buy property in Ghatkesar Hyderabad\"><span class=\"locName\"><a class=\"loclink\" data-link-name=\"Ghatkesar Hyderabad\" data-link-type=\"locality buy serp\" data-type=\"localityName\" href=\"https://www.makaan.com/hyderabad-property/ghatkesar-flats-for-sale-52016\" itemprop=\"url\" target=\"_blank\"><span itemprop=\"addressLocality\"><strong>Ghatkesar</strong></span>, <span class=\"cityName\" itemprop=\"addressRegion\">Hyderabad</span></a></span></span>,\n",
              " <span class=\"locName\"><a class=\"loclink\" data-link-name=\"Ghatkesar Hyderabad\" data-link-type=\"locality buy serp\" data-type=\"localityName\" href=\"https://www.makaan.com/hyderabad-property/ghatkesar-flats-for-sale-52016\" itemprop=\"url\" target=\"_blank\"><span itemprop=\"addressLocality\"><strong>Ghatkesar</strong></span>, <span class=\"cityName\" itemprop=\"addressRegion\">Hyderabad</span></a></span>,\n",
              " <span itemprop=\"addressLocality\"><strong>Ghatkesar</strong></span>,\n",
              " <span class=\"cityName\" itemprop=\"addressRegion\">Hyderabad</span>,\n",
              " <span class=\"val\" itemprop=\"offers\" itemscope=\"\" itemtype=\"http://schema.org/Offer\"><meta content=\"https://www.makaan.com/hyderabad/vasavi-constructions-sri-nivasam-in-ghatkesar-13657427/2bhk-1245-sqft-apartment\" itemprop=\"url\"/><meta content=\"5602500 \" itemprop=\"price\"/><meta content=\"INR\" itemprop=\"priceCurrency\"/>56.02</span>,\n",
              " <span class=\"unit\"> L</span>,\n",
              " <span class=\"val\">1245 </span>,\n",
              " <span><strong><span>Possession by Nov 2024</span></strong></span>,\n",
              " <span>Possession by Nov 2024</span>,\n",
              " <span>New </span>,\n",
              " <span>2 BHK Property for Sale in Ghatkesar Hyderabad</span>,\n",
              " <span class=\"favbtn serpfavd\" data-id=\"13657427\" data-lazymodule=\"shortlist\" data-type=\"fav-btn\" id=\"shortlist-13657427\" title=\"shortlist this property\"><script type=\"text/x-config\">{\"listingId\":13657427,\"dataAwaited\": true}</script><i class=\"icon-makaan\"></i><i class=\"icon-makaanfill\"></i></span>,\n",
              " <span class=\"serpShare shareitem\" data-type=\"social-share\" data-url=\"https://www.makaan.com/hyderabad/vasavi-constructions-sri-nivasam-in-ghatkesar-13657427/2bhk-1245-sqft-apartment\" title=\"share\"><i class=\"icon-share\"></i></span>,\n",
              " <span class=\"img-ldr\"><i class=\"icon-reset\"><span class=\"path1\"></span><span class=\"path2\"></span><span class=\"path3\"></span><span class=\"path4\"></span></i></span>,\n",
              " <span class=\"path1\"></span>,\n",
              " <span class=\"path2\"></span>,\n",
              " <span class=\"path3\"></span>,\n",
              " <span class=\"path4\"></span>,\n",
              " <span class=\"dot active\"></span>,\n",
              " <span class=\"dot \"></span>,\n",
              " <span class=\"dot \"></span>,\n",
              " <span class=\"dot \"></span>,\n",
              " <span class=\"dot \"></span>,\n",
              " <span class=\"dot \"></span>,\n",
              " <span class=\"initial\" style=\"color:#fff;\">T</span>,\n",
              " <span class=\"highlighter-badge\"></span>,\n",
              " <span itemprop=\"name\">Theme Ambience Infrastructures</span>,\n",
              " <span class=\"seller-type\">BUILDER</span>,\n",
              " <span class=\"val\">2 </span>,\n",
              " <span>BHK </span>,\n",
              " <span>Apartment</span>,\n",
              " <span class=\"project-wrap\"> in <strong><a class=\"projName\" data-link-name=\"Theme Vista\" data-link-type=\"project overview\" data-track-label=\"13641216_13_1369274_select\" data-type=\"projName\" href=\"https://www.makaan.com/hyderabad/theme-ambience-vista-in-attapur-1369274\" target=\"_blank\" title=\"Go to Theme Vista\"><span>Theme Vista</span></a></strong></span>,\n",
              " <span>Theme Vista</span>,\n",
              " <span><span itemprop=\"address\" itemscope=\"\" itemtype=\"http://schema.org/PostalAddress\" title=\"Buy property in Attapur Hyderabad\"><span class=\"locName\"><a class=\"loclink\" data-link-name=\"Attapur Hyderabad\" data-link-type=\"locality buy serp\" data-type=\"localityName\" href=\"https://www.makaan.com/hyderabad-property/attapur-flats-for-sale-51240\" itemprop=\"url\" target=\"_blank\"><span itemprop=\"addressLocality\"><strong>Attapur</strong></span>, <span class=\"cityName\" itemprop=\"addressRegion\">Hyderabad</span></a></span></span></span>,\n",
              " <span itemprop=\"address\" itemscope=\"\" itemtype=\"http://schema.org/PostalAddress\" title=\"Buy property in Attapur Hyderabad\"><span class=\"locName\"><a class=\"loclink\" data-link-name=\"Attapur Hyderabad\" data-link-type=\"locality buy serp\" data-type=\"localityName\" href=\"https://www.makaan.com/hyderabad-property/attapur-flats-for-sale-51240\" itemprop=\"url\" target=\"_blank\"><span itemprop=\"addressLocality\"><strong>Attapur</strong></span>, <span class=\"cityName\" itemprop=\"addressRegion\">Hyderabad</span></a></span></span>,\n",
              " <span class=\"locName\"><a class=\"loclink\" data-link-name=\"Attapur Hyderabad\" data-link-type=\"locality buy serp\" data-type=\"localityName\" href=\"https://www.makaan.com/hyderabad-property/attapur-flats-for-sale-51240\" itemprop=\"url\" target=\"_blank\"><span itemprop=\"addressLocality\"><strong>Attapur</strong></span>, <span class=\"cityName\" itemprop=\"addressRegion\">Hyderabad</span></a></span>,\n",
              " <span itemprop=\"addressLocality\"><strong>Attapur</strong></span>,\n",
              " <span class=\"cityName\" itemprop=\"addressRegion\">Hyderabad</span>,\n",
              " <span class=\"val\" itemprop=\"offers\" itemscope=\"\" itemtype=\"http://schema.org/Offer\"><meta content=\"https://www.makaan.com/hyderabad/theme-ambience-vista-in-attapur-13641216/2bhk-1310-sqft-apartment\" itemprop=\"url\"/><meta content=\"7205000 \" itemprop=\"price\"/><meta content=\"INR\" itemprop=\"priceCurrency\"/>72.05</span>,\n",
              " <span class=\"unit\"> L</span>,\n",
              " <span class=\"val\">1310 </span>,\n",
              " <span><strong><span>Possession by Mar 2023</span></strong></span>,\n",
              " <span>Possession by Mar 2023</span>,\n",
              " <span>New </span>,\n",
              " <span>2 BHK Property for Sale in Attapur Hyderabad</span>,\n",
              " <span class=\"favbtn serpfavd\" data-id=\"13641216\" data-lazymodule=\"shortlist\" data-type=\"fav-btn\" id=\"shortlist-13641216\" title=\"shortlist this property\"><script type=\"text/x-config\">{\"listingId\":13641216,\"dataAwaited\": true}</script><i class=\"icon-makaan\"></i><i class=\"icon-makaanfill\"></i></span>,\n",
              " <span class=\"serpShare shareitem\" data-type=\"social-share\" data-url=\"https://www.makaan.com/hyderabad/theme-ambience-vista-in-attapur-13641216/2bhk-1310-sqft-apartment\" title=\"share\"><i class=\"icon-share\"></i></span>,\n",
              " <span class=\"img-ldr\"><i class=\"icon-reset\"><span class=\"path1\"></span><span class=\"path2\"></span><span class=\"path3\"></span><span class=\"path4\"></span></i></span>,\n",
              " <span class=\"path1\"></span>,\n",
              " <span class=\"path2\"></span>,\n",
              " <span class=\"path3\"></span>,\n",
              " <span class=\"path4\"></span>,\n",
              " <span class=\"dot active\"></span>,\n",
              " <span class=\"dot \"></span>,\n",
              " <span class=\"dot \"></span>,\n",
              " <span class=\"dot \"></span>,\n",
              " <span class=\"dot \"></span>,\n",
              " <span class=\"dot \"></span>,\n",
              " <span class=\"initial\" style=\"color:#fff;\">B</span>,\n",
              " <span class=\"highlighter-badge\"></span>,\n",
              " <span itemprop=\"name\">Beams And Columns Builders Private Limited</span>,\n",
              " <span class=\"seller-type\">BUILDER</span>,\n",
              " <span class=\"val\">2 </span>,\n",
              " <span>BHK </span>,\n",
              " <span>Apartment</span>,\n",
              " <span class=\"project-wrap\"> in <strong><a class=\"projName\" data-link-name=\"Beams 4 Blocks\" data-link-type=\"project overview\" data-track-label=\"13630015_14_3025703_select\" data-type=\"projName\" href=\"https://www.makaan.com/hyderabad/beams-and-columns-builders-4-blocks-in-kompally-3025703\" target=\"_blank\" title=\"Go to Beams 4 Blocks\"><span>Beams 4 Blocks</span></a></strong></span>,\n",
              " <span>Beams 4 Blocks</span>,\n",
              " <span><span itemprop=\"address\" itemscope=\"\" itemtype=\"http://schema.org/PostalAddress\" title=\"Buy property in Kompally Hyderabad\"><span class=\"locName\"><a class=\"loclink\" data-link-name=\"Kompally Hyderabad\" data-link-type=\"locality buy serp\" data-type=\"localityName\" href=\"https://www.makaan.com/hyderabad-property/kompally-flats-for-sale-51562\" itemprop=\"url\" target=\"_blank\"><span itemprop=\"addressLocality\"><strong>Kompally</strong></span>, <span class=\"cityName\" itemprop=\"addressRegion\">Hyderabad</span></a></span></span></span>,\n",
              " <span itemprop=\"address\" itemscope=\"\" itemtype=\"http://schema.org/PostalAddress\" title=\"Buy property in Kompally Hyderabad\"><span class=\"locName\"><a class=\"loclink\" data-link-name=\"Kompally Hyderabad\" data-link-type=\"locality buy serp\" data-type=\"localityName\" href=\"https://www.makaan.com/hyderabad-property/kompally-flats-for-sale-51562\" itemprop=\"url\" target=\"_blank\"><span itemprop=\"addressLocality\"><strong>Kompally</strong></span>, <span class=\"cityName\" itemprop=\"addressRegion\">Hyderabad</span></a></span></span>,\n",
              " <span class=\"locName\"><a class=\"loclink\" data-link-name=\"Kompally Hyderabad\" data-link-type=\"locality buy serp\" data-type=\"localityName\" href=\"https://www.makaan.com/hyderabad-property/kompally-flats-for-sale-51562\" itemprop=\"url\" target=\"_blank\"><span itemprop=\"addressLocality\"><strong>Kompally</strong></span>, <span class=\"cityName\" itemprop=\"addressRegion\">Hyderabad</span></a></span>,\n",
              " <span itemprop=\"addressLocality\"><strong>Kompally</strong></span>,\n",
              " <span class=\"cityName\" itemprop=\"addressRegion\">Hyderabad</span>,\n",
              " <span class=\"val\" itemprop=\"offers\" itemscope=\"\" itemtype=\"http://schema.org/Offer\"><meta content=\"https://www.makaan.com/hyderabad/beams-and-columns-builders-4-blocks-in-kompally-13630015/2bhk-1310-sqft-apartment\" itemprop=\"url\"/><meta content=\"6157000 \" itemprop=\"price\"/><meta content=\"INR\" itemprop=\"priceCurrency\"/>61.57</span>,\n",
              " <span class=\"unit\"> L</span>,\n",
              " <span class=\"val\">1310 </span>,\n",
              " <span><strong><span>Possession by Feb 2023</span></strong></span>,\n",
              " <span>Possession by Feb 2023</span>,\n",
              " <span>New </span>,\n",
              " <span>2 BHK Property for Sale in Kompally Hyderabad</span>,\n",
              " <span class=\"favbtn serpfavd\" data-id=\"13630015\" data-lazymodule=\"shortlist\" data-type=\"fav-btn\" id=\"shortlist-13630015\" title=\"shortlist this property\"><script type=\"text/x-config\">{\"listingId\":13630015,\"dataAwaited\": true}</script><i class=\"icon-makaan\"></i><i class=\"icon-makaanfill\"></i></span>,\n",
              " <span class=\"serpShare shareitem\" data-type=\"social-share\" data-url=\"https://www.makaan.com/hyderabad/beams-and-columns-builders-4-blocks-in-kompally-13630015/2bhk-1310-sqft-apartment\" title=\"share\"><i class=\"icon-share\"></i></span>,\n",
              " <span class=\"img-ldr\"><i class=\"icon-reset\"><span class=\"path1\"></span><span class=\"path2\"></span><span class=\"path3\"></span><span class=\"path4\"></span></i></span>,\n",
              " <span class=\"path1\"></span>,\n",
              " <span class=\"path2\"></span>,\n",
              " <span class=\"path3\"></span>,\n",
              " <span class=\"path4\"></span>,\n",
              " <span class=\"dot active\"></span>,\n",
              " <span class=\"dot \"></span>,\n",
              " <span class=\"dot \"></span>,\n",
              " <span class=\"dot \"></span>,\n",
              " <span class=\"dot \"></span>,\n",
              " <span class=\"initial\" style=\"color:#fff;\">U</span>,\n",
              " <span class=\"highlighter-badge\"></span>,\n",
              " <span itemprop=\"name\">user</span>,\n",
              " <span class=\"seller-type\">BUILDER</span>,\n",
              " <span class=\"val\">3 </span>,\n",
              " <span>BHK </span>,\n",
              " <span>Independent House</span>,\n",
              " <span class=\"project-wrap\"> in <strong><a class=\"projName\" data-link-name=\"Harshith Lahari Aananda Spring Field Villas\" data-link-type=\"project overview\" data-track-label=\"13584324_15_3054825_select\" data-type=\"projName\" href=\"https://www.makaan.com/hyderabad/harshith-infra-and-developers-lahari-aananda-spring-field-villas-in-shankarpalli-3054825\" target=\"_blank\" title=\"Go to Harshith Lahari Aananda Spring Field Villas\"><span>Harshith Lahari Aananda Spring Field Villas</span></a></strong></span>,\n",
              " <span>Harshith Lahari Aananda Spring Field Villas</span>,\n",
              " <span><span itemprop=\"address\" itemscope=\"\" itemtype=\"http://schema.org/PostalAddress\" title=\"Buy property in Shankarpalli Hyderabad\"><span class=\"locName\"><a class=\"loclink\" data-link-name=\"Shankarpalli Hyderabad\" data-link-type=\"locality buy serp\" data-type=\"localityName\" href=\"https://www.makaan.com/hyderabad-property/shankarpalli-flats-for-sale-52280\" itemprop=\"url\" target=\"_blank\"><span itemprop=\"addressLocality\"><strong>Shankarpalli</strong></span>, <span class=\"cityName\" itemprop=\"addressRegion\">Hyderabad</span></a></span></span></span>,\n",
              " <span itemprop=\"address\" itemscope=\"\" itemtype=\"http://schema.org/PostalAddress\" title=\"Buy property in Shankarpalli Hyderabad\"><span class=\"locName\"><a class=\"loclink\" data-link-name=\"Shankarpalli Hyderabad\" data-link-type=\"locality buy serp\" data-type=\"localityName\" href=\"https://www.makaan.com/hyderabad-property/shankarpalli-flats-for-sale-52280\" itemprop=\"url\" target=\"_blank\"><span itemprop=\"addressLocality\"><strong>Shankarpalli</strong></span>, <span class=\"cityName\" itemprop=\"addressRegion\">Hyderabad</span></a></span></span>,\n",
              " <span class=\"locName\"><a class=\"loclink\" data-link-name=\"Shankarpalli Hyderabad\" data-link-type=\"locality buy serp\" data-type=\"localityName\" href=\"https://www.makaan.com/hyderabad-property/shankarpalli-flats-for-sale-52280\" itemprop=\"url\" target=\"_blank\"><span itemprop=\"addressLocality\"><strong>Shankarpalli</strong></span>, <span class=\"cityName\" itemprop=\"addressRegion\">Hyderabad</span></a></span>,\n",
              " <span itemprop=\"addressLocality\"><strong>Shankarpalli</strong></span>,\n",
              " <span class=\"cityName\" itemprop=\"addressRegion\">Hyderabad</span>,\n",
              " <span class=\"val\" itemprop=\"offers\" itemscope=\"\" itemtype=\"http://schema.org/Offer\"><meta content=\"https://www.makaan.com/hyderabad/harshith-infra-and-developers-lahari-aananda-spring-field-villas-in-shankarpalli-13584324/3bhk-3120-sqft-independenthouse\" itemprop=\"url\"/><meta content=\"14665739 \" itemprop=\"price\"/><meta content=\"INR\" itemprop=\"priceCurrency\"/>1.46</span>,\n",
              " <span class=\"unit\"> Cr</span>,\n",
              " <span class=\"val\">3120 </span>,\n",
              " <span><strong><span>Possession by Jun 2023</span></strong></span>,\n",
              " <span>Possession by Jun 2023</span>,\n",
              " <span>New </span>,\n",
              " <span>3 BHK Property for Sale in Shankarpalli Hyderabad</span>,\n",
              " <span class=\"favbtn serpfavd\" data-id=\"13584324\" data-lazymodule=\"shortlist\" data-type=\"fav-btn\" id=\"shortlist-13584324\" title=\"shortlist this property\"><script type=\"text/x-config\">{\"listingId\":13584324,\"dataAwaited\": true}</script><i class=\"icon-makaan\"></i><i class=\"icon-makaanfill\"></i></span>,\n",
              " <span class=\"serpShare shareitem\" data-type=\"social-share\" data-url=\"https://www.makaan.com/hyderabad/harshith-infra-and-developers-lahari-aananda-spring-field-villas-in-shankarpalli-13584324/3bhk-3120-sqft-independenthouse\" title=\"share\"><i class=\"icon-share\"></i></span>,\n",
              " <span class=\"img-ldr\"><i class=\"icon-reset\"><span class=\"path1\"></span><span class=\"path2\"></span><span class=\"path3\"></span><span class=\"path4\"></span></i></span>,\n",
              " <span class=\"path1\"></span>,\n",
              " <span class=\"path2\"></span>,\n",
              " <span class=\"path3\"></span>,\n",
              " <span class=\"path4\"></span>,\n",
              " <span class=\"dot active\"></span>,\n",
              " <span class=\"dot \"></span>,\n",
              " <span class=\"dot \"></span>,\n",
              " <span class=\"dot \"></span>,\n",
              " <span class=\"initial\" style=\"color:#fff;\">P</span>,\n",
              " <span class=\"highlighter-badge\"></span>,\n",
              " <span itemprop=\"name\">Prasad</span>,\n",
              " <span class=\"seller-type\">BUILDER</span>,\n",
              " <span class=\"val\">3 </span>,\n",
              " <span>BHK </span>,\n",
              " <span>Apartment</span>,\n",
              " <span class=\"project-wrap\"> in <strong><a class=\"projName\" data-link-name=\"Prasad Atluri Cyber Springs\" data-link-type=\"project overview\" data-track-label=\"13213781_16_3066909_select\" data-type=\"projName\" href=\"https://www.makaan.com/hyderabad/prasad-atluri-cyber-springs-in-nanakramguda-3066909\" target=\"_blank\" title=\"Go to Prasad Atluri Cyber Springs\"><span>Prasad Atluri Cyber Springs</span></a></strong></span>,\n",
              " <span>Prasad Atluri Cyber Springs</span>,\n",
              " <span><span itemprop=\"address\" itemscope=\"\" itemtype=\"http://schema.org/PostalAddress\" title=\"Buy property in Nanakramguda Hyderabad\"><span class=\"locName\"><a class=\"loclink\" data-link-name=\"Nanakramguda Hyderabad\" data-link-type=\"locality buy serp\" data-type=\"localityName\" href=\"https://www.makaan.com/hyderabad-property/nanakramguda-flats-for-sale-51963\" itemprop=\"url\" target=\"_blank\"><span itemprop=\"addressLocality\"><strong>Nanakramguda</strong></span>, <span class=\"cityName\" itemprop=\"addressRegion\">Hyderabad</span></a></span></span></span>,\n",
              " <span itemprop=\"address\" itemscope=\"\" itemtype=\"http://schema.org/PostalAddress\" title=\"Buy property in Nanakramguda Hyderabad\"><span class=\"locName\"><a class=\"loclink\" data-link-name=\"Nanakramguda Hyderabad\" data-link-type=\"locality buy serp\" data-type=\"localityName\" href=\"https://www.makaan.com/hyderabad-property/nanakramguda-flats-for-sale-51963\" itemprop=\"url\" target=\"_blank\"><span itemprop=\"addressLocality\"><strong>Nanakramguda</strong></span>, <span class=\"cityName\" itemprop=\"addressRegion\">Hyderabad</span></a></span></span>,\n",
              " <span class=\"locName\"><a class=\"loclink\" data-link-name=\"Nanakramguda Hyderabad\" data-link-type=\"locality buy serp\" data-type=\"localityName\" href=\"https://www.makaan.com/hyderabad-property/nanakramguda-flats-for-sale-51963\" itemprop=\"url\" target=\"_blank\"><span itemprop=\"addressLocality\"><strong>Nanakramguda</strong></span>, <span class=\"cityName\" itemprop=\"addressRegion\">Hyderabad</span></a></span>,\n",
              " <span itemprop=\"addressLocality\"><strong>Nanakramguda</strong></span>,\n",
              " <span class=\"cityName\" itemprop=\"addressRegion\">Hyderabad</span>,\n",
              " <span class=\"val\" itemprop=\"offers\" itemscope=\"\" itemtype=\"http://schema.org/Offer\"><meta content=\"https://www.makaan.com/hyderabad/prasad-atluri-cyber-springs-in-nanakramguda-13213781/3bhk-1415-sqft-apartment\" itemprop=\"url\"/><meta content=\"9622000 \" itemprop=\"price\"/><meta content=\"INR\" itemprop=\"priceCurrency\"/>96.22</span>,\n",
              " <span class=\"unit\"> L</span>,\n",
              " <span class=\"val\">1415 </span>,\n",
              " <span>0 - 1 year old</span>,\n",
              " <span>New </span>,\n",
              " <span>3 BHK Property for Sale in Nanakramguda Hyderabad</span>,\n",
              " <span class=\"favbtn serpfavd\" data-id=\"13213781\" data-lazymodule=\"shortlist\" data-type=\"fav-btn\" id=\"shortlist-13213781\" title=\"shortlist this property\"><script type=\"text/x-config\">{\"listingId\":13213781,\"dataAwaited\": true}</script><i class=\"icon-makaan\"></i><i class=\"icon-makaanfill\"></i></span>,\n",
              " <span class=\"serpShare shareitem\" data-type=\"social-share\" data-url=\"https://www.makaan.com/hyderabad/prasad-atluri-cyber-springs-in-nanakramguda-13213781/3bhk-1415-sqft-apartment\" title=\"share\"><i class=\"icon-share\"></i></span>,\n",
              " <span class=\"img-ldr\"><i class=\"icon-reset\"><span class=\"path1\"></span><span class=\"path2\"></span><span class=\"path3\"></span><span class=\"path4\"></span></i></span>,\n",
              " <span class=\"path1\"></span>,\n",
              " <span class=\"path2\"></span>,\n",
              " <span class=\"path3\"></span>,\n",
              " <span class=\"path4\"></span>,\n",
              " <span class=\"dot active\"></span>,\n",
              " <span class=\"dot \"></span>,\n",
              " <span class=\"dot \"></span>,\n",
              " <span class=\"dot \"></span>,\n",
              " <span class=\"dot \"></span>,\n",
              " <span class=\"dot \"></span>,\n",
              " <span class=\"highlighter-badge\"></span>,\n",
              " <span itemprop=\"name\">Prestige Estates Projects Ltd</span>,\n",
              " <span class=\"seller-type\">BUILDER</span>,\n",
              " <span class=\"val\">4 </span>,\n",
              " <span>BHK </span>,\n",
              " <span>Apartment</span>,\n",
              " <span class=\"project-wrap\"> in <strong><a class=\"projName\" data-link-name=\"Prestige Ivy League\" data-link-type=\"project overview\" data-track-label=\"11264369_17_667687_select\" data-type=\"projName\" href=\"https://www.makaan.com/hyderabad/prestige-group-ivy-league-in-hitech-city-667687\" target=\"_blank\" title=\"Go to Prestige Ivy League\"><span>Prestige Ivy League</span></a></strong></span>,\n",
              " <span>Prestige Ivy League</span>,\n",
              " <span><span itemprop=\"address\" itemscope=\"\" itemtype=\"http://schema.org/PostalAddress\" title=\"Buy property in Hitech City Hyderabad\"><span class=\"locName\"><a class=\"loclink\" data-link-name=\"Hitech City Hyderabad\" data-link-type=\"locality buy serp\" data-type=\"localityName\" href=\"https://www.makaan.com/hyderabad-property/hitech-city-flats-for-sale-52077\" itemprop=\"url\" target=\"_blank\"><span itemprop=\"addressLocality\"><strong>Hitech City</strong></span>, <span class=\"cityName\" itemprop=\"addressRegion\">Hyderabad</span></a></span></span></span>,\n",
              " <span itemprop=\"address\" itemscope=\"\" itemtype=\"http://schema.org/PostalAddress\" title=\"Buy property in Hitech City Hyderabad\"><span class=\"locName\"><a class=\"loclink\" data-link-name=\"Hitech City Hyderabad\" data-link-type=\"locality buy serp\" data-type=\"localityName\" href=\"https://www.makaan.com/hyderabad-property/hitech-city-flats-for-sale-52077\" itemprop=\"url\" target=\"_blank\"><span itemprop=\"addressLocality\"><strong>Hitech City</strong></span>, <span class=\"cityName\" itemprop=\"addressRegion\">Hyderabad</span></a></span></span>,\n",
              " <span class=\"locName\"><a class=\"loclink\" data-link-name=\"Hitech City Hyderabad\" data-link-type=\"locality buy serp\" data-type=\"localityName\" href=\"https://www.makaan.com/hyderabad-property/hitech-city-flats-for-sale-52077\" itemprop=\"url\" target=\"_blank\"><span itemprop=\"addressLocality\"><strong>Hitech City</strong></span>, <span class=\"cityName\" itemprop=\"addressRegion\">Hyderabad</span></a></span>,\n",
              " <span itemprop=\"addressLocality\"><strong>Hitech City</strong></span>,\n",
              " <span class=\"cityName\" itemprop=\"addressRegion\">Hyderabad</span>,\n",
              " <span class=\"val\" itemprop=\"offers\" itemscope=\"\" itemtype=\"http://schema.org/Offer\"><meta content=\"https://www.makaan.com/hyderabad/prestige-group-ivy-league-in-hitech-city-11264369/4bhk-3498-sqft-apartment\" itemprop=\"url\"/><meta content=\"29000000 \" itemprop=\"price\"/><meta content=\"INR\" itemprop=\"priceCurrency\"/>2.9</span>,\n",
              " <span class=\"unit\"> Cr</span>,\n",
              " <span class=\"val\">3498 </span>,\n",
              " <span>2 - 3 years old</span>,\n",
              " <span>New </span>,\n",
              " <span>4 BHK Property for Sale in Hitech City Hyderabad</span>,\n",
              " <span class=\"favbtn serpfavd\" data-id=\"11264369\" data-lazymodule=\"shortlist\" data-type=\"fav-btn\" id=\"shortlist-11264369\" title=\"shortlist this property\"><script type=\"text/x-config\">{\"listingId\":11264369,\"dataAwaited\": true}</script><i class=\"icon-makaan\"></i><i class=\"icon-makaanfill\"></i></span>,\n",
              " <span class=\"serpShare shareitem\" data-type=\"social-share\" data-url=\"https://www.makaan.com/hyderabad/prestige-group-ivy-league-in-hitech-city-11264369/4bhk-3498-sqft-apartment\" title=\"share\"><i class=\"icon-share\"></i></span>,\n",
              " <span class=\"img-ldr\"><i class=\"icon-reset\"><span class=\"path1\"></span><span class=\"path2\"></span><span class=\"path3\"></span><span class=\"path4\"></span></i></span>,\n",
              " <span class=\"path1\"></span>,\n",
              " <span class=\"path2\"></span>,\n",
              " <span class=\"path3\"></span>,\n",
              " <span class=\"path4\"></span>,\n",
              " <span class=\"dot active\"></span>,\n",
              " <span class=\"dot \"></span>,\n",
              " <span class=\"dot \"></span>,\n",
              " <span class=\"initial\" style=\"color:#fff;\">E</span>,\n",
              " <span class=\"highlighter-badge\"></span>,\n",
              " <span itemprop=\"name\">Engineers Associates Pvt Ltd</span>,\n",
              " <span class=\"seller-type\">BUILDER</span>,\n",
              " <span class=\"val\">3 </span>,\n",
              " <span>BHK </span>,\n",
              " <span>Apartment</span>,\n",
              " <span class=\"project-wrap\"> in <strong><a class=\"projName\" data-link-name=\"Engineers Sri Tirumala Millennium Phase II\" data-link-type=\"project overview\" data-track-label=\"13496369_18_3025755_select\" data-type=\"projName\" href=\"https://www.makaan.com/hyderabad/engineers-associates-sri-tirumala-millennium-phase-ii-in-mallampet-3025755\" target=\"_blank\" title=\"Go to Engineers Sri Tirumala Millennium Phase II\"><span>Engineers Sri Tirumala Millennium Phase II</span></a></strong></span>,\n",
              " <span>Engineers Sri Tirumala Millennium Phase II</span>,\n",
              " <span><span itemprop=\"address\" itemscope=\"\" itemtype=\"http://schema.org/PostalAddress\" title=\"Buy property in Mallampet Hyderabad\"><span class=\"locName\"><a class=\"loclink\" data-link-name=\"Mallampet Hyderabad\" data-link-type=\"locality buy serp\" data-type=\"localityName\" href=\"https://www.makaan.com/hyderabad-property/mallampet-flats-for-sale-57595\" itemprop=\"url\" target=\"_blank\"><span itemprop=\"addressLocality\"><strong>Mallampet</strong></span>, <span class=\"cityName\" itemprop=\"addressRegion\">Hyderabad</span></a></span></span></span>,\n",
              " <span itemprop=\"address\" itemscope=\"\" itemtype=\"http://schema.org/PostalAddress\" title=\"Buy property in Mallampet Hyderabad\"><span class=\"locName\"><a class=\"loclink\" data-link-name=\"Mallampet Hyderabad\" data-link-type=\"locality buy serp\" data-type=\"localityName\" href=\"https://www.makaan.com/hyderabad-property/mallampet-flats-for-sale-57595\" itemprop=\"url\" target=\"_blank\"><span itemprop=\"addressLocality\"><strong>Mallampet</strong></span>, <span class=\"cityName\" itemprop=\"addressRegion\">Hyderabad</span></a></span></span>,\n",
              " <span class=\"locName\"><a class=\"loclink\" data-link-name=\"Mallampet Hyderabad\" data-link-type=\"locality buy serp\" data-type=\"localityName\" href=\"https://www.makaan.com/hyderabad-property/mallampet-flats-for-sale-57595\" itemprop=\"url\" target=\"_blank\"><span itemprop=\"addressLocality\"><strong>Mallampet</strong></span>, <span class=\"cityName\" itemprop=\"addressRegion\">Hyderabad</span></a></span>,\n",
              " <span itemprop=\"addressLocality\"><strong>Mallampet</strong></span>,\n",
              " <span class=\"cityName\" itemprop=\"addressRegion\">Hyderabad</span>,\n",
              " <span class=\"val\" itemprop=\"offers\" itemscope=\"\" itemtype=\"http://schema.org/Offer\"><meta content=\"https://www.makaan.com/hyderabad/engineers-associates-sri-tirumala-millennium-phase-ii-in-mallampet-13496369/3bhk-1503-sqft-apartment\" itemprop=\"url\"/><meta content=\"6311097 \" itemprop=\"price\"/><meta content=\"INR\" itemprop=\"priceCurrency\"/>63.11</span>,\n",
              " <span class=\"unit\"> L</span>,\n",
              " <span class=\"val\">1503 </span>,\n",
              " <span><strong><span>Possession by Feb 2022</span></strong></span>,\n",
              " <span>Possession by Feb 2022</span>,\n",
              " <span>New </span>,\n",
              " <span>3 BHK Property for Sale in Mallampet Hyderabad</span>,\n",
              " <span class=\"favbtn serpfavd\" data-id=\"13496369\" data-lazymodule=\"shortlist\" data-type=\"fav-btn\" id=\"shortlist-13496369\" title=\"shortlist this property\"><script type=\"text/x-config\">{\"listingId\":13496369,\"dataAwaited\": true}</script><i class=\"icon-makaan\"></i><i class=\"icon-makaanfill\"></i></span>,\n",
              " <span class=\"serpShare shareitem\" data-type=\"social-share\" data-url=\"https://www.makaan.com/hyderabad/engineers-associates-sri-tirumala-millennium-phase-ii-in-mallampet-13496369/3bhk-1503-sqft-apartment\" title=\"share\"><i class=\"icon-share\"></i></span>,\n",
              " <span class=\"hidden\">Some Error ocurred</span>,\n",
              " <span class=\"img-ldr\"><i class=\"icon-reset\"><span class=\"path1\"></span><span class=\"path2\"></span><span class=\"path3\"></span><span class=\"path4\"></span></i></span>,\n",
              " <span class=\"path1\"></span>,\n",
              " <span class=\"path2\"></span>,\n",
              " <span class=\"path3\"></span>,\n",
              " <span class=\"path4\"></span>,\n",
              " <span class=\"dot active\"></span>,\n",
              " <span class=\"dot \"></span>,\n",
              " <span class=\"dot \"></span>,\n",
              " <span class=\"dot \"></span>,\n",
              " <span class=\"dot \"></span>,\n",
              " <span class=\"dot \"></span>,\n",
              " <span class=\"highlighter-badge\"></span>,\n",
              " <span itemprop=\"name\">Vessella Group</span>,\n",
              " <span class=\"seller-type\">BUILDER</span>,\n",
              " <span class=\"val\">5 </span>,\n",
              " <span>BHK </span>,\n",
              " <span>Villa</span>,\n",
              " <span class=\"project-wrap\"> in <strong><a class=\"projName\" data-link-name=\"Vessella Meadows\" data-link-type=\"project overview\" data-track-label=\"14826365_19_658184_select\" data-type=\"projName\" href=\"https://www.makaan.com/hyderabad/vessella-group-meadows-in-narsingi-658184\" target=\"_blank\" title=\"Go to Vessella Meadows\"><span>Vessella Meadows</span></a></strong></span>,\n",
              " <span>Vessella Meadows</span>,\n",
              " <span><span itemprop=\"address\" itemscope=\"\" itemtype=\"http://schema.org/PostalAddress\" title=\"Buy property in Narsingi Hyderabad\"><span class=\"locName\"><a class=\"loclink\" data-link-name=\"Narsingi Hyderabad\" data-link-type=\"locality buy serp\" data-type=\"localityName\" href=\"https://www.makaan.com/hyderabad-property/narsingi-flats-for-sale-51200\" itemprop=\"url\" target=\"_blank\"><span itemprop=\"addressLocality\"><strong>Narsingi</strong></span>, <span class=\"cityName\" itemprop=\"addressRegion\">Hyderabad</span></a></span></span></span>,\n",
              " <span itemprop=\"address\" itemscope=\"\" itemtype=\"http://schema.org/PostalAddress\" title=\"Buy property in Narsingi Hyderabad\"><span class=\"locName\"><a class=\"loclink\" data-link-name=\"Narsingi Hyderabad\" data-link-type=\"locality buy serp\" data-type=\"localityName\" href=\"https://www.makaan.com/hyderabad-property/narsingi-flats-for-sale-51200\" itemprop=\"url\" target=\"_blank\"><span itemprop=\"addressLocality\"><strong>Narsingi</strong></span>, <span class=\"cityName\" itemprop=\"addressRegion\">Hyderabad</span></a></span></span>,\n",
              " <span class=\"locName\"><a class=\"loclink\" data-link-name=\"Narsingi Hyderabad\" data-link-type=\"locality buy serp\" data-type=\"localityName\" href=\"https://www.makaan.com/hyderabad-property/narsingi-flats-for-sale-51200\" itemprop=\"url\" target=\"_blank\"><span itemprop=\"addressLocality\"><strong>Narsingi</strong></span>, <span class=\"cityName\" itemprop=\"addressRegion\">Hyderabad</span></a></span>,\n",
              " <span itemprop=\"addressLocality\"><strong>Narsingi</strong></span>,\n",
              " <span class=\"cityName\" itemprop=\"addressRegion\">Hyderabad</span>,\n",
              " <span class=\"val\" itemprop=\"offers\" itemscope=\"\" itemtype=\"http://schema.org/Offer\"><meta content=\"https://www.makaan.com/hyderabad/vessella-group-meadows-in-narsingi-14826365/5bhk-5t-8214-sqft-villa\" itemprop=\"url\"/><meta content=\"131424000 \" itemprop=\"price\"/><meta content=\"INR\" itemprop=\"priceCurrency\"/>13.14</span>,\n",
              " <span class=\"unit\"> Cr</span>,\n",
              " <span class=\"val\">8214 </span>,\n",
              " <span><strong><span>Possession by Jan 2023</span></strong></span>,\n",
              " <span>Possession by Jan 2023</span>,\n",
              " <span>5 Bathrooms</span>,\n",
              " <span>New </span>,\n",
              " <span>5 BHK Property for Sale in Narsingi Hyderabad</span>,\n",
              " <span class=\"favbtn serpfavd\" data-id=\"14826365\" data-lazymodule=\"shortlist\" data-type=\"fav-btn\" id=\"shortlist-14826365\" title=\"shortlist this property\"><script type=\"text/x-config\">{\"listingId\":14826365,\"dataAwaited\": true}</script><i class=\"icon-makaan\"></i><i class=\"icon-makaanfill\"></i></span>,\n",
              " <span class=\"serpShare shareitem\" data-type=\"social-share\" data-url=\"https://www.makaan.com/hyderabad/vessella-group-meadows-in-narsingi-14826365/5bhk-5t-8214-sqft-villa\" title=\"share\"><i class=\"icon-share\"></i></span>,\n",
              " <span class=\"img-ldr\"><i class=\"icon-reset\"><span class=\"path1\"></span><span class=\"path2\"></span><span class=\"path3\"></span><span class=\"path4\"></span></i></span>,\n",
              " <span class=\"path1\"></span>,\n",
              " <span class=\"path2\"></span>,\n",
              " <span class=\"path3\"></span>,\n",
              " <span class=\"path4\"></span>,\n",
              " <span class=\"dot active\"></span>,\n",
              " <span class=\"dot \"></span>,\n",
              " <span class=\"dot \"></span>,\n",
              " <span class=\"dot \"></span>,\n",
              " <span class=\"dot \"></span>,\n",
              " <span class=\"dot \"></span>,\n",
              " <span class=\"highlighter-badge\"></span>,\n",
              " <span itemprop=\"name\">Anuhar Homes Pvt Ltd</span>,\n",
              " <span class=\"seller-type\">BUILDER</span>,\n",
              " <span class=\"val\">3 </span>,\n",
              " <span>BHK </span>,\n",
              " <span>Apartment</span>,\n",
              " <span class=\"project-wrap\"> in <strong><a class=\"projName\" data-link-name=\"Anuhar Rami Reddy Towers\" data-link-type=\"project overview\" data-track-label=\"14634760_20_1706361_select\" data-type=\"projName\" href=\"https://www.makaan.com/hyderabad/anuhar-homes-rami-reddy-towers-in-manikonda-1706361\" target=\"_blank\" title=\"Go to Anuhar Rami Reddy Towers\"><span>Anuhar Rami Reddy Towers</span></a></strong></span>,\n",
              " <span>Anuhar Rami Reddy Towers</span>,\n",
              " <span><span itemprop=\"address\" itemscope=\"\" itemtype=\"http://schema.org/PostalAddress\" title=\"Buy property in Manikonda Hyderabad\"><span class=\"locName\"><a class=\"loclink\" data-link-name=\"Manikonda Hyderabad\" data-link-type=\"locality buy serp\" data-type=\"localityName\" href=\"https://www.makaan.com/hyderabad-property/manikonda-flats-for-sale-51943\" itemprop=\"url\" target=\"_blank\"><span itemprop=\"addressLocality\"><strong>Manikonda</strong></span>, <span class=\"cityName\" itemprop=\"addressRegion\">Hyderabad</span></a></span></span></span>,\n",
              " <span itemprop=\"address\" itemscope=\"\" itemtype=\"http://schema.org/PostalAddress\" title=\"Buy property in Manikonda Hyderabad\"><span class=\"locName\"><a class=\"loclink\" data-link-name=\"Manikonda Hyderabad\" data-link-type=\"locality buy serp\" data-type=\"localityName\" href=\"https://www.makaan.com/hyderabad-property/manikonda-flats-for-sale-51943\" itemprop=\"url\" target=\"_blank\"><span itemprop=\"addressLocality\"><strong>Manikonda</strong></span>, <span class=\"cityName\" itemprop=\"addressRegion\">Hyderabad</span></a></span></span>,\n",
              " <span class=\"locName\"><a class=\"loclink\" data-link-name=\"Manikonda Hyderabad\" data-link-type=\"locality buy serp\" data-type=\"localityName\" href=\"https://www.makaan.com/hyderabad-property/manikonda-flats-for-sale-51943\" itemprop=\"url\" target=\"_blank\"><span itemprop=\"addressLocality\"><strong>Manikonda</strong></span>, <span class=\"cityName\" itemprop=\"addressRegion\">Hyderabad</span></a></span>,\n",
              " <span itemprop=\"addressLocality\"><strong>Manikonda</strong></span>,\n",
              " <span class=\"cityName\" itemprop=\"addressRegion\">Hyderabad</span>,\n",
              " <span class=\"val\" itemprop=\"offers\" itemscope=\"\" itemtype=\"http://schema.org/Offer\"><meta content=\"https://www.makaan.com/hyderabad/anuhar-homes-rami-reddy-towers-in-manikonda-14634760/3bhk-1704-sqft-apartment\" itemprop=\"url\"/><meta content=\"9711096 \" itemprop=\"price\"/><meta content=\"INR\" itemprop=\"priceCurrency\"/>97.11</span>,\n",
              " <span class=\"unit\"> L</span>,\n",
              " <span class=\"val\">1704 </span>,\n",
              " <span><strong><span>Possession by Aug 2022</span></strong></span>,\n",
              " <span>Possession by Aug 2022</span>,\n",
              " <span>New </span>,\n",
              " <span>3 BHK Property for Sale in Manikonda Hyderabad</span>,\n",
              " <span class=\"favbtn serpfavd\" data-id=\"14634760\" data-lazymodule=\"shortlist\" data-type=\"fav-btn\" id=\"shortlist-14634760\" title=\"shortlist this property\"><script type=\"text/x-config\">{\"listingId\":14634760,\"dataAwaited\": true}</script><i class=\"icon-makaan\"></i><i class=\"icon-makaanfill\"></i></span>,\n",
              " <span class=\"serpShare shareitem\" data-type=\"social-share\" data-url=\"https://www.makaan.com/hyderabad/anuhar-homes-rami-reddy-towers-in-manikonda-14634760/3bhk-1704-sqft-apartment\" title=\"share\"><i class=\"icon-share\"></i></span>,\n",
              " <span class=\"path1\"></span>,\n",
              " <span class=\"path2\"></span>,\n",
              " <span class=\"path3\"></span>,\n",
              " <span class=\"path4\"></span>,\n",
              " <span class=\"active\">1</span>,\n",
              " <span>...</span>,\n",
              " <span itemprop=\"lastReviewed\">Last update - 28-06-2021</span>,\n",
              " <span class=\"pink link\">Share your requirements</span>,\n",
              " <span class=\"link\">Download app</span>,\n",
              " <span class=\"dark\">Event </span>,\n",
              " <span class=\"light\"> this month </span>,\n",
              " <span class=\"link\" data-type=\"closePopup\">Got it</span>,\n",
              " <span class=\"link\" data-type=\"closePopup\">Got it</span>,\n",
              " <span class=\"desc-close\" data-type=\"closePopup\">â¨</span>,\n",
              " <span class=\"rupee currency\"></span>,\n",
              " <span class=\"rupee currency\"></span>,\n",
              " <span class=\"taxonomyOverflow\">Vessella Meadows,</span>,\n",
              " <span class=\"taxonomyOverflow\">Narsingi,</span>,\n",
              " <span class=\"rupee currency\"></span>,\n",
              " <span class=\"rupee currency\"></span>,\n",
              " <span class=\"taxonomyOverflow\">Anuhar Rami Reddy Towers,</span>,\n",
              " <span class=\"taxonomyOverflow\">Manikonda,</span>,\n",
              " <span class=\"rupee currency\"></span>,\n",
              " ...]"
            ]
          },
          "metadata": {
            "tags": []
          },
          "execution_count": 5
        }
      ]
    },
    {
      "cell_type": "code",
      "metadata": {
        "colab": {
          "base_uri": "https://localhost:8080/",
          "height": 35
        },
        "id": "fwxfrAokExEh",
        "outputId": "d1bbca3d-b869-4c1a-af16-6769d1b451d4"
      },
      "source": [
        "soup.find('span',attrs={'class' : 'seller-type'}).text  #owner info"
      ],
      "execution_count": null,
      "outputs": [
        {
          "output_type": "execute_result",
          "data": {
            "application/vnd.google.colaboratory.intrinsic+json": {
              "type": "string"
            },
            "text/plain": [
              "'BUILDER'"
            ]
          },
          "metadata": {
            "tags": []
          },
          "execution_count": 6
        }
      ]
    },
    {
      "cell_type": "code",
      "metadata": {
        "colab": {
          "base_uri": "https://localhost:8080/"
        },
        "id": "H68-fq3rExHn",
        "outputId": "d4b53cb5-6b9c-4359-aa48-fb1f7852fe56"
      },
      "source": [
        "soup.findAll('span',attrs={'class' : 'val'})"
      ],
      "execution_count": null,
      "outputs": [
        {
          "output_type": "execute_result",
          "data": {
            "text/plain": [
              "[<span class=\"val js-tag\"></span>,\n",
              " <span class=\"val\">4 </span>,\n",
              " <span class=\"val\" itemprop=\"offers\" itemscope=\"\" itemtype=\"http://schema.org/Offer\"><meta content=\"https://www.makaan.com/hyderabad/vessella-group-meadows-in-narsingi-14826366/4bhk-2929-sqft-villa\" itemprop=\"url\"/><meta content=\"46864000 \" itemprop=\"price\"/><meta content=\"INR\" itemprop=\"priceCurrency\"/>4.68</span>,\n",
              " <span class=\"val\">2929 </span>,\n",
              " <span class=\"val\">3 </span>,\n",
              " <span class=\"val\" itemprop=\"offers\" itemscope=\"\" itemtype=\"http://schema.org/Offer\"><meta content=\"https://www.makaan.com/hyderabad/anuhar-homes-rami-reddy-towers-in-manikonda-14634762/3bhk-2810-sqft-apartment\" itemprop=\"url\"/><meta content=\"16014190 \" itemprop=\"price\"/><meta content=\"INR\" itemprop=\"priceCurrency\"/>1.6</span>,\n",
              " <span class=\"val\">2810 </span>,\n",
              " <span class=\"val\">2 </span>,\n",
              " <span class=\"val\" itemprop=\"offers\" itemscope=\"\" itemtype=\"http://schema.org/Offer\"><meta content=\"https://www.makaan.com/hyderabad/salarpuria-sattva-group-magnus-in-shaikpet-14561088/2bhk-2t-1495-sqft-apartment\" itemprop=\"url\"/><meta content=\"14300000 \" itemprop=\"price\"/><meta content=\"INR\" itemprop=\"priceCurrency\"/>1.43</span>,\n",
              " <span class=\"val\">1495 </span>,\n",
              " <span class=\"val\">2 </span>,\n",
              " <span class=\"val\" itemprop=\"offers\" itemscope=\"\" itemtype=\"http://schema.org/Offer\"><meta content=\"https://www.makaan.com/hyderabad/risinia-builders-trendilla-in-bachupally-9836003/2bhk-1295-sqft-apartment\" itemprop=\"url\"/><meta content=\"5698000 \" itemprop=\"price\"/><meta content=\"INR\" itemprop=\"priceCurrency\"/>56.98</span>,\n",
              " <span class=\"val\">1295 </span>,\n",
              " <span class=\"val\">2 </span>,\n",
              " <span class=\"val\" itemprop=\"offers\" itemscope=\"\" itemtype=\"http://schema.org/Offer\"><meta content=\"https://www.makaan.com/hyderabad/suchirindia-constructions-pvt-ltd-the-tales-of-greek-in-shamshabad-14256412/2bhk-890-sqft-apartment\" itemprop=\"url\"/><meta content=\"4360110 \" itemprop=\"price\"/><meta content=\"INR\" itemprop=\"priceCurrency\"/>43.6</span>,\n",
              " <span class=\"val\">890 </span>,\n",
              " <span class=\"val\">3 </span>,\n",
              " <span class=\"val\" itemprop=\"offers\" itemscope=\"\" itemtype=\"http://schema.org/Offer\"><meta content=\"https://www.makaan.com/hyderabad/aakriti-housing-esta-in-tellapur-14174529/3bhk-1431-sqft-apartment\" itemprop=\"url\"/><meta content=\"6582600 \" itemprop=\"price\"/><meta content=\"INR\" itemprop=\"priceCurrency\"/>65.82</span>,\n",
              " <span class=\"val\">1431 </span>,\n",
              " <span class=\"val\">2 </span>,\n",
              " <span class=\"val\" itemprop=\"offers\" itemscope=\"\" itemtype=\"http://schema.org/Offer\"><meta content=\"https://www.makaan.com/hyderabad/rami-reddy-laxmi-ram-haran-in-attapur-14165412/2bhk-1173-sqft-apartment\" itemprop=\"url\"/><meta content=\"7626255 \" itemprop=\"price\"/><meta content=\"INR\" itemprop=\"priceCurrency\"/>76.26</span>,\n",
              " <span class=\"val\">1173 </span>,\n",
              " <span class=\"val\">3 </span>,\n",
              " <span class=\"val\" itemprop=\"offers\" itemscope=\"\" itemtype=\"http://schema.org/Offer\"><meta content=\"https://www.makaan.com/hyderabad/om-sree-builders-brilliance-in-sainikpuri-14001479/3bhk-2200-sqft-apartment\" itemprop=\"url\"/><meta content=\"11880000 \" itemprop=\"price\"/><meta content=\"INR\" itemprop=\"priceCurrency\"/>1.18</span>,\n",
              " <span class=\"val\">2200 </span>,\n",
              " <span class=\"val\" itemprop=\"offers\" itemscope=\"\" itemtype=\"http://schema.org/Offer\"><meta content=\"https://www.makaan.com/hyderabad/haripriya-developers-hyderabad-dukes-county-phase-ii-in-sheriguda-14019358/3150-sqft-plot\" itemprop=\"url\"/><meta content=\"11198250 \" itemprop=\"price\"/><meta content=\"INR\" itemprop=\"priceCurrency\"/>1.11</span>,\n",
              " <span class=\"val\">3150 </span>,\n",
              " <span class=\"val\">3 </span>,\n",
              " <span class=\"val\" itemprop=\"offers\" itemscope=\"\" itemtype=\"http://schema.org/Offer\"><meta content=\"https://www.makaan.com/hyderabad/riddhi-grandeur-in-manikonda-13837835/3bhk-1538-sqft-apartment\" itemprop=\"url\"/><meta content=\"9535600 \" itemprop=\"price\"/><meta content=\"INR\" itemprop=\"priceCurrency\"/>95.35</span>,\n",
              " <span class=\"val\">1538 </span>,\n",
              " <span class=\"val\">4 </span>,\n",
              " <span class=\"val\" itemprop=\"offers\" itemscope=\"\" itemtype=\"http://schema.org/Offer\"><meta content=\"https://www.makaan.com/hyderabad/vajra-builders-and-developers-nature-city-in-bachupally-13741717/4bhk-2300-sqft-villa\" itemprop=\"url\"/><meta content=\"14500000 \" itemprop=\"price\"/><meta content=\"INR\" itemprop=\"priceCurrency\"/>1.45</span>,\n",
              " <span class=\"val\">2300 </span>,\n",
              " <span class=\"val\">2 </span>,\n",
              " <span class=\"val\" itemprop=\"offers\" itemscope=\"\" itemtype=\"http://schema.org/Offer\"><meta content=\"https://www.makaan.com/hyderabad/vasavi-constructions-sri-nivasam-in-ghatkesar-13657427/2bhk-1245-sqft-apartment\" itemprop=\"url\"/><meta content=\"5602500 \" itemprop=\"price\"/><meta content=\"INR\" itemprop=\"priceCurrency\"/>56.02</span>,\n",
              " <span class=\"val\">1245 </span>,\n",
              " <span class=\"val\">2 </span>,\n",
              " <span class=\"val\" itemprop=\"offers\" itemscope=\"\" itemtype=\"http://schema.org/Offer\"><meta content=\"https://www.makaan.com/hyderabad/theme-ambience-vista-in-attapur-13641216/2bhk-1310-sqft-apartment\" itemprop=\"url\"/><meta content=\"7205000 \" itemprop=\"price\"/><meta content=\"INR\" itemprop=\"priceCurrency\"/>72.05</span>,\n",
              " <span class=\"val\">1310 </span>,\n",
              " <span class=\"val\">2 </span>,\n",
              " <span class=\"val\" itemprop=\"offers\" itemscope=\"\" itemtype=\"http://schema.org/Offer\"><meta content=\"https://www.makaan.com/hyderabad/beams-and-columns-builders-4-blocks-in-kompally-13630015/2bhk-1310-sqft-apartment\" itemprop=\"url\"/><meta content=\"6157000 \" itemprop=\"price\"/><meta content=\"INR\" itemprop=\"priceCurrency\"/>61.57</span>,\n",
              " <span class=\"val\">1310 </span>,\n",
              " <span class=\"val\">3 </span>,\n",
              " <span class=\"val\" itemprop=\"offers\" itemscope=\"\" itemtype=\"http://schema.org/Offer\"><meta content=\"https://www.makaan.com/hyderabad/harshith-infra-and-developers-lahari-aananda-spring-field-villas-in-shankarpalli-13584324/3bhk-3120-sqft-independenthouse\" itemprop=\"url\"/><meta content=\"14665739 \" itemprop=\"price\"/><meta content=\"INR\" itemprop=\"priceCurrency\"/>1.46</span>,\n",
              " <span class=\"val\">3120 </span>,\n",
              " <span class=\"val\">3 </span>,\n",
              " <span class=\"val\" itemprop=\"offers\" itemscope=\"\" itemtype=\"http://schema.org/Offer\"><meta content=\"https://www.makaan.com/hyderabad/prasad-atluri-cyber-springs-in-nanakramguda-13213781/3bhk-1415-sqft-apartment\" itemprop=\"url\"/><meta content=\"9622000 \" itemprop=\"price\"/><meta content=\"INR\" itemprop=\"priceCurrency\"/>96.22</span>,\n",
              " <span class=\"val\">1415 </span>,\n",
              " <span class=\"val\">4 </span>,\n",
              " <span class=\"val\" itemprop=\"offers\" itemscope=\"\" itemtype=\"http://schema.org/Offer\"><meta content=\"https://www.makaan.com/hyderabad/prestige-group-ivy-league-in-hitech-city-11264369/4bhk-3498-sqft-apartment\" itemprop=\"url\"/><meta content=\"29000000 \" itemprop=\"price\"/><meta content=\"INR\" itemprop=\"priceCurrency\"/>2.9</span>,\n",
              " <span class=\"val\">3498 </span>,\n",
              " <span class=\"val\">3 </span>,\n",
              " <span class=\"val\" itemprop=\"offers\" itemscope=\"\" itemtype=\"http://schema.org/Offer\"><meta content=\"https://www.makaan.com/hyderabad/engineers-associates-sri-tirumala-millennium-phase-ii-in-mallampet-13496369/3bhk-1503-sqft-apartment\" itemprop=\"url\"/><meta content=\"6311097 \" itemprop=\"price\"/><meta content=\"INR\" itemprop=\"priceCurrency\"/>63.11</span>,\n",
              " <span class=\"val\">1503 </span>,\n",
              " <span class=\"val\">5 </span>,\n",
              " <span class=\"val\" itemprop=\"offers\" itemscope=\"\" itemtype=\"http://schema.org/Offer\"><meta content=\"https://www.makaan.com/hyderabad/vessella-group-meadows-in-narsingi-14826365/5bhk-5t-8214-sqft-villa\" itemprop=\"url\"/><meta content=\"131424000 \" itemprop=\"price\"/><meta content=\"INR\" itemprop=\"priceCurrency\"/>13.14</span>,\n",
              " <span class=\"val\">8214 </span>,\n",
              " <span class=\"val\">3 </span>,\n",
              " <span class=\"val\" itemprop=\"offers\" itemscope=\"\" itemtype=\"http://schema.org/Offer\"><meta content=\"https://www.makaan.com/hyderabad/anuhar-homes-rami-reddy-towers-in-manikonda-14634760/3bhk-1704-sqft-apartment\" itemprop=\"url\"/><meta content=\"9711096 \" itemprop=\"price\"/><meta content=\"INR\" itemprop=\"priceCurrency\"/>97.11</span>,\n",
              " <span class=\"val\">1704 </span>]"
            ]
          },
          "metadata": {
            "tags": []
          },
          "execution_count": 7
        }
      ]
    },
    {
      "cell_type": "code",
      "metadata": {
        "colab": {
          "base_uri": "https://localhost:8080/",
          "height": 35
        },
        "id": "ALYabcPgExK-",
        "outputId": "93a87514-efd8-475a-ab44-04b895d6ae81"
      },
      "source": [
        "soup.find('div',attrs={'class': 'title-line '}).strong.span.text   # bhk"
      ],
      "execution_count": null,
      "outputs": [
        {
          "output_type": "execute_result",
          "data": {
            "application/vnd.google.colaboratory.intrinsic+json": {
              "type": "string"
            },
            "text/plain": [
              "'4 '"
            ]
          },
          "metadata": {
            "tags": []
          },
          "execution_count": 8
        }
      ]
    },
    {
      "cell_type": "code",
      "metadata": {
        "colab": {
          "base_uri": "https://localhost:8080/",
          "height": 35
        },
        "id": "NHIF6d7OExOE",
        "outputId": "045a6987-a2c7-4eb2-9a81-5470ab55da92"
      },
      "source": [
        "soup.find('div',attrs={'data-type':'price-link'}).text   #price of aprt"
      ],
      "execution_count": null,
      "outputs": [
        {
          "output_type": "execute_result",
          "data": {
            "application/vnd.google.colaboratory.intrinsic+json": {
              "type": "string"
            },
            "text/plain": [
              "' 4.68 Cr'"
            ]
          },
          "metadata": {
            "tags": []
          },
          "execution_count": 9
        }
      ]
    },
    {
      "cell_type": "code",
      "metadata": {
        "colab": {
          "base_uri": "https://localhost:8080/",
          "height": 35
        },
        "id": "uD6MFY1VExTy",
        "outputId": "38b17775-04cb-4e8f-dc48-92ddcc473da2"
      },
      "source": [
        "soup.find('span',attrs={'itemprop':'addressLocality'}).text   # locality"
      ],
      "execution_count": null,
      "outputs": [
        {
          "output_type": "execute_result",
          "data": {
            "application/vnd.google.colaboratory.intrinsic+json": {
              "type": "string"
            },
            "text/plain": [
              "'Narsingi'"
            ]
          },
          "metadata": {
            "tags": []
          },
          "execution_count": 10
        }
      ]
    },
    {
      "cell_type": "code",
      "metadata": {
        "colab": {
          "base_uri": "https://localhost:8080/",
          "height": 35
        },
        "id": "9VmMR_vRExap",
        "outputId": "40c71f45-4756-4062-c420-a704c60fa11f"
      },
      "source": [
        "soup.find('td',attrs={'class' : 'size'}).text   # area of aprt"
      ],
      "execution_count": null,
      "outputs": [
        {
          "output_type": "execute_result",
          "data": {
            "application/vnd.google.colaboratory.intrinsic+json": {
              "type": "string"
            },
            "text/plain": [
              "'2929 '"
            ]
          },
          "metadata": {
            "tags": []
          },
          "execution_count": 11
        }
      ]
    },
    {
      "cell_type": "code",
      "metadata": {
        "colab": {
          "base_uri": "https://localhost:8080/",
          "height": 35
        },
        "id": "PMEp5dEnExeY",
        "outputId": "bcbb861e-1ba4-4a21-f5ad-b56fe5bc3262"
      },
      "source": [
        "soup.find('td',attrs={'class' : 'val'}).text   # construction status"
      ],
      "execution_count": null,
      "outputs": [
        {
          "output_type": "execute_result",
          "data": {
            "application/vnd.google.colaboratory.intrinsic+json": {
              "type": "string"
            },
            "text/plain": [
              "'Under Construction'"
            ]
          },
          "metadata": {
            "tags": []
          },
          "execution_count": 12
        }
      ]
    },
    {
      "cell_type": "code",
      "metadata": {
        "colab": {
          "base_uri": "https://localhost:8080/",
          "height": 35
        },
        "id": "VIhmYnN-ExhW",
        "outputId": "1ed9142d-0542-43c2-80f8-8f8b10fb5273"
      },
      "source": [
        "soup.find('td',attrs={'class':'lbl rate'}).text  # price per sqft"
      ],
      "execution_count": null,
      "outputs": [
        {
          "output_type": "execute_result",
          "data": {
            "application/vnd.google.colaboratory.intrinsic+json": {
              "type": "string"
            },
            "text/plain": [
              "'16,000 / sq ft'"
            ]
          },
          "metadata": {
            "tags": []
          },
          "execution_count": 13
        }
      ]
    },
    {
      "cell_type": "code",
      "metadata": {
        "id": "eVqY80ucExkD"
      },
      "source": [
        ""
      ],
      "execution_count": null,
      "outputs": []
    },
    {
      "cell_type": "code",
      "metadata": {
        "colab": {
          "base_uri": "https://localhost:8080/"
        },
        "id": "Ci1qPuxXExnO",
        "outputId": "48a95138-5e7e-41bb-aa7d-9c1cd115af49"
      },
      "source": [
        "own_info = soup.findAll('span',attrs={'class' : 'seller-type'})  #owner info\n",
        "len(own_info)"
      ],
      "execution_count": null,
      "outputs": [
        {
          "output_type": "execute_result",
          "data": {
            "text/plain": [
              "20"
            ]
          },
          "metadata": {
            "tags": []
          },
          "execution_count": 14
        }
      ]
    },
    {
      "cell_type": "code",
      "metadata": {
        "colab": {
          "base_uri": "https://localhost:8080/"
        },
        "id": "MVxW1wiyN5jx",
        "outputId": "f18f4331-0eea-4c67-cb01-71baec990638"
      },
      "source": [
        "own_inf = [i.text for i in own_info]  # owner info\n",
        "own_inf"
      ],
      "execution_count": null,
      "outputs": [
        {
          "output_type": "execute_result",
          "data": {
            "text/plain": [
              "['BUILDER',\n",
              " 'BUILDER',\n",
              " 'BUILDER',\n",
              " 'BUILDER',\n",
              " 'BUILDER',\n",
              " 'BUILDER',\n",
              " 'BUILDER',\n",
              " 'BUILDER',\n",
              " 'BUILDER',\n",
              " 'BUILDER',\n",
              " 'BUILDER',\n",
              " 'BUILDER',\n",
              " 'BUILDER',\n",
              " 'BUILDER',\n",
              " 'BUILDER',\n",
              " 'BUILDER',\n",
              " 'BUILDER',\n",
              " 'BUILDER',\n",
              " 'BUILDER',\n",
              " 'BUILDER']"
            ]
          },
          "metadata": {
            "tags": []
          },
          "execution_count": 15
        }
      ]
    },
    {
      "cell_type": "code",
      "metadata": {
        "id": "XjSwUIrsExqY"
      },
      "source": [
        "b_info = soup.findAll('div',attrs={'class': 'title-line '})   # bhk"
      ],
      "execution_count": null,
      "outputs": []
    },
    {
      "cell_type": "code",
      "metadata": {
        "colab": {
          "base_uri": "https://localhost:8080/"
        },
        "id": "nerVVAidExtw",
        "outputId": "2d573b3f-95b4-43c0-a3c1-6635255ba1be"
      },
      "source": [
        "bhk_info = [i.strong.span.text.strip() for i in b_info]  #bhk info\n",
        "bhk_info"
      ],
      "execution_count": null,
      "outputs": [
        {
          "output_type": "execute_result",
          "data": {
            "text/plain": [
              "['4',\n",
              " '3',\n",
              " '2',\n",
              " '2',\n",
              " '2',\n",
              " '3',\n",
              " '2',\n",
              " '3',\n",
              " 'Residential Plot',\n",
              " '3',\n",
              " '4',\n",
              " '2',\n",
              " '2',\n",
              " '2',\n",
              " '3',\n",
              " '3',\n",
              " '4',\n",
              " '3',\n",
              " '5',\n",
              " '3']"
            ]
          },
          "metadata": {
            "tags": []
          },
          "execution_count": 17
        }
      ]
    },
    {
      "cell_type": "code",
      "metadata": {
        "colab": {
          "base_uri": "https://localhost:8080/"
        },
        "id": "vgB8b_3GP7jF",
        "outputId": "69e59439-dcfb-4d3d-a748-47a9ac18c690"
      },
      "source": [
        "p_inf = soup.findAll('div',attrs={'data-type':'price-link'})  #price of aprt\n",
        "p_info = [i.text.strip() for i in p_inf]\n",
        "p_info"
      ],
      "execution_count": null,
      "outputs": [
        {
          "output_type": "execute_result",
          "data": {
            "text/plain": [
              "['4.68 Cr',\n",
              " '1.6 Cr',\n",
              " '1.43 Cr',\n",
              " '56.98 L',\n",
              " '43.6 L',\n",
              " '65.82 L',\n",
              " '76.26 L',\n",
              " '1.18 Cr',\n",
              " '1.11 Cr',\n",
              " '95.35 L',\n",
              " '1.45 Cr',\n",
              " '56.02 L',\n",
              " '72.05 L',\n",
              " '61.57 L',\n",
              " '1.46 Cr',\n",
              " '96.22 L',\n",
              " '2.9 Cr',\n",
              " '63.11 L',\n",
              " '13.14 Cr',\n",
              " '97.11 L']"
            ]
          },
          "metadata": {
            "tags": []
          },
          "execution_count": 18
        }
      ]
    },
    {
      "cell_type": "code",
      "metadata": {
        "colab": {
          "base_uri": "https://localhost:8080/"
        },
        "id": "f0ExD2RTP7mT",
        "outputId": "588fa2a9-a38c-4b9f-9656-9b38cd09ae9d"
      },
      "source": [
        "loc_inf = soup.findAll('span',attrs={'itemprop':'addressLocality'})   # locality\n",
        "loc_info = [i.text for i in loc_inf]\n",
        "loc_info"
      ],
      "execution_count": null,
      "outputs": [
        {
          "output_type": "execute_result",
          "data": {
            "text/plain": [
              "['Narsingi',\n",
              " 'Manikonda',\n",
              " 'Shaikpet',\n",
              " 'Bachupally',\n",
              " 'Shamshabad',\n",
              " 'Tellapur',\n",
              " 'Attapur',\n",
              " 'Sainikpuri',\n",
              " 'Sheriguda',\n",
              " 'Manikonda',\n",
              " 'Bachupally',\n",
              " 'Ghatkesar',\n",
              " 'Attapur',\n",
              " 'Kompally',\n",
              " 'Shankarpalli',\n",
              " 'Nanakramguda',\n",
              " 'Hitech City',\n",
              " 'Mallampet',\n",
              " 'Narsingi',\n",
              " 'Manikonda']"
            ]
          },
          "metadata": {
            "tags": []
          },
          "execution_count": 19
        }
      ]
    },
    {
      "cell_type": "code",
      "metadata": {
        "colab": {
          "base_uri": "https://localhost:8080/"
        },
        "id": "f8FW2JezVxyn",
        "outputId": "77173755-a75e-4c7e-847d-d1e7fff10bfb"
      },
      "source": [
        "a_inf = soup.findAll('td',attrs={'class' : 'size'})   # area of aprt\n",
        "ar_info = [i.text.strip() for i in a_inf]\n",
        "ar_info"
      ],
      "execution_count": null,
      "outputs": [
        {
          "output_type": "execute_result",
          "data": {
            "text/plain": [
              "['2929',\n",
              " '2810',\n",
              " '1495',\n",
              " '1295',\n",
              " '890',\n",
              " '1431',\n",
              " '1173',\n",
              " '2200',\n",
              " '3150',\n",
              " '1538',\n",
              " '2300',\n",
              " '1245',\n",
              " '1310',\n",
              " '1310',\n",
              " '3120',\n",
              " '1415',\n",
              " '3498',\n",
              " '1503',\n",
              " '8214',\n",
              " '1704']"
            ]
          },
          "metadata": {
            "tags": []
          },
          "execution_count": 20
        }
      ]
    },
    {
      "cell_type": "code",
      "metadata": {
        "colab": {
          "base_uri": "https://localhost:8080/"
        },
        "id": "I76wLYv8WMgR",
        "outputId": "cf0b66de-a1a0-4594-ea4c-c886f53dcc8d"
      },
      "source": [
        "con_st = soup.findAll('td',attrs={'class' : 'val'})   # construction status\n",
        "con_status = [i.text for i in con_st]\n",
        "con_status"
      ],
      "execution_count": null,
      "outputs": [
        {
          "output_type": "execute_result",
          "data": {
            "text/plain": [
              "['Under Construction',\n",
              " 'Under Construction',\n",
              " 'Ready to move',\n",
              " 'Under Construction',\n",
              " 'Under Construction',\n",
              " 'Under Construction',\n",
              " 'Under Construction',\n",
              " 'Under Construction',\n",
              " 'New',\n",
              " 'Under Construction',\n",
              " 'Under Construction',\n",
              " 'Under Construction',\n",
              " 'Under Construction',\n",
              " 'Under Construction',\n",
              " 'Under Construction',\n",
              " 'Ready to move',\n",
              " 'Ready to move',\n",
              " 'Under Construction',\n",
              " 'Under Construction',\n",
              " 'Under Construction']"
            ]
          },
          "metadata": {
            "tags": []
          },
          "execution_count": 21
        }
      ]
    },
    {
      "cell_type": "code",
      "metadata": {
        "colab": {
          "base_uri": "https://localhost:8080/"
        },
        "id": "SsUcWICrWjSw",
        "outputId": "a94e2417-81db-4298-d8a1-3b75af768e05"
      },
      "source": [
        "p_p_sqft = soup.findAll('td',attrs={'class':'lbl rate'})  # price per sqft\n",
        "prc_pr_sqft = [i.text for i in p_p_sqft]\n",
        "print(prc_pr_sqft)\n",
        "print(len(prc_pr_sqft))"
      ],
      "execution_count": null,
      "outputs": [
        {
          "output_type": "stream",
          "text": [
            "['16,000 / sq ft', '5,699 / sq ft', '9,565 / sq ft', '4,400 / sq ft', '4,899 / sq ft', '4,600 / sq ft', '6,501 / sq ft', '5,400 / sq ft', '3,555 / sq ft', '6,200 / sq ft', '6,304 / sq ft', '4,500 / sq ft', '5,500 / sq ft', '4,700 / sq ft', '4,700 / sq ft', '6,800 / sq ft', '8,290 / sq ft', '4,199 / sq ft', '16,000 / sq ft', '5,699 / sq ft']\n",
            "20\n"
          ],
          "name": "stdout"
        }
      ]
    },
    {
      "cell_type": "code",
      "metadata": {
        "id": "YFaQw1I1W5ag"
      },
      "source": [
        "data = pd.DataFrame({'Owner_inf' : own_inf,\n",
        "              'Bhk_info' : bhk_info,\n",
        "              'Price' : p_info,\n",
        "              'Locality' : loc_info,\n",
        "              'Area_sqft' : ar_info,\n",
        "              'Status' : con_status,\n",
        "              'Price_Per_sqft' : prc_pr_sqft})"
      ],
      "execution_count": null,
      "outputs": []
    },
    {
      "cell_type": "code",
      "metadata": {
        "colab": {
          "base_uri": "https://localhost:8080/",
          "height": 662
        },
        "id": "sczECg12X_85",
        "outputId": "0982260f-4903-4820-ca34-ecd5e9dc9bad"
      },
      "source": [
        "data"
      ],
      "execution_count": null,
      "outputs": [
        {
          "output_type": "execute_result",
          "data": {
            "text/html": [
              "<div>\n",
              "<style scoped>\n",
              "    .dataframe tbody tr th:only-of-type {\n",
              "        vertical-align: middle;\n",
              "    }\n",
              "\n",
              "    .dataframe tbody tr th {\n",
              "        vertical-align: top;\n",
              "    }\n",
              "\n",
              "    .dataframe thead th {\n",
              "        text-align: right;\n",
              "    }\n",
              "</style>\n",
              "<table border=\"1\" class=\"dataframe\">\n",
              "  <thead>\n",
              "    <tr style=\"text-align: right;\">\n",
              "      <th></th>\n",
              "      <th>Owner_inf</th>\n",
              "      <th>Bhk_info</th>\n",
              "      <th>Price</th>\n",
              "      <th>Locality</th>\n",
              "      <th>Area_sqft</th>\n",
              "      <th>Status</th>\n",
              "      <th>Price_Per_sqft</th>\n",
              "    </tr>\n",
              "  </thead>\n",
              "  <tbody>\n",
              "    <tr>\n",
              "      <th>0</th>\n",
              "      <td>BUILDER</td>\n",
              "      <td>4</td>\n",
              "      <td>4.68 Cr</td>\n",
              "      <td>Narsingi</td>\n",
              "      <td>2929</td>\n",
              "      <td>Under Construction</td>\n",
              "      <td>16,000 / sq ft</td>\n",
              "    </tr>\n",
              "    <tr>\n",
              "      <th>1</th>\n",
              "      <td>BUILDER</td>\n",
              "      <td>3</td>\n",
              "      <td>1.6 Cr</td>\n",
              "      <td>Manikonda</td>\n",
              "      <td>2810</td>\n",
              "      <td>Under Construction</td>\n",
              "      <td>5,699 / sq ft</td>\n",
              "    </tr>\n",
              "    <tr>\n",
              "      <th>2</th>\n",
              "      <td>BUILDER</td>\n",
              "      <td>2</td>\n",
              "      <td>1.43 Cr</td>\n",
              "      <td>Shaikpet</td>\n",
              "      <td>1495</td>\n",
              "      <td>Ready to move</td>\n",
              "      <td>9,565 / sq ft</td>\n",
              "    </tr>\n",
              "    <tr>\n",
              "      <th>3</th>\n",
              "      <td>BUILDER</td>\n",
              "      <td>2</td>\n",
              "      <td>56.98 L</td>\n",
              "      <td>Bachupally</td>\n",
              "      <td>1295</td>\n",
              "      <td>Under Construction</td>\n",
              "      <td>4,400 / sq ft</td>\n",
              "    </tr>\n",
              "    <tr>\n",
              "      <th>4</th>\n",
              "      <td>BUILDER</td>\n",
              "      <td>2</td>\n",
              "      <td>43.6 L</td>\n",
              "      <td>Shamshabad</td>\n",
              "      <td>890</td>\n",
              "      <td>Under Construction</td>\n",
              "      <td>4,899 / sq ft</td>\n",
              "    </tr>\n",
              "    <tr>\n",
              "      <th>5</th>\n",
              "      <td>BUILDER</td>\n",
              "      <td>3</td>\n",
              "      <td>65.82 L</td>\n",
              "      <td>Tellapur</td>\n",
              "      <td>1431</td>\n",
              "      <td>Under Construction</td>\n",
              "      <td>4,600 / sq ft</td>\n",
              "    </tr>\n",
              "    <tr>\n",
              "      <th>6</th>\n",
              "      <td>BUILDER</td>\n",
              "      <td>2</td>\n",
              "      <td>76.26 L</td>\n",
              "      <td>Attapur</td>\n",
              "      <td>1173</td>\n",
              "      <td>Under Construction</td>\n",
              "      <td>6,501 / sq ft</td>\n",
              "    </tr>\n",
              "    <tr>\n",
              "      <th>7</th>\n",
              "      <td>BUILDER</td>\n",
              "      <td>3</td>\n",
              "      <td>1.18 Cr</td>\n",
              "      <td>Sainikpuri</td>\n",
              "      <td>2200</td>\n",
              "      <td>Under Construction</td>\n",
              "      <td>5,400 / sq ft</td>\n",
              "    </tr>\n",
              "    <tr>\n",
              "      <th>8</th>\n",
              "      <td>BUILDER</td>\n",
              "      <td>Residential Plot</td>\n",
              "      <td>1.11 Cr</td>\n",
              "      <td>Sheriguda</td>\n",
              "      <td>3150</td>\n",
              "      <td>New</td>\n",
              "      <td>3,555 / sq ft</td>\n",
              "    </tr>\n",
              "    <tr>\n",
              "      <th>9</th>\n",
              "      <td>BUILDER</td>\n",
              "      <td>3</td>\n",
              "      <td>95.35 L</td>\n",
              "      <td>Manikonda</td>\n",
              "      <td>1538</td>\n",
              "      <td>Under Construction</td>\n",
              "      <td>6,200 / sq ft</td>\n",
              "    </tr>\n",
              "    <tr>\n",
              "      <th>10</th>\n",
              "      <td>BUILDER</td>\n",
              "      <td>4</td>\n",
              "      <td>1.45 Cr</td>\n",
              "      <td>Bachupally</td>\n",
              "      <td>2300</td>\n",
              "      <td>Under Construction</td>\n",
              "      <td>6,304 / sq ft</td>\n",
              "    </tr>\n",
              "    <tr>\n",
              "      <th>11</th>\n",
              "      <td>BUILDER</td>\n",
              "      <td>2</td>\n",
              "      <td>56.02 L</td>\n",
              "      <td>Ghatkesar</td>\n",
              "      <td>1245</td>\n",
              "      <td>Under Construction</td>\n",
              "      <td>4,500 / sq ft</td>\n",
              "    </tr>\n",
              "    <tr>\n",
              "      <th>12</th>\n",
              "      <td>BUILDER</td>\n",
              "      <td>2</td>\n",
              "      <td>72.05 L</td>\n",
              "      <td>Attapur</td>\n",
              "      <td>1310</td>\n",
              "      <td>Under Construction</td>\n",
              "      <td>5,500 / sq ft</td>\n",
              "    </tr>\n",
              "    <tr>\n",
              "      <th>13</th>\n",
              "      <td>BUILDER</td>\n",
              "      <td>2</td>\n",
              "      <td>61.57 L</td>\n",
              "      <td>Kompally</td>\n",
              "      <td>1310</td>\n",
              "      <td>Under Construction</td>\n",
              "      <td>4,700 / sq ft</td>\n",
              "    </tr>\n",
              "    <tr>\n",
              "      <th>14</th>\n",
              "      <td>BUILDER</td>\n",
              "      <td>3</td>\n",
              "      <td>1.46 Cr</td>\n",
              "      <td>Shankarpalli</td>\n",
              "      <td>3120</td>\n",
              "      <td>Under Construction</td>\n",
              "      <td>4,700 / sq ft</td>\n",
              "    </tr>\n",
              "    <tr>\n",
              "      <th>15</th>\n",
              "      <td>BUILDER</td>\n",
              "      <td>3</td>\n",
              "      <td>96.22 L</td>\n",
              "      <td>Nanakramguda</td>\n",
              "      <td>1415</td>\n",
              "      <td>Ready to move</td>\n",
              "      <td>6,800 / sq ft</td>\n",
              "    </tr>\n",
              "    <tr>\n",
              "      <th>16</th>\n",
              "      <td>BUILDER</td>\n",
              "      <td>4</td>\n",
              "      <td>2.9 Cr</td>\n",
              "      <td>Hitech City</td>\n",
              "      <td>3498</td>\n",
              "      <td>Ready to move</td>\n",
              "      <td>8,290 / sq ft</td>\n",
              "    </tr>\n",
              "    <tr>\n",
              "      <th>17</th>\n",
              "      <td>BUILDER</td>\n",
              "      <td>3</td>\n",
              "      <td>63.11 L</td>\n",
              "      <td>Mallampet</td>\n",
              "      <td>1503</td>\n",
              "      <td>Under Construction</td>\n",
              "      <td>4,199 / sq ft</td>\n",
              "    </tr>\n",
              "    <tr>\n",
              "      <th>18</th>\n",
              "      <td>BUILDER</td>\n",
              "      <td>5</td>\n",
              "      <td>13.14 Cr</td>\n",
              "      <td>Narsingi</td>\n",
              "      <td>8214</td>\n",
              "      <td>Under Construction</td>\n",
              "      <td>16,000 / sq ft</td>\n",
              "    </tr>\n",
              "    <tr>\n",
              "      <th>19</th>\n",
              "      <td>BUILDER</td>\n",
              "      <td>3</td>\n",
              "      <td>97.11 L</td>\n",
              "      <td>Manikonda</td>\n",
              "      <td>1704</td>\n",
              "      <td>Under Construction</td>\n",
              "      <td>5,699 / sq ft</td>\n",
              "    </tr>\n",
              "  </tbody>\n",
              "</table>\n",
              "</div>"
            ],
            "text/plain": [
              "   Owner_inf          Bhk_info  ...              Status  Price_Per_sqft\n",
              "0    BUILDER                 4  ...  Under Construction  16,000 / sq ft\n",
              "1    BUILDER                 3  ...  Under Construction   5,699 / sq ft\n",
              "2    BUILDER                 2  ...       Ready to move   9,565 / sq ft\n",
              "3    BUILDER                 2  ...  Under Construction   4,400 / sq ft\n",
              "4    BUILDER                 2  ...  Under Construction   4,899 / sq ft\n",
              "5    BUILDER                 3  ...  Under Construction   4,600 / sq ft\n",
              "6    BUILDER                 2  ...  Under Construction   6,501 / sq ft\n",
              "7    BUILDER                 3  ...  Under Construction   5,400 / sq ft\n",
              "8    BUILDER  Residential Plot  ...                 New   3,555 / sq ft\n",
              "9    BUILDER                 3  ...  Under Construction   6,200 / sq ft\n",
              "10   BUILDER                 4  ...  Under Construction   6,304 / sq ft\n",
              "11   BUILDER                 2  ...  Under Construction   4,500 / sq ft\n",
              "12   BUILDER                 2  ...  Under Construction   5,500 / sq ft\n",
              "13   BUILDER                 2  ...  Under Construction   4,700 / sq ft\n",
              "14   BUILDER                 3  ...  Under Construction   4,700 / sq ft\n",
              "15   BUILDER                 3  ...       Ready to move   6,800 / sq ft\n",
              "16   BUILDER                 4  ...       Ready to move   8,290 / sq ft\n",
              "17   BUILDER                 3  ...  Under Construction   4,199 / sq ft\n",
              "18   BUILDER                 5  ...  Under Construction  16,000 / sq ft\n",
              "19   BUILDER                 3  ...  Under Construction   5,699 / sq ft\n",
              "\n",
              "[20 rows x 7 columns]"
            ]
          },
          "metadata": {
            "tags": []
          },
          "execution_count": 24
        }
      ]
    },
    {
      "cell_type": "code",
      "metadata": {
        "id": "scOr_NxnZLdI"
      },
      "source": [
        "data.to_csv('aprtment_data.csv',index=False)"
      ],
      "execution_count": null,
      "outputs": []
    },
    {
      "cell_type": "code",
      "metadata": {
        "colab": {
          "base_uri": "https://localhost:8080/"
        },
        "id": "ufKeH9mQZX6N",
        "outputId": "2daa6274-1caa-46de-efbe-6282beb627f2"
      },
      "source": [
        "\n",
        "import time\n",
        "import requests\n",
        "from IPython.display import clear_output\n",
        "\n",
        "base_url = 'https://www.makaan.com/hyderabad-residential-property/buy-property-in-hyderabad-city?page='\n",
        "\n",
        "ow = []   #\n",
        "bhk = []\n",
        "p = []\n",
        "s = []\n",
        "loc = []\n",
        "st = []\n",
        "pps = []\n",
        "\n",
        "for i in range(1,11):\n",
        "  time.sleep(3)\n",
        "\n",
        "  print(f'Going to scrape data from {i} page')\n",
        "  clear_output(wait=True)\n",
        "  url = base_url+str(i)\n",
        "  req = requests.get(url)\n",
        "  soup = BeautifulSoup(req.text,'html')\n",
        "\n",
        "  #owner info\n",
        "  ow_info = soup.findAll('span',attrs={'class':'seller-type'})\n",
        "  for j in ow_info:\n",
        "    ow.append(j.text)\n",
        "  \n",
        "  #bhk info\n",
        "  bhk_info = soup.findAll('div',attrs={'class':'title-line'})\n",
        "  for j in bhk_info:\n",
        "    bhk.append(j.strong.span.text)\n",
        "\n",
        "  #price info\n",
        "  p_info = soup.findAll('div',attrs={'data-type':'price-link'})\n",
        "  for  j in p_info:\n",
        "    p.append(j.text)\n",
        "  \n",
        "  #size info\n",
        "  s_info = soup.findAll(\"td\",attrs={'class':'size'})\n",
        "  for j in s_info:\n",
        "    s.append(j.text)\n",
        "  \n",
        "  #location info\n",
        "  loc_info = soup.findAll('span',attrs={'itemprop':'addressLocality'})\n",
        "  for j in loc_info:\n",
        "    loc.append(j.text)\n",
        "  \n",
        "  #status info\n",
        "  st_info = soup.findAll('tr',attrs={'class':'hcol w44'})\n",
        "  for j in st_info:\n",
        "    st.append(j.text)\n",
        "\n",
        "  #price per sqft info\n",
        "  pps_info = soup.findAll('td',attrs={'class':'lbl rate'})\n",
        "  for j in pps_info:\n",
        "    pps.append(j.text)\n"
      ],
      "execution_count": null,
      "outputs": [
        {
          "output_type": "stream",
          "text": [
            "Going to scrape data from 10 page\n"
          ],
          "name": "stdout"
        }
      ]
    },
    {
      "cell_type": "code",
      "metadata": {
        "id": "eESEgahUfu4u"
      },
      "source": [
        "data = pd.DataFrame({'Owner_inf' :ow ,\n",
        "              'Bhk_info' : bhk,\n",
        "              'Price' : p,\n",
        "              'Locality' : loc,\n",
        "              'Area_sqft' : s,\n",
        "              'Status' :st ,\n",
        "              'Price_Per_sqft' : pps})"
      ],
      "execution_count": null,
      "outputs": []
    },
    {
      "cell_type": "code",
      "metadata": {
        "id": "yUsR8xa5fvOY"
      },
      "source": [
        "data.to_csv('webscraped_data.csv',index=False)"
      ],
      "execution_count": null,
      "outputs": []
    },
    {
      "cell_type": "code",
      "metadata": {
        "id": "gqLu5Zp3fvST"
      },
      "source": [
        ""
      ],
      "execution_count": null,
      "outputs": []
    }
  ]
}
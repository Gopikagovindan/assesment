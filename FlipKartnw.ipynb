{
  "nbformat": 4,
  "nbformat_minor": 0,
  "metadata": {
    "colab": {
      "name": "FlipKartnw.ipynb",
      "provenance": [],
      "collapsed_sections": [],
      "include_colab_link": true
    },
    "kernelspec": {
      "name": "python3",
      "display_name": "Python 3"
    },
    "language_info": {
      "name": "python"
    }
  },
  "cells": [
    {
      "cell_type": "markdown",
      "metadata": {
        "id": "view-in-github",
        "colab_type": "text"
      },
      "source": [
        "<a href=\"https://colab.research.google.com/github/Gopikagovindan/assesment/blob/main/FlipKartnw.ipynb\" target=\"_parent\"><img src=\"https://colab.research.google.com/assets/colab-badge.svg\" alt=\"Open In Colab\"/></a>"
      ]
    },
    {
      "cell_type": "code",
      "metadata": {
        "id": "BftcWAmte6EZ"
      },
      "source": [
        "import requests\n",
        "from bs4 import BeautifulSoup\n",
        "import pandas as pd\n",
        "import time"
      ],
      "execution_count": 1,
      "outputs": []
    },
    {
      "cell_type": "code",
      "metadata": {
        "id": "x6s5tjtpfGCP"
      },
      "source": [
        "url = 'https://www.flipkart.com/search?q=macbook&sid=6bo%2Cb5g&as=on&as-show=on&otracker=AS_QueryStore_OrganicAutoSuggest_1_3_na_na_na&otracker1=AS_QueryStore_OrganicAutoSuggest_1_3_na_na_na&as-pos=1&as-type=HISTORY&suggestionId=macbook%7CLaptops&requestId=ee456907-055e-485b-a6df-425573497d04'\n",
        "req = requests.get(url)\n",
        "soup = BeautifulSoup(req.text,'html')\n",
        "print(soup.prettify())"
      ],
      "execution_count": null,
      "outputs": []
    },
    {
      "cell_type": "code",
      "metadata": {
        "colab": {
          "base_uri": "https://localhost:8080/",
          "height": 35
        },
        "id": "FgjjCqGRfUFQ",
        "outputId": "8ff90234-8241-4e8d-d029-bccc85755e4c"
      },
      "source": [
        "soup.find('div',attrs={'class':'_4rR01T'}).text"
      ],
      "execution_count": 3,
      "outputs": [
        {
          "output_type": "execute_result",
          "data": {
            "application/vnd.google.colaboratory.intrinsic+json": {
              "type": "string"
            },
            "text/plain": [
              "'APPLE MacBook Air M1 - (8 GB/256 GB SSD/Mac OS Big Sur) MGN63HN/A'"
            ]
          },
          "metadata": {
            "tags": []
          },
          "execution_count": 3
        }
      ]
    },
    {
      "cell_type": "code",
      "metadata": {
        "colab": {
          "base_uri": "https://localhost:8080/"
        },
        "id": "qZbDVxNths-Q",
        "outputId": "55dc6be3-e977-4fa4-f8aa-f786939f639a"
      },
      "source": [
        "soup.findAll('div',attrs={'class':'_30jeq3 _1_WHN1'})"
      ],
      "execution_count": 4,
      "outputs": [
        {
          "output_type": "execute_result",
          "data": {
            "text/plain": [
              "[<div class=\"_30jeq3 _1_WHN1\">₹92,900</div>,\n",
              " <div class=\"_30jeq3 _1_WHN1\">₹92,900</div>,\n",
              " <div class=\"_30jeq3 _1_WHN1\">₹1,14,990</div>,\n",
              " <div class=\"_30jeq3 _1_WHN1\">₹1,14,990</div>,\n",
              " <div class=\"_30jeq3 _1_WHN1\">₹89,990</div>,\n",
              " <div class=\"_30jeq3 _1_WHN1\">₹97,990</div>,\n",
              " <div class=\"_30jeq3 _1_WHN1\">₹99,990</div>,\n",
              " <div class=\"_30jeq3 _1_WHN1\">₹1,02,990</div>,\n",
              " <div class=\"_30jeq3 _1_WHN1\">₹1,14,990</div>,\n",
              " <div class=\"_30jeq3 _1_WHN1\">₹1,19,900</div>,\n",
              " <div class=\"_30jeq3 _1_WHN1\">₹1,37,990</div>,\n",
              " <div class=\"_30jeq3 _1_WHN1\">₹1,85,659</div>,\n",
              " <div class=\"_30jeq3 _1_WHN1\">₹1,19,900</div>,\n",
              " <div class=\"_30jeq3 _1_WHN1\">₹2,22,810</div>,\n",
              " <div class=\"_30jeq3 _1_WHN1\">₹1,85,659</div>,\n",
              " <div class=\"_30jeq3 _1_WHN1\">₹1,62,990</div>,\n",
              " <div class=\"_30jeq3 _1_WHN1\">₹2,22,810</div>,\n",
              " <div class=\"_30jeq3 _1_WHN1\">₹1,37,990</div>,\n",
              " <div class=\"_30jeq3 _1_WHN1\">₹1,62,990</div>,\n",
              " <div class=\"_30jeq3 _1_WHN1\">₹99,990</div>,\n",
              " <div class=\"_30jeq3 _1_WHN1\">₹1,65,996</div>,\n",
              " <div class=\"_30jeq3 _1_WHN1\">₹1,65,996</div>,\n",
              " <div class=\"_30jeq3 _1_WHN1\">₹1,74,900</div>,\n",
              " <div class=\"_30jeq3 _1_WHN1\">₹1,32,990</div>]"
            ]
          },
          "metadata": {
            "tags": []
          },
          "execution_count": 4
        }
      ]
    },
    {
      "cell_type": "code",
      "metadata": {
        "colab": {
          "base_uri": "https://localhost:8080/",
          "height": 86
        },
        "id": "7SOavPJoh9DI",
        "outputId": "96f722b8-12d6-4a19-fe3c-631578f58804"
      },
      "source": [
        "ul_ps = soup.find('ul',attrs={'class':'_1xgFaf'})\n",
        "li_lst = ul_ps.findAll('li')\n",
        "'-'.join([i.text for i in li_lst])"
      ],
      "execution_count": 5,
      "outputs": [
        {
          "output_type": "execute_result",
          "data": {
            "application/vnd.google.colaboratory.intrinsic+json": {
              "type": "string"
            },
            "text/plain": [
              "'Apple M1 Processor-8 GB DDR4 RAM-Mac OS Operating System-256 GB SSD-33.78 cm (13.3 inch) Display-Built-in Apps: iMovie, Siri, GarageBand, Pages, Numbers, Photos, Keynote, Safari, Mail, FaceTime, Messages, Maps, Stocks, Home, Voice Memos, Notes, Calendar, Contacts, Reminders, Photo Booth, Preview, Books, App Store, Time Machine, TV, Music, Podcasts, Find My, QuickTime Player-1 Year Limited Warra\\xadnty'"
            ]
          },
          "metadata": {
            "tags": []
          },
          "execution_count": 5
        }
      ]
    },
    {
      "cell_type": "code",
      "metadata": {
        "colab": {
          "base_uri": "https://localhost:8080/"
        },
        "id": "iDRXD4u4tqXB",
        "outputId": "29454b8d-016f-464f-a500-317014d2a94f"
      },
      "source": [
        "rating = soup.findAll('span',attrs={'class':'_2_R_DZ'})\n",
        "for i in rating:\n",
        "  print(i.span.span.text)\n"
      ],
      "execution_count": 6,
      "outputs": [
        {
          "output_type": "stream",
          "text": [
            "715 Ratings \n",
            "715 Ratings \n",
            "173 Ratings \n",
            "173 Ratings \n",
            "339 Ratings \n",
            "339 Ratings \n",
            "339 Ratings \n",
            "339 Ratings \n",
            "173 Ratings \n",
            "161 Ratings \n",
            "89 Ratings \n",
            "334 Ratings \n",
            "161 Ratings \n",
            "113 Ratings \n",
            "38 Ratings \n",
            "98 Ratings \n",
            "36 Ratings \n",
            "89 Ratings \n",
            "98 Ratings \n",
            "238 Ratings \n",
            "179 Ratings \n",
            "28 Ratings \n",
            "29 Ratings \n",
            "16 Ratings \n"
          ],
          "name": "stdout"
        }
      ]
    },
    {
      "cell_type": "code",
      "metadata": {
        "id": "aFnO_jaJu1AX"
      },
      "source": [
        "rating = soup.findAll('span',attrs={'class':'_2_R_DZ'})\n",
        "\n",
        "a_l = []\n",
        "for i in rating:\n",
        "  a_l.append(i.span.findAll('span'))"
      ],
      "execution_count": 29,
      "outputs": []
    },
    {
      "cell_type": "code",
      "metadata": {
        "id": "mQ0ZVC89vF_x"
      },
      "source": [
        "rating = []\n",
        "review = []\n",
        "\n",
        "for i,j,k in a_l:\n",
        "  rating.append(i.text)\n",
        "  \n",
        "  review.append(k.text)\n"
      ],
      "execution_count": 30,
      "outputs": []
    },
    {
      "cell_type": "code",
      "metadata": {
        "colab": {
          "base_uri": "https://localhost:8080/"
        },
        "id": "TwZxurACwNHE",
        "outputId": "27d4dcc5-163b-4353-8f75-f124d9a92073"
      },
      "source": [
        "rating"
      ],
      "execution_count": 9,
      "outputs": [
        {
          "output_type": "execute_result",
          "data": {
            "text/plain": [
              "['715 Ratings\\xa0',\n",
              " '715 Ratings\\xa0',\n",
              " '173 Ratings\\xa0',\n",
              " '173 Ratings\\xa0',\n",
              " '339 Ratings\\xa0',\n",
              " '339 Ratings\\xa0',\n",
              " '339 Ratings\\xa0',\n",
              " '339 Ratings\\xa0',\n",
              " '173 Ratings\\xa0',\n",
              " '161 Ratings\\xa0',\n",
              " '89 Ratings\\xa0',\n",
              " '334 Ratings\\xa0',\n",
              " '161 Ratings\\xa0',\n",
              " '113 Ratings\\xa0',\n",
              " '38 Ratings\\xa0',\n",
              " '98 Ratings\\xa0',\n",
              " '36 Ratings\\xa0',\n",
              " '89 Ratings\\xa0',\n",
              " '98 Ratings\\xa0',\n",
              " '238 Ratings\\xa0',\n",
              " '179 Ratings\\xa0',\n",
              " '28 Ratings\\xa0',\n",
              " '29 Ratings\\xa0',\n",
              " '16 Ratings\\xa0']"
            ]
          },
          "metadata": {
            "tags": []
          },
          "execution_count": 9
        }
      ]
    },
    {
      "cell_type": "code",
      "metadata": {
        "colab": {
          "base_uri": "https://localhost:8080/"
        },
        "id": "a80vfferw5SR",
        "outputId": "c132213b-d30b-4994-95c3-87163695ed36"
      },
      "source": [
        "review"
      ],
      "execution_count": 10,
      "outputs": [
        {
          "output_type": "execute_result",
          "data": {
            "text/plain": [
              "['\\xa0109 Reviews',\n",
              " '\\xa0109 Reviews',\n",
              " '\\xa024 Reviews',\n",
              " '\\xa024 Reviews',\n",
              " '\\xa024 Reviews',\n",
              " '\\xa024 Reviews',\n",
              " '\\xa024 Reviews',\n",
              " '\\xa024 Reviews',\n",
              " '\\xa024 Reviews',\n",
              " '\\xa023 Reviews',\n",
              " '\\xa011 Reviews',\n",
              " '\\xa043 Reviews',\n",
              " '\\xa023 Reviews',\n",
              " '\\xa014 Reviews',\n",
              " '\\xa05 Reviews',\n",
              " '\\xa013 Reviews',\n",
              " '\\xa04 Reviews',\n",
              " '\\xa011 Reviews',\n",
              " '\\xa013 Reviews',\n",
              " '\\xa036 Reviews',\n",
              " '\\xa023 Reviews',\n",
              " '\\xa05 Reviews',\n",
              " '\\xa02 Reviews',\n",
              " '\\xa01 Reviews']"
            ]
          },
          "metadata": {
            "tags": []
          },
          "execution_count": 10
        }
      ]
    },
    {
      "cell_type": "code",
      "metadata": {
        "colab": {
          "base_uri": "https://localhost:8080/"
        },
        "id": "EGvvK6Tqw7D2",
        "outputId": "d00956ea-86ce-40c7-e8f6-531843cae8a4"
      },
      "source": [
        "url = 'https://www.flipkart.com/mobiles/mi~brand/pr?sid=tyy,4io&otracker=nmenu_sub_Electronics_0_Mi'\n",
        "req = requests.get(url)\n",
        "soup = BeautifulSoup(req.text,'html')\n",
        "soup.find('div',attrs={'class':'col col-7-12'}).div"
      ],
      "execution_count": 11,
      "outputs": [
        {
          "output_type": "execute_result",
          "data": {
            "text/plain": [
              "<div class=\"_4rR01T\">Redmi 9 (Sky Blue, 64 GB)</div>"
            ]
          },
          "metadata": {
            "tags": []
          },
          "execution_count": 11
        }
      ]
    },
    {
      "cell_type": "code",
      "metadata": {
        "id": "XjBvFSq6xq7f",
        "colab": {
          "base_uri": "https://localhost:8080/"
        },
        "outputId": "56b07850-a4e9-4e28-e0c4-1f09a7b382ac"
      },
      "source": [
        "from IPython.display import clear_output\n",
        "for i in range(0,100):\n",
        "  time.sleep(2)\n",
        "  clear_output(wait=True)\n",
        "  print(i)"
      ],
      "execution_count": 12,
      "outputs": [
        {
          "output_type": "stream",
          "text": [
            "99\n"
          ],
          "name": "stdout"
        }
      ]
    },
    {
      "cell_type": "code",
      "metadata": {
        "id": "lFziOBjSxq-f"
      },
      "source": [
        "ul_l = soup.findAll('ul',attrs={'class':'_1xgFaf'})\n",
        "\n",
        "spec_lst = []\n",
        "for i in ul_l:\n",
        "  s_lst = [j.text for j in i.findAll('li')]\n",
        "  spec_lst.append(s_lst)"
      ],
      "execution_count": 13,
      "outputs": []
    },
    {
      "cell_type": "code",
      "metadata": {
        "id": "WW8_GOaoxrCC",
        "colab": {
          "base_uri": "https://localhost:8080/"
        },
        "outputId": "ee4e1ffe-d79b-46a6-e341-754afed30841"
      },
      "source": [
        "name = soup.findAll('div',attrs={'class':'_4rR01T'})\n",
        "na = [i.text.strip() for i in name]\n",
        "na"
      ],
      "execution_count": 17,
      "outputs": [
        {
          "output_type": "execute_result",
          "data": {
            "text/plain": [
              "['Redmi 9 (Sky Blue, 64 GB)',\n",
              " 'Redmi 8A Dual (Midnight Grey, 32 GB)',\n",
              " 'Redmi 9A (SeaBlue, 32 GB)',\n",
              " 'Redmi 9A (Midnight Black, 32 GB)',\n",
              " 'Redmi 9A (Nature Green, 32 GB)',\n",
              " 'Redmi 9A (Nature Green, 32 GB)',\n",
              " 'Redmi 9A (Midnight Black, 32 GB)',\n",
              " 'Redmi 8 (Sapphire Blue, 64 GB)',\n",
              " 'Redmi 9A (Sea Blue, 32 GB)',\n",
              " 'Redmi 9 (Sporty Orange, 64 GB)',\n",
              " 'Mi 11 Lite (Tuscany Coral, 128 GB)',\n",
              " 'Mi 11 Lite (Jazz Blue, 128 GB)',\n",
              " 'Mi 11 Lite (Vinyl Black, 128 GB)',\n",
              " 'Mi 11 Lite (Tuscany Coral, 128 GB)',\n",
              " 'Mi 11 Lite (Jazz Blue, 128 GB)',\n",
              " 'Mi 11 Lite (Vinyl Black, 128 GB)',\n",
              " 'Redmi 9 (Sky Blue, 128 GB)',\n",
              " 'Redmi 8 (Ruby Red, 64 GB)',\n",
              " 'Redmi 8A Dual (Midnight Grey, 64 GB)',\n",
              " 'Redmi 8 (Onyx Black, 64 GB)',\n",
              " 'Redmi 8 (Emerald Green, 64 GB)',\n",
              " 'Redmi 8A Dual (Sky White, 32 GB)',\n",
              " 'Mi 10i (Atlantic Blue, 128 GB)',\n",
              " 'Mi 10i (Midnight Black, 128 GB)']"
            ]
          },
          "metadata": {
            "tags": []
          },
          "execution_count": 17
        }
      ]
    },
    {
      "cell_type": "code",
      "metadata": {
        "id": "Ik8lJLZayRDK"
      },
      "source": [
        "pr = soup.findAll('div',attrs={'class':'_30jeq3 _1_WHN1'})\n",
        "p = [i.text.strip() for i in pr]\n",
        "p"
      ],
      "execution_count": null,
      "outputs": []
    },
    {
      "cell_type": "code",
      "metadata": {
        "id": "2F1loQ1ayRGf",
        "colab": {
          "base_uri": "https://localhost:8080/"
        },
        "outputId": "0b3eebe0-2f76-4e3d-9d05-134a31fbb070"
      },
      "source": [
        "ul_ps = soup.findAll('ul',attrs={'class':'_1xgFaf'})\n",
        "ps = [i.text.strip() for i in ul_ps]\n",
        "ps"
      ],
      "execution_count": 20,
      "outputs": [
        {
          "output_type": "execute_result",
          "data": {
            "text/plain": [
              "['4 GB RAM | 64 GB ROM16.59 cm (6.53 inch) HD+ Display13MP + 2MP | 5MP Front Camera5000 mAh BatteryMediaTek Helio G35 Processor1 year manufacturer warranty for device and 6 months manufacturer warranty for in-box accessories including batteries from the date of purchase',\n",
              " '3 GB RAM | 32 GB ROM | Expandable Upto 512 GB15.8 cm (6.22 inch) HD+ Display13MP + 2MP | 8MP Front Camera5000 mAh Lithium Polymer BatteryQualcomm Snapdragon 439 Processor1 Year Manufacturer Warranty for Device and 6 Months Manufacturer Warranty for Inbox Accessories Including Batteries from the Date of Purchase',\n",
              " '2 GB RAM | 32 GB ROM16.59 cm (6.53 inch) Full HD+ Display13MP Rear Camera5000 mAh Battery1 Year Manufacturer  Warranty',\n",
              " '2 GB RAM | 32 GB ROM16.59 cm (6.53 inch) Full HD+ Display13MP Rear Camera5000 mAh Battery1 Year  Manufacturer Warranty',\n",
              " '2 GB RAM | 32 GB ROM16.59 cm (6.53 inch) Full HD+ Display13MP Rear Camera5000 mAh Battery1 Year  Manufacturer Warranty',\n",
              " '3 GB RAM | 32 GB ROM | Expandable Upto 512 GB16.59 cm (6.53 inch) HD+ Display13MP Rear Camera | 5MP Front Camera5000 mAh BatteryMediaTek Helio G25 Processor1 year manufacturer warranty for device and 6 months manufacturer warranty for in-box accessories including batteries from the date of purchase',\n",
              " '3 GB RAM | 32 GB ROM | Expandable Upto 512 GB16.59 cm (6.53 inch) HD+ Display13MP Rear Camera | 5MP Front Camera5000 mAh BatteryMediaTek Helio G25 Processor1 year manufacturer warranty for device and 6 months manufacturer warranty for in-box accessories including batteries from the date of purchase',\n",
              " '4 GB RAM | 64 GB ROM | Expandable Upto 512 GB15.8 cm (6.22 inch) HD+ Display12MP + 2MP | 8MP Front Camera5000 mAh BatteryQualcomm Snapdragon 439 ProcessorBrand Warranty of 1 Year Available for Mobile and 6 Months for Accessories',\n",
              " '3 GB RAM | 32 GB ROM | Expandable Upto 512 GB16.59 cm (6.53 inch) HD+ Display13MP Rear Camera | 5MP Front Camera5000 mAh BatteryMediaTek Helio G25 Processor1 year manufacturer warranty for device and 6 months manufacturer warranty for in-box accessories including batteries from the date of purchase',\n",
              " '4 GB RAM | 64 GB ROM16.59 cm (6.53 inch) HD+ Display13MP + 8MP | 5MP Front Camera5000 mAh BatteryMediaTek Helio G35 Processor1 year manufacturer warranty for device and 6 months manufacturer warranty for in-box accessories including batteries from the date of purchase',\n",
              " '8 GB RAM | 128 GB ROM | Expandable Upto 512 GB16.64 cm (6.55 inch) Full HD+ Display64MP + 8MP + 5MP | 16MP Front Camera4250 mAh Li-Polymer BatteryQualcomm Snapdragon 732G Processor1 Year Manufacturer Warranty for Handset and 6 Months Warranty for In the Box Accessories',\n",
              " '6 GB RAM | 128 GB ROM | Expandable Upto 512 GB16.64 cm (6.55 inch) Full HD+ Display64MP + 8MP + 5MP | 16MP Front Camera4250 mAh Li-Polymer BatteryQualcomm Snapdragon 732G Processor1 Year Manufacturer Warranty for Handset and 6 Months Warranty for In the Box Accessories',\n",
              " '6 GB RAM | 128 GB ROM | Expandable Upto 512 GB16.64 cm (6.55 inch) Full HD+ Display64MP + 8MP + 5MP | 16MP Front Camera4250 mAh Li-Polymer BatteryQualcomm Snapdragon 732G Processor1 Year Manufacturer Warranty for Handset and 6 Months Warranty for In the Box Accessories',\n",
              " '6 GB RAM | 128 GB ROM | Expandable Upto 512 GB16.64 cm (6.55 inch) Full HD+ Display64MP + 8MP + 5MP | 16MP Front Camera4250 mAh Li-Polymer BatteryQualcomm Snapdragon 732G Processor1 Year Manufacturer Warranty for Handset and 6 Months Warranty for In the Box Accessories',\n",
              " '8 GB RAM | 128 GB ROM | Expandable Upto 512 GB16.64 cm (6.55 inch) Full HD+ Display64MP + 8MP + 5MP | 16MP Front Camera4250 mAh Li-Polymer BatteryQualcomm Snapdragon 732G Processor1 Year Manufacturer Warranty for Handset and 6 Months Warranty for In the Box Accessories',\n",
              " '8 GB RAM | 128 GB ROM | Expandable Upto 512 GB16.64 cm (6.55 inch) Full HD+ Display64MP + 8MP + 5MP | 16MP Front Camera4250 mAh Li-Polymer BatteryQualcomm Snapdragon 732G Processor1 Year Manufacturer Warranty for Handset and 6 Months Warranty for In the Box Accessories',\n",
              " '4 GB RAM | 128 GB ROM16.59 cm (6.53 inch) HD+ Display13MP + 8MP | 5MP Front Camera5000 mAh BatteryMediaTek Helio G35 Processor1 year manufacturer warranty for device and 6 months manufacturer warranty for in-box accessories including batteries from the date of purchase',\n",
              " '4 GB RAM | 64 GB ROM | Expandable Upto 512 GB15.8 cm (6.22 inch) HD+ Display12MP + 2MP | 8MP Front Camera5000 mAh BatteryQualcomm Snapdragon 439 ProcessorBrand Warranty of 1 Year Available for Mobile and 6 Months for Accessories',\n",
              " '3 GB RAM | 64 GB ROM | Expandable Upto 512 GB15.8 cm (6.22 inch) HD+ Display13MP + 2MP | 8MP Front Camera5000 mAh Lithium Polymer BatteryQualcomm Snapdragon 439 Processor1 Year Manufacturer Warranty for Device and 6 Months Manufacturer Warranty for Inbox Accessories Including Batteries from the Date of Purchase',\n",
              " '4 GB RAM | 64 GB ROM | Expandable Upto 512 GB15.8 cm (6.22 inch) HD+ Display12MP + 2MP | 8MP Front Camera5000 mAh BatteryQualcomm Snapdragon 439 ProcessorBrand Warranty of 1 Year Available for Mobile and 6 Months for Accessories',\n",
              " '4 GB RAM | 64 GB ROM | Expandable Upto 512 GB15.8 cm (6.22 inch) HD+ Display12MP + 2MP | 8MP Front Camera5000 mAh BatteryQualcomm Snapdragon 439 ProcessorBrand Warranty of 1 Year Available for Mobile and 6 Months for Accessories',\n",
              " '3 GB RAM | 32 GB ROM | Expandable Upto 512 GB15.8 cm (6.22 inch) HD+ Display13MP + 2MP | 8MP Front Camera5000 mAh Lithium Polymer BatteryQualcomm Snapdragon 439 Processor1 Year Manufacturer Warranty for Device and 6 Months Manufacturer Warranty for Inbox Accessories Including Batteries from the Date of Purchase',\n",
              " '6 GB RAM | 128 GB ROM16.94 cm (6.67 inch) Display108MP Rear Camera | 16MP Front Camera4820 mAh Battery1 year manufacturer warranty for device and 6 months manufacturer warranty for in-box accessories including batteries from the date of purchase',\n",
              " '6 GB RAM | 128 GB ROM16.94 cm (6.67 inch) Full HD+ Display108MP + 8MP + 2MP + 2MP | 16MP Front Camera4820 mAh BatteryQualcomm® Snapdragon™ 750G Processor1 year manufacturer warranty for device and 6 months manufacturer warranty for in-box accessories including batteries from the date of purchase']"
            ]
          },
          "metadata": {
            "tags": []
          },
          "execution_count": 20
        }
      ]
    },
    {
      "cell_type": "code",
      "metadata": {
        "colab": {
          "base_uri": "https://localhost:8080/"
        },
        "id": "46L8ZXmSyRJ1",
        "outputId": "9a9fd5a1-c07d-4ee5-e8e2-841497f2788d"
      },
      "source": [
        "rating = soup.findAll('span',attrs={'class':'_2_R_DZ'})\n",
        "for i in rating:\n",
        "  print(i.span.span.text)"
      ],
      "execution_count": 31,
      "outputs": [
        {
          "output_type": "stream",
          "text": [
            "17,912 Ratings \n",
            "14,507 Ratings \n",
            "9,394 Ratings \n",
            "9,394 Ratings \n",
            "9,394 Ratings \n",
            "6,325 Ratings \n",
            "6,325 Ratings \n",
            "9,23,559 Ratings \n",
            "6,325 Ratings \n",
            "17,912 Ratings \n",
            "165 Ratings \n",
            "612 Ratings \n",
            "612 Ratings \n",
            "612 Ratings \n",
            "165 Ratings \n",
            "165 Ratings \n",
            "17,912 Ratings \n",
            "9,23,559 Ratings \n",
            "14,507 Ratings \n",
            "9,23,559 Ratings \n",
            "9,23,559 Ratings \n",
            "14,507 Ratings \n",
            "1,615 Ratings \n",
            "1,615 Ratings \n"
          ],
          "name": "stdout"
        }
      ]
    },
    {
      "cell_type": "code",
      "metadata": {
        "id": "PaE_Z9c6yRMy"
      },
      "source": [
        "data = pd.DataFrame({'Name': name,\n",
        "                     'price' : p,\n",
        "                     'ul_ps':ps,\n",
        "                     'Rating': rating,\n",
        "                     })"
      ],
      "execution_count": 38,
      "outputs": []
    },
    {
      "cell_type": "code",
      "metadata": {
        "colab": {
          "base_uri": "https://localhost:8080/",
          "height": 1000
        },
        "id": "9hpbUtVWyRQj",
        "outputId": "dc181396-b6da-4ccb-9dd8-e120cd8d1701"
      },
      "source": [
        "data"
      ],
      "execution_count": 39,
      "outputs": [
        {
          "output_type": "execute_result",
          "data": {
            "text/html": [
              "<div>\n",
              "<style scoped>\n",
              "    .dataframe tbody tr th:only-of-type {\n",
              "        vertical-align: middle;\n",
              "    }\n",
              "\n",
              "    .dataframe tbody tr th {\n",
              "        vertical-align: top;\n",
              "    }\n",
              "\n",
              "    .dataframe thead th {\n",
              "        text-align: right;\n",
              "    }\n",
              "</style>\n",
              "<table border=\"1\" class=\"dataframe\">\n",
              "  <thead>\n",
              "    <tr style=\"text-align: right;\">\n",
              "      <th></th>\n",
              "      <th>Name</th>\n",
              "      <th>price</th>\n",
              "      <th>ul_ps</th>\n",
              "      <th>Rating</th>\n",
              "    </tr>\n",
              "  </thead>\n",
              "  <tbody>\n",
              "    <tr>\n",
              "      <th>0</th>\n",
              "      <td>[Redmi 9 (Sky Blue, 64 GB)]</td>\n",
              "      <td>₹9,377</td>\n",
              "      <td>4 GB RAM | 64 GB ROM16.59 cm (6.53 inch) HD+ D...</td>\n",
              "      <td>[[[17,912 Ratings ], [&amp;], [ 888 Reviews]]]</td>\n",
              "    </tr>\n",
              "    <tr>\n",
              "      <th>1</th>\n",
              "      <td>[Redmi 8A Dual (Midnight Grey, 32 GB)]</td>\n",
              "      <td>₹8,199</td>\n",
              "      <td>3 GB RAM | 32 GB ROM | Expandable Upto 512 GB1...</td>\n",
              "      <td>[[[14,507 Ratings ], [&amp;], [ 944 Reviews]]]</td>\n",
              "    </tr>\n",
              "    <tr>\n",
              "      <th>2</th>\n",
              "      <td>[Redmi 9A (SeaBlue, 32 GB)]</td>\n",
              "      <td>₹7,259</td>\n",
              "      <td>2 GB RAM | 32 GB ROM16.59 cm (6.53 inch) Full ...</td>\n",
              "      <td>[[[9,394 Ratings ], [&amp;], [ 520 Reviews]]]</td>\n",
              "    </tr>\n",
              "    <tr>\n",
              "      <th>3</th>\n",
              "      <td>[Redmi 9A (Midnight Black, 32 GB)]</td>\n",
              "      <td>₹7,220</td>\n",
              "      <td>2 GB RAM | 32 GB ROM16.59 cm (6.53 inch) Full ...</td>\n",
              "      <td>[[[9,394 Ratings ], [&amp;], [ 520 Reviews]]]</td>\n",
              "    </tr>\n",
              "    <tr>\n",
              "      <th>4</th>\n",
              "      <td>[Redmi 9A (Nature Green, 32 GB)]</td>\n",
              "      <td>₹7,205</td>\n",
              "      <td>2 GB RAM | 32 GB ROM16.59 cm (6.53 inch) Full ...</td>\n",
              "      <td>[[[9,394 Ratings ], [&amp;], [ 520 Reviews]]]</td>\n",
              "    </tr>\n",
              "    <tr>\n",
              "      <th>5</th>\n",
              "      <td>[Redmi 9A (Nature Green, 32 GB)]</td>\n",
              "      <td>₹8,272</td>\n",
              "      <td>3 GB RAM | 32 GB ROM | Expandable Upto 512 GB1...</td>\n",
              "      <td>[[[6,325 Ratings ], [&amp;], [ 394 Reviews]]]</td>\n",
              "    </tr>\n",
              "    <tr>\n",
              "      <th>6</th>\n",
              "      <td>[Redmi 9A (Midnight Black, 32 GB)]</td>\n",
              "      <td>₹8,104</td>\n",
              "      <td>3 GB RAM | 32 GB ROM | Expandable Upto 512 GB1...</td>\n",
              "      <td>[[[6,325 Ratings ], [&amp;], [ 394 Reviews]]]</td>\n",
              "    </tr>\n",
              "    <tr>\n",
              "      <th>7</th>\n",
              "      <td>[Redmi 8 (Sapphire Blue, 64 GB)]</td>\n",
              "      <td>₹9,927</td>\n",
              "      <td>4 GB RAM | 64 GB ROM | Expandable Upto 512 GB1...</td>\n",
              "      <td>[[[9,23,559 Ratings ], [&amp;], [ 67,059 Reviews]]]</td>\n",
              "    </tr>\n",
              "    <tr>\n",
              "      <th>8</th>\n",
              "      <td>[Redmi 9A (Sea Blue, 32 GB)]</td>\n",
              "      <td>₹8,149</td>\n",
              "      <td>3 GB RAM | 32 GB ROM | Expandable Upto 512 GB1...</td>\n",
              "      <td>[[[6,325 Ratings ], [&amp;], [ 394 Reviews]]]</td>\n",
              "    </tr>\n",
              "    <tr>\n",
              "      <th>9</th>\n",
              "      <td>[Redmi 9 (Sporty Orange, 64 GB)]</td>\n",
              "      <td>₹9,129</td>\n",
              "      <td>4 GB RAM | 64 GB ROM16.59 cm (6.53 inch) HD+ D...</td>\n",
              "      <td>[[[17,912 Ratings ], [&amp;], [ 888 Reviews]]]</td>\n",
              "    </tr>\n",
              "    <tr>\n",
              "      <th>10</th>\n",
              "      <td>[Mi 11 Lite (Tuscany Coral, 128 GB)]</td>\n",
              "      <td>₹23,999</td>\n",
              "      <td>8 GB RAM | 128 GB ROM | Expandable Upto 512 GB...</td>\n",
              "      <td>[[[165 Ratings ], [&amp;], [ 16 Reviews]]]</td>\n",
              "    </tr>\n",
              "    <tr>\n",
              "      <th>11</th>\n",
              "      <td>[Mi 11 Lite (Jazz Blue, 128 GB)]</td>\n",
              "      <td>₹21,999</td>\n",
              "      <td>6 GB RAM | 128 GB ROM | Expandable Upto 512 GB...</td>\n",
              "      <td>[[[612 Ratings ], [&amp;], [ 49 Reviews]]]</td>\n",
              "    </tr>\n",
              "    <tr>\n",
              "      <th>12</th>\n",
              "      <td>[Mi 11 Lite (Vinyl Black, 128 GB)]</td>\n",
              "      <td>₹21,999</td>\n",
              "      <td>6 GB RAM | 128 GB ROM | Expandable Upto 512 GB...</td>\n",
              "      <td>[[[612 Ratings ], [&amp;], [ 49 Reviews]]]</td>\n",
              "    </tr>\n",
              "    <tr>\n",
              "      <th>13</th>\n",
              "      <td>[Mi 11 Lite (Tuscany Coral, 128 GB)]</td>\n",
              "      <td>₹21,999</td>\n",
              "      <td>6 GB RAM | 128 GB ROM | Expandable Upto 512 GB...</td>\n",
              "      <td>[[[612 Ratings ], [&amp;], [ 49 Reviews]]]</td>\n",
              "    </tr>\n",
              "    <tr>\n",
              "      <th>14</th>\n",
              "      <td>[Mi 11 Lite (Jazz Blue, 128 GB)]</td>\n",
              "      <td>₹23,999</td>\n",
              "      <td>8 GB RAM | 128 GB ROM | Expandable Upto 512 GB...</td>\n",
              "      <td>[[[165 Ratings ], [&amp;], [ 16 Reviews]]]</td>\n",
              "    </tr>\n",
              "    <tr>\n",
              "      <th>15</th>\n",
              "      <td>[Mi 11 Lite (Vinyl Black, 128 GB)]</td>\n",
              "      <td>₹23,999</td>\n",
              "      <td>8 GB RAM | 128 GB ROM | Expandable Upto 512 GB...</td>\n",
              "      <td>[[[165 Ratings ], [&amp;], [ 16 Reviews]]]</td>\n",
              "    </tr>\n",
              "    <tr>\n",
              "      <th>16</th>\n",
              "      <td>[Redmi 9 (Sky Blue, 128 GB)]</td>\n",
              "      <td>₹10,683</td>\n",
              "      <td>4 GB RAM | 128 GB ROM16.59 cm (6.53 inch) HD+ ...</td>\n",
              "      <td>[[[17,912 Ratings ], [&amp;], [ 888 Reviews]]]</td>\n",
              "    </tr>\n",
              "    <tr>\n",
              "      <th>17</th>\n",
              "      <td>[Redmi 8 (Ruby Red, 64 GB)]</td>\n",
              "      <td>₹9,895</td>\n",
              "      <td>4 GB RAM | 64 GB ROM | Expandable Upto 512 GB1...</td>\n",
              "      <td>[[[9,23,559 Ratings ], [&amp;], [ 67,059 Reviews]]]</td>\n",
              "    </tr>\n",
              "    <tr>\n",
              "      <th>18</th>\n",
              "      <td>[Redmi 8A Dual (Midnight Grey, 64 GB)]</td>\n",
              "      <td>₹9,444</td>\n",
              "      <td>3 GB RAM | 64 GB ROM | Expandable Upto 512 GB1...</td>\n",
              "      <td>[[[14,507 Ratings ], [&amp;], [ 944 Reviews]]]</td>\n",
              "    </tr>\n",
              "    <tr>\n",
              "      <th>19</th>\n",
              "      <td>[Redmi 8 (Onyx Black, 64 GB)]</td>\n",
              "      <td>₹9,926</td>\n",
              "      <td>4 GB RAM | 64 GB ROM | Expandable Upto 512 GB1...</td>\n",
              "      <td>[[[9,23,559 Ratings ], [&amp;], [ 67,059 Reviews]]]</td>\n",
              "    </tr>\n",
              "    <tr>\n",
              "      <th>20</th>\n",
              "      <td>[Redmi 8 (Emerald Green, 64 GB)]</td>\n",
              "      <td>₹9,999</td>\n",
              "      <td>4 GB RAM | 64 GB ROM | Expandable Upto 512 GB1...</td>\n",
              "      <td>[[[9,23,559 Ratings ], [&amp;], [ 67,059 Reviews]]]</td>\n",
              "    </tr>\n",
              "    <tr>\n",
              "      <th>21</th>\n",
              "      <td>[Redmi 8A Dual (Sky White, 32 GB)]</td>\n",
              "      <td>₹8,999</td>\n",
              "      <td>3 GB RAM | 32 GB ROM | Expandable Upto 512 GB1...</td>\n",
              "      <td>[[[14,507 Ratings ], [&amp;], [ 944 Reviews]]]</td>\n",
              "    </tr>\n",
              "    <tr>\n",
              "      <th>22</th>\n",
              "      <td>[Mi 10i (Atlantic Blue, 128 GB)]</td>\n",
              "      <td>₹22,216</td>\n",
              "      <td>6 GB RAM | 128 GB ROM16.94 cm (6.67 inch) Disp...</td>\n",
              "      <td>[[[1,615 Ratings ], [&amp;], [ 117 Reviews]]]</td>\n",
              "    </tr>\n",
              "    <tr>\n",
              "      <th>23</th>\n",
              "      <td>[Mi 10i (Midnight Black, 128 GB)]</td>\n",
              "      <td>₹22,987</td>\n",
              "      <td>6 GB RAM | 128 GB ROM16.94 cm (6.67 inch) Full...</td>\n",
              "      <td>[[[1,615 Ratings ], [&amp;], [ 117 Reviews]]]</td>\n",
              "    </tr>\n",
              "  </tbody>\n",
              "</table>\n",
              "</div>"
            ],
            "text/plain": [
              "                                      Name  ...                                           Rating\n",
              "0              [Redmi 9 (Sky Blue, 64 GB)]  ...       [[[17,912 Ratings ], [&], [ 888 Reviews]]]\n",
              "1   [Redmi 8A Dual (Midnight Grey, 32 GB)]  ...       [[[14,507 Ratings ], [&], [ 944 Reviews]]]\n",
              "2              [Redmi 9A (SeaBlue, 32 GB)]  ...        [[[9,394 Ratings ], [&], [ 520 Reviews]]]\n",
              "3       [Redmi 9A (Midnight Black, 32 GB)]  ...        [[[9,394 Ratings ], [&], [ 520 Reviews]]]\n",
              "4         [Redmi 9A (Nature Green, 32 GB)]  ...        [[[9,394 Ratings ], [&], [ 520 Reviews]]]\n",
              "5         [Redmi 9A (Nature Green, 32 GB)]  ...        [[[6,325 Ratings ], [&], [ 394 Reviews]]]\n",
              "6       [Redmi 9A (Midnight Black, 32 GB)]  ...        [[[6,325 Ratings ], [&], [ 394 Reviews]]]\n",
              "7         [Redmi 8 (Sapphire Blue, 64 GB)]  ...  [[[9,23,559 Ratings ], [&], [ 67,059 Reviews]]]\n",
              "8             [Redmi 9A (Sea Blue, 32 GB)]  ...        [[[6,325 Ratings ], [&], [ 394 Reviews]]]\n",
              "9         [Redmi 9 (Sporty Orange, 64 GB)]  ...       [[[17,912 Ratings ], [&], [ 888 Reviews]]]\n",
              "10    [Mi 11 Lite (Tuscany Coral, 128 GB)]  ...           [[[165 Ratings ], [&], [ 16 Reviews]]]\n",
              "11        [Mi 11 Lite (Jazz Blue, 128 GB)]  ...           [[[612 Ratings ], [&], [ 49 Reviews]]]\n",
              "12      [Mi 11 Lite (Vinyl Black, 128 GB)]  ...           [[[612 Ratings ], [&], [ 49 Reviews]]]\n",
              "13    [Mi 11 Lite (Tuscany Coral, 128 GB)]  ...           [[[612 Ratings ], [&], [ 49 Reviews]]]\n",
              "14        [Mi 11 Lite (Jazz Blue, 128 GB)]  ...           [[[165 Ratings ], [&], [ 16 Reviews]]]\n",
              "15      [Mi 11 Lite (Vinyl Black, 128 GB)]  ...           [[[165 Ratings ], [&], [ 16 Reviews]]]\n",
              "16            [Redmi 9 (Sky Blue, 128 GB)]  ...       [[[17,912 Ratings ], [&], [ 888 Reviews]]]\n",
              "17             [Redmi 8 (Ruby Red, 64 GB)]  ...  [[[9,23,559 Ratings ], [&], [ 67,059 Reviews]]]\n",
              "18  [Redmi 8A Dual (Midnight Grey, 64 GB)]  ...       [[[14,507 Ratings ], [&], [ 944 Reviews]]]\n",
              "19           [Redmi 8 (Onyx Black, 64 GB)]  ...  [[[9,23,559 Ratings ], [&], [ 67,059 Reviews]]]\n",
              "20        [Redmi 8 (Emerald Green, 64 GB)]  ...  [[[9,23,559 Ratings ], [&], [ 67,059 Reviews]]]\n",
              "21      [Redmi 8A Dual (Sky White, 32 GB)]  ...       [[[14,507 Ratings ], [&], [ 944 Reviews]]]\n",
              "22        [Mi 10i (Atlantic Blue, 128 GB)]  ...        [[[1,615 Ratings ], [&], [ 117 Reviews]]]\n",
              "23       [Mi 10i (Midnight Black, 128 GB)]  ...        [[[1,615 Ratings ], [&], [ 117 Reviews]]]\n",
              "\n",
              "[24 rows x 4 columns]"
            ]
          },
          "metadata": {
            "tags": []
          },
          "execution_count": 39
        }
      ]
    },
    {
      "cell_type": "code",
      "metadata": {
        "id": "9wztBXKWyRWw"
      },
      "source": [
        ""
      ],
      "execution_count": 13,
      "outputs": []
    },
    {
      "cell_type": "code",
      "metadata": {
        "id": "9N-nx5CmxrE8"
      },
      "source": [
        ""
      ],
      "execution_count": 13,
      "outputs": []
    },
    {
      "cell_type": "code",
      "metadata": {
        "id": "lJseQpqH1YBC"
      },
      "source": [
        ""
      ],
      "execution_count": 13,
      "outputs": []
    },
    {
      "cell_type": "code",
      "metadata": {
        "id": "A5ikXNpR1YEs"
      },
      "source": [
        ""
      ],
      "execution_count": 13,
      "outputs": []
    },
    {
      "cell_type": "code",
      "metadata": {
        "id": "1vJuTZdh2qOi"
      },
      "source": [
        ""
      ],
      "execution_count": 13,
      "outputs": []
    },
    {
      "cell_type": "code",
      "metadata": {
        "id": "OqrQJZ3q3afT"
      },
      "source": [
        "\n"
      ],
      "execution_count": 13,
      "outputs": []
    },
    {
      "cell_type": "code",
      "metadata": {
        "id": "NWK_vyCs5A0q"
      },
      "source": [
        "\n"
      ],
      "execution_count": 13,
      "outputs": []
    },
    {
      "cell_type": "code",
      "metadata": {
        "id": "op0Id6w2KWzw"
      },
      "source": [
        ""
      ],
      "execution_count": 13,
      "outputs": []
    }
  ]
}
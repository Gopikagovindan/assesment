{
  "nbformat": 4,
  "nbformat_minor": 0,
  "metadata": {
    "colab": {
      "name": "project1.ipynb",
      "provenance": [],
      "collapsed_sections": [],
      "authorship_tag": "ABX9TyOO85CxUQTuJAhqcq95Uip8",
      "include_colab_link": true
    },
    "kernelspec": {
      "name": "python3",
      "display_name": "Python 3"
    },
    "language_info": {
      "name": "python"
    }
  },
  "cells": [
    {
      "cell_type": "markdown",
      "metadata": {
        "id": "view-in-github",
        "colab_type": "text"
      },
      "source": [
        "<a href=\"https://colab.research.google.com/github/Gopikagovindan/assesment/blob/main/project1.ipynb\" target=\"_parent\"><img src=\"https://colab.research.google.com/assets/colab-badge.svg\" alt=\"Open In Colab\"/></a>"
      ]
    },
    {
      "cell_type": "code",
      "metadata": {
        "id": "cD0PS-xLAmzQ"
      },
      "source": [
        "#importing packages\n",
        "from mpl_toolkits.mplot3d import Axes3D\n",
        "from sklearn.preprocessing import StandardScaler\n",
        "import matplotlib.pyplot as plt # plotting\n",
        "import numpy as np # linear algebra\n",
        "import os # accessing directory structure\n",
        "import pandas as pd # data processing, CSV file I/O (e.g. pd.read_csv)\n",
        "# Date & Time Libraries :\n",
        "from datetime import datetime\n",
        "import time"
      ],
      "execution_count": 10,
      "outputs": []
    },
    {
      "cell_type": "code",
      "metadata": {
        "id": "wcAWs6_TAm4Y"
      },
      "source": [
        "train = pd.read_csv('/content/train_ML_IOT.csv.zip')\n",
        "test =  pd.read_csv('/content/test_ML_IOT.csv')\n",
        "ss = pd.read_csv('/content/sample_submission_ML_IOT.csv')"
      ],
      "execution_count": 11,
      "outputs": []
    },
    {
      "cell_type": "code",
      "metadata": {
        "colab": {
          "base_uri": "https://localhost:8080/"
        },
        "id": "wR5OByoVAm9h",
        "outputId": "da167bcd-3d8b-4219-8702-2b943d972f1a"
      },
      "source": [
        "nRowsRead = 1000 # specify 'None' if want to read whole file\n",
        "# sample_submission_ML_IOT.csv may have more rows in reality, but we are only loading/previewing the first 1000 rows\n",
        "df1 = pd.read_csv('/content/sample_submission_ML_IOT.csv', delimiter=',', nrows = nRowsRead)\n",
        "df1.dataframeName = 'sample_submission_ML_IOT.csv'\n",
        "nRow, nCol = df1.shape\n",
        "print(f'There are {nRow} rows and {nCol} columns')"
      ],
      "execution_count": 13,
      "outputs": [
        {
          "output_type": "stream",
          "text": [
            "There are 1000 rows and 2 columns\n"
          ],
          "name": "stdout"
        }
      ]
    },
    {
      "cell_type": "code",
      "metadata": {
        "colab": {
          "base_uri": "https://localhost:8080/",
          "height": 204
        },
        "id": "apd4XCaoAnB5",
        "outputId": "feed36c8-3ea4-4e7f-8ba6-cb5131227c34"
      },
      "source": [
        "df1.head(5)"
      ],
      "execution_count": 14,
      "outputs": [
        {
          "output_type": "execute_result",
          "data": {
            "text/html": [
              "<div>\n",
              "<style scoped>\n",
              "    .dataframe tbody tr th:only-of-type {\n",
              "        vertical-align: middle;\n",
              "    }\n",
              "\n",
              "    .dataframe tbody tr th {\n",
              "        vertical-align: top;\n",
              "    }\n",
              "\n",
              "    .dataframe thead th {\n",
              "        text-align: right;\n",
              "    }\n",
              "</style>\n",
              "<table border=\"1\" class=\"dataframe\">\n",
              "  <thead>\n",
              "    <tr style=\"text-align: right;\">\n",
              "      <th></th>\n",
              "      <th>ID</th>\n",
              "      <th>Vehicles</th>\n",
              "    </tr>\n",
              "  </thead>\n",
              "  <tbody>\n",
              "    <tr>\n",
              "      <th>0</th>\n",
              "      <td>20170701001</td>\n",
              "      <td>50</td>\n",
              "    </tr>\n",
              "    <tr>\n",
              "      <th>1</th>\n",
              "      <td>20170701011</td>\n",
              "      <td>50</td>\n",
              "    </tr>\n",
              "    <tr>\n",
              "      <th>2</th>\n",
              "      <td>20170701021</td>\n",
              "      <td>50</td>\n",
              "    </tr>\n",
              "    <tr>\n",
              "      <th>3</th>\n",
              "      <td>20170701031</td>\n",
              "      <td>50</td>\n",
              "    </tr>\n",
              "    <tr>\n",
              "      <th>4</th>\n",
              "      <td>20170701041</td>\n",
              "      <td>50</td>\n",
              "    </tr>\n",
              "  </tbody>\n",
              "</table>\n",
              "</div>"
            ],
            "text/plain": [
              "            ID  Vehicles\n",
              "0  20170701001        50\n",
              "1  20170701011        50\n",
              "2  20170701021        50\n",
              "3  20170701031        50\n",
              "4  20170701041        50"
            ]
          },
          "metadata": {
            "tags": []
          },
          "execution_count": 14
        }
      ]
    },
    {
      "cell_type": "code",
      "metadata": {
        "colab": {
          "base_uri": "https://localhost:8080/"
        },
        "id": "x7AvDicqAnIg",
        "outputId": "fb6be700-f72b-421b-d154-d8994a9d7861"
      },
      "source": [
        "# Python Method 1 : Displays Data Information :\n",
        "\n",
        "def display_data_information(data, data_types, dataframe_name):\n",
        "    print(\" Information of \",dataframe_name,\": Rows = \",data.shape[0],\"| Columns = \",data.shape[1],\"\\n\")\n",
        "    data.info()\n",
        "    print(\"\\n\")\n",
        "    for VARIABLE in data_types :\n",
        "        data_type = data.select_dtypes(include=[ VARIABLE ]).dtypes\n",
        "        if len(data_type) > 0 :\n",
        "            print(str(len(data_type))+\" \"+VARIABLE+\" Features\\n\"+str(data_type)+\"\\n\"  )        \n",
        "\n",
        "# Display Data Information of \"train\" :\n",
        "\n",
        "data_types  = [\"float32\",\"float64\",\"int32\",\"int64\",\"object\",\"category\",\"datetime64[ns]\"]\n",
        "display_data_information(train, data_types, \"Train\")\n"
      ],
      "execution_count": 16,
      "outputs": [
        {
          "output_type": "stream",
          "text": [
            " Information of  Train : Rows =  48120 | Columns =  4 \n",
            "\n",
            "<class 'pandas.core.frame.DataFrame'>\n",
            "RangeIndex: 48120 entries, 0 to 48119\n",
            "Data columns (total 4 columns):\n",
            " #   Column    Non-Null Count  Dtype \n",
            "---  ------    --------------  ----- \n",
            " 0   DateTime  48120 non-null  object\n",
            " 1   Junction  48120 non-null  int64 \n",
            " 2   Vehicles  48120 non-null  int64 \n",
            " 3   ID        48120 non-null  int64 \n",
            "dtypes: int64(3), object(1)\n",
            "memory usage: 1.5+ MB\n",
            "\n",
            "\n",
            "3 int64 Features\n",
            "Junction    int64\n",
            "Vehicles    int64\n",
            "ID          int64\n",
            "dtype: object\n",
            "\n",
            "1 object Features\n",
            "DateTime    object\n",
            "dtype: object\n",
            "\n"
          ],
          "name": "stdout"
        }
      ]
    },
    {
      "cell_type": "code",
      "metadata": {
        "colab": {
          "base_uri": "https://localhost:8080/"
        },
        "id": "UjpaH5ZpAnNA",
        "outputId": "400a882e-473c-4101-8253-b7a7d3f7b19f"
      },
      "source": [
        "# Display Data Information of \"test\" :\n",
        "\n",
        "data_types  = [\"float32\",\"float64\",\"int32\",\"int64\",\"object\",\"category\",\"datetime64[ns]\"]\n",
        "display_data_information(test, data_types, \"Test\")"
      ],
      "execution_count": 17,
      "outputs": [
        {
          "output_type": "stream",
          "text": [
            " Information of  Test : Rows =  11808 | Columns =  3 \n",
            "\n",
            "<class 'pandas.core.frame.DataFrame'>\n",
            "RangeIndex: 11808 entries, 0 to 11807\n",
            "Data columns (total 3 columns):\n",
            " #   Column    Non-Null Count  Dtype \n",
            "---  ------    --------------  ----- \n",
            " 0   DateTime  11808 non-null  object\n",
            " 1   Junction  11808 non-null  int64 \n",
            " 2   ID        11808 non-null  int64 \n",
            "dtypes: int64(2), object(1)\n",
            "memory usage: 276.9+ KB\n",
            "\n",
            "\n",
            "2 int64 Features\n",
            "Junction    int64\n",
            "ID          int64\n",
            "dtype: object\n",
            "\n",
            "1 object Features\n",
            "DateTime    object\n",
            "dtype: object\n",
            "\n"
          ],
          "name": "stdout"
        }
      ]
    },
    {
      "cell_type": "code",
      "metadata": {
        "colab": {
          "base_uri": "https://localhost:8080/",
          "height": 222
        },
        "id": "MIaPIi2zAnRX",
        "outputId": "9498629b-ccfe-419d-f1d6-fce8cbc26ff6"
      },
      "source": [
        "# Python Method 2 : Displays Data Head (Top Rows) and Tail (Bottom Rows) of the Dataframe (Table) :\n",
        "\n",
        "def display_head_tail(data, head_rows, tail_rows):\n",
        "    display(\"Data Head & Tail :\")\n",
        "    display(data.head(head_rows).append(data.tail(tail_rows)))\n",
        "#     return True\n",
        "\n",
        "# Displays Data Head (Top Rows) and Tail (Bottom Rows) of the Dataframe (Table)\n",
        "# Pass Dataframe as \"Train\", No. of Rows in Head = 3 and No. of Rows in Tail = 2 :\n",
        "\n",
        "display_head_tail(train, head_rows=3, tail_rows=2)"
      ],
      "execution_count": 18,
      "outputs": [
        {
          "output_type": "display_data",
          "data": {
            "application/vnd.google.colaboratory.intrinsic+json": {
              "type": "string"
            },
            "text/plain": [
              "'Data Head & Tail :'"
            ]
          },
          "metadata": {
            "tags": []
          }
        },
        {
          "output_type": "display_data",
          "data": {
            "text/html": [
              "<div>\n",
              "<style scoped>\n",
              "    .dataframe tbody tr th:only-of-type {\n",
              "        vertical-align: middle;\n",
              "    }\n",
              "\n",
              "    .dataframe tbody tr th {\n",
              "        vertical-align: top;\n",
              "    }\n",
              "\n",
              "    .dataframe thead th {\n",
              "        text-align: right;\n",
              "    }\n",
              "</style>\n",
              "<table border=\"1\" class=\"dataframe\">\n",
              "  <thead>\n",
              "    <tr style=\"text-align: right;\">\n",
              "      <th></th>\n",
              "      <th>DateTime</th>\n",
              "      <th>Junction</th>\n",
              "      <th>Vehicles</th>\n",
              "      <th>ID</th>\n",
              "    </tr>\n",
              "  </thead>\n",
              "  <tbody>\n",
              "    <tr>\n",
              "      <th>0</th>\n",
              "      <td>2015-11-01 00:00:00</td>\n",
              "      <td>1</td>\n",
              "      <td>15</td>\n",
              "      <td>20151101001</td>\n",
              "    </tr>\n",
              "    <tr>\n",
              "      <th>1</th>\n",
              "      <td>2015-11-01 01:00:00</td>\n",
              "      <td>1</td>\n",
              "      <td>13</td>\n",
              "      <td>20151101011</td>\n",
              "    </tr>\n",
              "    <tr>\n",
              "      <th>2</th>\n",
              "      <td>2015-11-01 02:00:00</td>\n",
              "      <td>1</td>\n",
              "      <td>10</td>\n",
              "      <td>20151101021</td>\n",
              "    </tr>\n",
              "    <tr>\n",
              "      <th>48118</th>\n",
              "      <td>2017-06-30 22:00:00</td>\n",
              "      <td>4</td>\n",
              "      <td>22</td>\n",
              "      <td>20170630224</td>\n",
              "    </tr>\n",
              "    <tr>\n",
              "      <th>48119</th>\n",
              "      <td>2017-06-30 23:00:00</td>\n",
              "      <td>4</td>\n",
              "      <td>12</td>\n",
              "      <td>20170630234</td>\n",
              "    </tr>\n",
              "  </tbody>\n",
              "</table>\n",
              "</div>"
            ],
            "text/plain": [
              "                  DateTime  Junction  Vehicles           ID\n",
              "0      2015-11-01 00:00:00         1        15  20151101001\n",
              "1      2015-11-01 01:00:00         1        13  20151101011\n",
              "2      2015-11-01 02:00:00         1        10  20151101021\n",
              "48118  2017-06-30 22:00:00         4        22  20170630224\n",
              "48119  2017-06-30 23:00:00         4        12  20170630234"
            ]
          },
          "metadata": {
            "tags": []
          }
        }
      ]
    },
    {
      "cell_type": "code",
      "metadata": {
        "colab": {
          "base_uri": "https://localhost:8080/",
          "height": 222
        },
        "id": "D_MqT5zxAnVW",
        "outputId": "777c1a08-b493-4aa9-e4e8-6f2229503217"
      },
      "source": [
        "# Displays Data Head (Top Rows) and Tail (Bottom Rows) of the Dataframe (Table)\n",
        "# Pass Dataframe as \"Test\", No. of Rows in Head = 3 and No. of Rows in Tail = 2 :\n",
        "\n",
        "display_head_tail(test, head_rows=3, tail_rows=2)\n"
      ],
      "execution_count": 19,
      "outputs": [
        {
          "output_type": "display_data",
          "data": {
            "application/vnd.google.colaboratory.intrinsic+json": {
              "type": "string"
            },
            "text/plain": [
              "'Data Head & Tail :'"
            ]
          },
          "metadata": {
            "tags": []
          }
        },
        {
          "output_type": "display_data",
          "data": {
            "text/html": [
              "<div>\n",
              "<style scoped>\n",
              "    .dataframe tbody tr th:only-of-type {\n",
              "        vertical-align: middle;\n",
              "    }\n",
              "\n",
              "    .dataframe tbody tr th {\n",
              "        vertical-align: top;\n",
              "    }\n",
              "\n",
              "    .dataframe thead th {\n",
              "        text-align: right;\n",
              "    }\n",
              "</style>\n",
              "<table border=\"1\" class=\"dataframe\">\n",
              "  <thead>\n",
              "    <tr style=\"text-align: right;\">\n",
              "      <th></th>\n",
              "      <th>DateTime</th>\n",
              "      <th>Junction</th>\n",
              "      <th>ID</th>\n",
              "    </tr>\n",
              "  </thead>\n",
              "  <tbody>\n",
              "    <tr>\n",
              "      <th>0</th>\n",
              "      <td>2017-07-01 00:00:00</td>\n",
              "      <td>1</td>\n",
              "      <td>20170701001</td>\n",
              "    </tr>\n",
              "    <tr>\n",
              "      <th>1</th>\n",
              "      <td>2017-07-01 01:00:00</td>\n",
              "      <td>1</td>\n",
              "      <td>20170701011</td>\n",
              "    </tr>\n",
              "    <tr>\n",
              "      <th>2</th>\n",
              "      <td>2017-07-01 02:00:00</td>\n",
              "      <td>1</td>\n",
              "      <td>20170701021</td>\n",
              "    </tr>\n",
              "    <tr>\n",
              "      <th>11806</th>\n",
              "      <td>2017-10-31 22:00:00</td>\n",
              "      <td>4</td>\n",
              "      <td>20171031224</td>\n",
              "    </tr>\n",
              "    <tr>\n",
              "      <th>11807</th>\n",
              "      <td>2017-10-31 23:00:00</td>\n",
              "      <td>4</td>\n",
              "      <td>20171031234</td>\n",
              "    </tr>\n",
              "  </tbody>\n",
              "</table>\n",
              "</div>"
            ],
            "text/plain": [
              "                  DateTime  Junction           ID\n",
              "0      2017-07-01 00:00:00         1  20170701001\n",
              "1      2017-07-01 01:00:00         1  20170701011\n",
              "2      2017-07-01 02:00:00         1  20170701021\n",
              "11806  2017-10-31 22:00:00         4  20171031224\n",
              "11807  2017-10-31 23:00:00         4  20171031234"
            ]
          },
          "metadata": {
            "tags": []
          }
        }
      ]
    },
    {
      "cell_type": "code",
      "metadata": {
        "colab": {
          "base_uri": "https://localhost:8080/",
          "height": 470
        },
        "id": "_BTFVRoSAnZf",
        "outputId": "ec3daed9-1bc2-490d-ae10-c3f5551d5b45"
      },
      "source": [
        "# Python Method 3 : Displays Data Description using Statistics :\n",
        "\n",
        "def display_data_description(data, numeric_data_types, categorical_data_types):\n",
        "    \n",
        "    print(\"Data Description :\")\n",
        "    display(data.describe( include = numeric_data_types))\n",
        "#     print(\"\")\n",
        "    display(data.describe( include = categorical_data_types))\n",
        "\n",
        "# Display Data Description of \"Train\" :\n",
        "\n",
        "display_data_description(train, data_types[0:4], data_types[4:7])"
      ],
      "execution_count": 20,
      "outputs": [
        {
          "output_type": "stream",
          "text": [
            "Data Description :\n"
          ],
          "name": "stdout"
        },
        {
          "output_type": "display_data",
          "data": {
            "text/html": [
              "<div>\n",
              "<style scoped>\n",
              "    .dataframe tbody tr th:only-of-type {\n",
              "        vertical-align: middle;\n",
              "    }\n",
              "\n",
              "    .dataframe tbody tr th {\n",
              "        vertical-align: top;\n",
              "    }\n",
              "\n",
              "    .dataframe thead th {\n",
              "        text-align: right;\n",
              "    }\n",
              "</style>\n",
              "<table border=\"1\" class=\"dataframe\">\n",
              "  <thead>\n",
              "    <tr style=\"text-align: right;\">\n",
              "      <th></th>\n",
              "      <th>Junction</th>\n",
              "      <th>Vehicles</th>\n",
              "      <th>ID</th>\n",
              "    </tr>\n",
              "  </thead>\n",
              "  <tbody>\n",
              "    <tr>\n",
              "      <th>count</th>\n",
              "      <td>48120.000000</td>\n",
              "      <td>48120.000000</td>\n",
              "      <td>4.812000e+04</td>\n",
              "    </tr>\n",
              "    <tr>\n",
              "      <th>mean</th>\n",
              "      <td>2.180549</td>\n",
              "      <td>22.791334</td>\n",
              "      <td>2.016330e+10</td>\n",
              "    </tr>\n",
              "    <tr>\n",
              "      <th>std</th>\n",
              "      <td>0.966955</td>\n",
              "      <td>20.750063</td>\n",
              "      <td>5.944854e+06</td>\n",
              "    </tr>\n",
              "    <tr>\n",
              "      <th>min</th>\n",
              "      <td>1.000000</td>\n",
              "      <td>1.000000</td>\n",
              "      <td>2.015110e+10</td>\n",
              "    </tr>\n",
              "    <tr>\n",
              "      <th>25%</th>\n",
              "      <td>1.000000</td>\n",
              "      <td>9.000000</td>\n",
              "      <td>2.016042e+10</td>\n",
              "    </tr>\n",
              "    <tr>\n",
              "      <th>50%</th>\n",
              "      <td>2.000000</td>\n",
              "      <td>15.000000</td>\n",
              "      <td>2.016093e+10</td>\n",
              "    </tr>\n",
              "    <tr>\n",
              "      <th>75%</th>\n",
              "      <td>3.000000</td>\n",
              "      <td>29.000000</td>\n",
              "      <td>2.017023e+10</td>\n",
              "    </tr>\n",
              "    <tr>\n",
              "      <th>max</th>\n",
              "      <td>4.000000</td>\n",
              "      <td>180.000000</td>\n",
              "      <td>2.017063e+10</td>\n",
              "    </tr>\n",
              "  </tbody>\n",
              "</table>\n",
              "</div>"
            ],
            "text/plain": [
              "           Junction      Vehicles            ID\n",
              "count  48120.000000  48120.000000  4.812000e+04\n",
              "mean       2.180549     22.791334  2.016330e+10\n",
              "std        0.966955     20.750063  5.944854e+06\n",
              "min        1.000000      1.000000  2.015110e+10\n",
              "25%        1.000000      9.000000  2.016042e+10\n",
              "50%        2.000000     15.000000  2.016093e+10\n",
              "75%        3.000000     29.000000  2.017023e+10\n",
              "max        4.000000    180.000000  2.017063e+10"
            ]
          },
          "metadata": {
            "tags": []
          }
        },
        {
          "output_type": "display_data",
          "data": {
            "text/html": [
              "<div>\n",
              "<style scoped>\n",
              "    .dataframe tbody tr th:only-of-type {\n",
              "        vertical-align: middle;\n",
              "    }\n",
              "\n",
              "    .dataframe tbody tr th {\n",
              "        vertical-align: top;\n",
              "    }\n",
              "\n",
              "    .dataframe thead th {\n",
              "        text-align: right;\n",
              "    }\n",
              "</style>\n",
              "<table border=\"1\" class=\"dataframe\">\n",
              "  <thead>\n",
              "    <tr style=\"text-align: right;\">\n",
              "      <th></th>\n",
              "      <th>DateTime</th>\n",
              "    </tr>\n",
              "  </thead>\n",
              "  <tbody>\n",
              "    <tr>\n",
              "      <th>count</th>\n",
              "      <td>48120</td>\n",
              "    </tr>\n",
              "    <tr>\n",
              "      <th>unique</th>\n",
              "      <td>14592</td>\n",
              "    </tr>\n",
              "    <tr>\n",
              "      <th>top</th>\n",
              "      <td>2017-03-01 17:00:00</td>\n",
              "    </tr>\n",
              "    <tr>\n",
              "      <th>freq</th>\n",
              "      <td>4</td>\n",
              "    </tr>\n",
              "  </tbody>\n",
              "</table>\n",
              "</div>"
            ],
            "text/plain": [
              "                   DateTime\n",
              "count                 48120\n",
              "unique                14592\n",
              "top     2017-03-01 17:00:00\n",
              "freq                      4"
            ]
          },
          "metadata": {
            "tags": []
          }
        }
      ]
    },
    {
      "cell_type": "code",
      "metadata": {
        "colab": {
          "base_uri": "https://localhost:8080/",
          "height": 470
        },
        "id": "EJ-H4u9dAndl",
        "outputId": "b9d580fb-7b31-4732-de22-59b7644019ee"
      },
      "source": [
        "# Display Data Description of \"Test\" :\n",
        "\n",
        "display_data_description(test, data_types[0:4], data_types[4:7])"
      ],
      "execution_count": 21,
      "outputs": [
        {
          "output_type": "stream",
          "text": [
            "Data Description :\n"
          ],
          "name": "stdout"
        },
        {
          "output_type": "display_data",
          "data": {
            "text/html": [
              "<div>\n",
              "<style scoped>\n",
              "    .dataframe tbody tr th:only-of-type {\n",
              "        vertical-align: middle;\n",
              "    }\n",
              "\n",
              "    .dataframe tbody tr th {\n",
              "        vertical-align: top;\n",
              "    }\n",
              "\n",
              "    .dataframe thead th {\n",
              "        text-align: right;\n",
              "    }\n",
              "</style>\n",
              "<table border=\"1\" class=\"dataframe\">\n",
              "  <thead>\n",
              "    <tr style=\"text-align: right;\">\n",
              "      <th></th>\n",
              "      <th>Junction</th>\n",
              "      <th>ID</th>\n",
              "    </tr>\n",
              "  </thead>\n",
              "  <tbody>\n",
              "    <tr>\n",
              "      <th>count</th>\n",
              "      <td>11808.000000</td>\n",
              "      <td>1.180800e+04</td>\n",
              "    </tr>\n",
              "    <tr>\n",
              "      <th>mean</th>\n",
              "      <td>2.500000</td>\n",
              "      <td>2.017087e+10</td>\n",
              "    </tr>\n",
              "    <tr>\n",
              "      <th>std</th>\n",
              "      <td>1.118081</td>\n",
              "      <td>1.124665e+05</td>\n",
              "    </tr>\n",
              "    <tr>\n",
              "      <th>min</th>\n",
              "      <td>1.000000</td>\n",
              "      <td>2.017070e+10</td>\n",
              "    </tr>\n",
              "    <tr>\n",
              "      <th>25%</th>\n",
              "      <td>1.750000</td>\n",
              "      <td>2.017073e+10</td>\n",
              "    </tr>\n",
              "    <tr>\n",
              "      <th>50%</th>\n",
              "      <td>2.500000</td>\n",
              "      <td>2.017083e+10</td>\n",
              "    </tr>\n",
              "    <tr>\n",
              "      <th>75%</th>\n",
              "      <td>3.250000</td>\n",
              "      <td>2.017100e+10</td>\n",
              "    </tr>\n",
              "    <tr>\n",
              "      <th>max</th>\n",
              "      <td>4.000000</td>\n",
              "      <td>2.017103e+10</td>\n",
              "    </tr>\n",
              "  </tbody>\n",
              "</table>\n",
              "</div>"
            ],
            "text/plain": [
              "           Junction            ID\n",
              "count  11808.000000  1.180800e+04\n",
              "mean       2.500000  2.017087e+10\n",
              "std        1.118081  1.124665e+05\n",
              "min        1.000000  2.017070e+10\n",
              "25%        1.750000  2.017073e+10\n",
              "50%        2.500000  2.017083e+10\n",
              "75%        3.250000  2.017100e+10\n",
              "max        4.000000  2.017103e+10"
            ]
          },
          "metadata": {
            "tags": []
          }
        },
        {
          "output_type": "display_data",
          "data": {
            "text/html": [
              "<div>\n",
              "<style scoped>\n",
              "    .dataframe tbody tr th:only-of-type {\n",
              "        vertical-align: middle;\n",
              "    }\n",
              "\n",
              "    .dataframe tbody tr th {\n",
              "        vertical-align: top;\n",
              "    }\n",
              "\n",
              "    .dataframe thead th {\n",
              "        text-align: right;\n",
              "    }\n",
              "</style>\n",
              "<table border=\"1\" class=\"dataframe\">\n",
              "  <thead>\n",
              "    <tr style=\"text-align: right;\">\n",
              "      <th></th>\n",
              "      <th>DateTime</th>\n",
              "    </tr>\n",
              "  </thead>\n",
              "  <tbody>\n",
              "    <tr>\n",
              "      <th>count</th>\n",
              "      <td>11808</td>\n",
              "    </tr>\n",
              "    <tr>\n",
              "      <th>unique</th>\n",
              "      <td>2952</td>\n",
              "    </tr>\n",
              "    <tr>\n",
              "      <th>top</th>\n",
              "      <td>2017-07-13 21:00:00</td>\n",
              "    </tr>\n",
              "    <tr>\n",
              "      <th>freq</th>\n",
              "      <td>4</td>\n",
              "    </tr>\n",
              "  </tbody>\n",
              "</table>\n",
              "</div>"
            ],
            "text/plain": [
              "                   DateTime\n",
              "count                 11808\n",
              "unique                 2952\n",
              "top     2017-07-13 21:00:00\n",
              "freq                      4"
            ]
          },
          "metadata": {
            "tags": []
          }
        }
      ]
    },
    {
      "cell_type": "code",
      "metadata": {
        "colab": {
          "base_uri": "https://localhost:8080/"
        },
        "id": "xediQysEAnjN",
        "outputId": "5e9c270b-f10b-456c-e783-6b758d340b05"
      },
      "source": [
        "# Checking Percentage(%) of Common ID's  between train and test data using Unique train values :\n",
        "\n",
        "np.intersect1d(train['ID'], test['ID']).shape[0]/train['ID'].nunique()\n",
        "\n",
        "# No Common ID - So Data Leak in ID Column - Good to Go !!!"
      ],
      "execution_count": 22,
      "outputs": [
        {
          "output_type": "execute_result",
          "data": {
            "text/plain": [
              "0.0"
            ]
          },
          "metadata": {
            "tags": []
          },
          "execution_count": 22
        }
      ]
    },
    {
      "cell_type": "code",
      "metadata": {
        "id": "xQDlxDkiAnoD"
      },
      "source": [
        "# Dropping \"ID\" Columns in Train and Test :\n",
        "\n",
        "train.drop([\"ID\"],axis = 1,inplace=True)\n",
        "\n",
        "test_ID = test[\"ID\"]\n",
        "test.drop([\"ID\"],axis = 1,inplace=True)\n"
      ],
      "execution_count": 23,
      "outputs": []
    },
    {
      "cell_type": "code",
      "metadata": {
        "colab": {
          "base_uri": "https://localhost:8080/"
        },
        "id": "uye4OwnaAnsO",
        "outputId": "f4afb768-2940-4a45-92d6-4ffe419d7d79"
      },
      "source": [
        "# Remove Duplicate Rows from Train data if present :\n",
        "# Python Method 4 : Removes Data Duplicates while Retaining the First one - Similar to SQL DISTINCT :\n",
        "\n",
        "def remove_duplicate(data):\n",
        "    \n",
        "    print(\"BEFORE REMOVING DUPLICATES - No. of Rows = \",data.shape[0])\n",
        "    data.drop_duplicates(keep=\"first\", inplace=True) \n",
        "    print(\"AFTER REMOVING DUPLICATES  - No. of Rows = \",data.shape[0])\n",
        "    \n",
        "    return data\n",
        "\n",
        "# Remove Duplicates from \"train\" data :\n",
        "\n",
        "train = remove_duplicate(train)\n",
        "\n",
        "# No Duplicates are there to remove "
      ],
      "execution_count": 24,
      "outputs": [
        {
          "output_type": "stream",
          "text": [
            "BEFORE REMOVING DUPLICATES - No. of Rows =  48120\n",
            "AFTER REMOVING DUPLICATES  - No. of Rows =  48120\n"
          ],
          "name": "stdout"
        }
      ]
    },
    {
      "cell_type": "code",
      "metadata": {
        "colab": {
          "base_uri": "https://localhost:8080/",
          "height": 85
        },
        "id": "0JLX3eyQAnxI",
        "outputId": "239d2d35-e681-44ea-c23a-483bad4a4397"
      },
      "source": [
        "# Python Method 5 : Fills or Imputes Missing values with Various Methods : \n",
        "\n",
        "def fill_missing_values(data, fill_value, fill_types, columns, dataframe_name):\n",
        "    \n",
        "    print(\"Missing Values BEFORE REMOVAL in \",dataframe_name,\" data\")\n",
        "    display((data.isnull().sum()).sum())\n",
        "    \n",
        "    if (data.isnull().sum()).sum() != 0 :\n",
        "    \n",
        "        for column in columns :\n",
        "\n",
        "            # Fill Missing Values with Specific Value :\n",
        "            if \"Value_Fill\" in fill_types :\n",
        "                data[ column ] = data[ column ].fillna(fill_value)\n",
        "    #             print(\"Value_Fill\")\n",
        "\n",
        "            # Fill Missing Values with Forward Fill  (Previous Row Value as Current Row in Table) :\n",
        "            if \"Forward_Fill\" in fill_types :\n",
        "                data[ column ] = data[ column ].ffill(axis = 0)\n",
        "    #             print(\"Forward_Fill\")\n",
        "\n",
        "            # Fill Missing Values with Backward Fill (Next Row Value as Current Row in Table) :\n",
        "            if \"Backward_Fill\" in fill_types :\n",
        "                data[ column ] = data[ column ].bfill(axis = 0)\n",
        "    #             print(\"Backward_Fill\")\n",
        "\n",
        "        print(\"Missing Values AFTER REMOVAL in \",dataframe_name,\" data\")\n",
        "        display(data.isnull().sum())\n",
        "    \n",
        "    return data\n",
        "\n",
        "fill_types = [ \"Forward_Fill\"]\n",
        "fill_value = 0\n",
        "\n",
        "# Fills or Imputes Missing values in \"Registration_Date\" Column with \"Forward_Fill\" Method in \"train\" : \n",
        "train = fill_missing_values(train, fill_value, fill_types, train.columns,\"train\")\n",
        "\n",
        "# Fills or Imputes Missing values in \"Registration_Date\" Column with \"Forward_Fill\" Method in \"train\" :\n",
        "test  = fill_missing_values(test, fill_value, fill_types,train.columns,\"test\")"
      ],
      "execution_count": 25,
      "outputs": [
        {
          "output_type": "stream",
          "text": [
            "Missing Values BEFORE REMOVAL in  train  data\n"
          ],
          "name": "stdout"
        },
        {
          "output_type": "display_data",
          "data": {
            "text/plain": [
              "0"
            ]
          },
          "metadata": {
            "tags": []
          }
        },
        {
          "output_type": "stream",
          "text": [
            "Missing Values BEFORE REMOVAL in  test  data\n"
          ],
          "name": "stdout"
        },
        {
          "output_type": "display_data",
          "data": {
            "text/plain": [
              "0"
            ]
          },
          "metadata": {
            "tags": []
          }
        }
      ]
    },
    {
      "cell_type": "code",
      "metadata": {
        "colab": {
          "base_uri": "https://localhost:8080/"
        },
        "id": "IUDCaIuRAn1z",
        "outputId": "868ec540-2114-4937-93c7-9e95bb64e4bc"
      },
      "source": [
        "# Python Method 6 : Displays Unique Values in Each Column of the Dataframe(Table) :\n",
        "\n",
        "def display_unique(data):\n",
        "    for column in data.columns :\n",
        "        \n",
        "        print(\"No of Unique Values in \"+column+\" Column are : \"+str(data[column].nunique()))\n",
        "        print(\"Actual Unique Values in \"+column+\" Column are : \"+str(data[column].sort_values(ascending=True,na_position='last').unique() ))\n",
        "        print(\"NULL Values :\")\n",
        "        print(data[ column ].isnull().sum())\n",
        "        print(\"Value Counts :\")\n",
        "        print(data[column].value_counts())\n",
        "        print(\"\")\n",
        "        \n",
        "# Displays Unique Values in Each Column of \"Train\" :\n",
        "\n",
        "display_unique(train)\n",
        "\n",
        "# Display this info in a Table Format"
      ],
      "execution_count": 26,
      "outputs": [
        {
          "output_type": "stream",
          "text": [
            "No of Unique Values in DateTime Column are : 14592\n",
            "Actual Unique Values in DateTime Column are : ['2015-11-01 00:00:00' '2015-11-01 01:00:00' '2015-11-01 02:00:00' ...\n",
            " '2017-06-30 21:00:00' '2017-06-30 22:00:00' '2017-06-30 23:00:00']\n",
            "NULL Values :\n",
            "0\n",
            "Value Counts :\n",
            "2017-03-01 17:00:00    4\n",
            "2017-01-07 17:00:00    4\n",
            "2017-04-18 00:00:00    4\n",
            "2017-01-28 19:00:00    4\n",
            "2017-01-27 15:00:00    4\n",
            "                      ..\n",
            "2016-09-27 18:00:00    3\n",
            "2016-01-05 03:00:00    3\n",
            "2016-03-01 09:00:00    3\n",
            "2016-04-13 13:00:00    3\n",
            "2016-02-19 06:00:00    3\n",
            "Name: DateTime, Length: 14592, dtype: int64\n",
            "\n",
            "No of Unique Values in Junction Column are : 4\n",
            "Actual Unique Values in Junction Column are : [1 2 3 4]\n",
            "NULL Values :\n",
            "0\n",
            "Value Counts :\n",
            "3    14592\n",
            "2    14592\n",
            "1    14592\n",
            "4     4344\n",
            "Name: Junction, dtype: int64\n",
            "\n",
            "No of Unique Values in Vehicles Column are : 141\n",
            "Actual Unique Values in Vehicles Column are : [  1   2   3   4   5   6   7   8   9  10  11  12  13  14  15  16  17  18\n",
            "  19  20  21  22  23  24  25  26  27  28  29  30  31  32  33  34  35  36\n",
            "  37  38  39  40  41  42  43  44  45  46  47  48  49  50  51  52  53  54\n",
            "  55  56  57  58  59  60  61  62  63  64  65  66  67  68  69  70  71  72\n",
            "  73  74  75  76  77  78  79  80  81  82  83  84  85  86  87  88  89  90\n",
            "  91  92  93  94  95  96  97  98  99 100 101 102 103 104 105 106 107 108\n",
            " 109 110 111 112 113 114 115 116 117 118 119 120 121 122 123 124 125 126\n",
            " 127 128 129 132 133 134 135 136 140 141 143 156 162 173 180]\n",
            "NULL Values :\n",
            "0\n",
            "Value Counts :\n",
            "8      2325\n",
            "9      2290\n",
            "7      2220\n",
            "6      2206\n",
            "10     2145\n",
            "       ... \n",
            "173       1\n",
            "141       1\n",
            "135       1\n",
            "140       1\n",
            "127       1\n",
            "Name: Vehicles, Length: 141, dtype: int64\n",
            "\n"
          ],
          "name": "stdout"
        }
      ]
    },
    {
      "cell_type": "code",
      "metadata": {
        "colab": {
          "base_uri": "https://localhost:8080/"
        },
        "id": "4MSkymvqAn58",
        "outputId": "7ba9b100-66a7-4ff2-b3dc-a1307cc58c63"
      },
      "source": [
        "display_unique(test)"
      ],
      "execution_count": 27,
      "outputs": [
        {
          "output_type": "stream",
          "text": [
            "No of Unique Values in DateTime Column are : 2952\n",
            "Actual Unique Values in DateTime Column are : ['2017-07-01 00:00:00' '2017-07-01 01:00:00' '2017-07-01 02:00:00' ...\n",
            " '2017-10-31 21:00:00' '2017-10-31 22:00:00' '2017-10-31 23:00:00']\n",
            "NULL Values :\n",
            "0\n",
            "Value Counts :\n",
            "2017-07-13 21:00:00    4\n",
            "2017-10-31 21:00:00    4\n",
            "2017-10-27 14:00:00    4\n",
            "2017-08-03 06:00:00    4\n",
            "2017-07-18 17:00:00    4\n",
            "                      ..\n",
            "2017-10-07 11:00:00    4\n",
            "2017-10-16 00:00:00    4\n",
            "2017-09-23 04:00:00    4\n",
            "2017-07-31 00:00:00    4\n",
            "2017-07-26 00:00:00    4\n",
            "Name: DateTime, Length: 2952, dtype: int64\n",
            "\n",
            "No of Unique Values in Junction Column are : 4\n",
            "Actual Unique Values in Junction Column are : [1 2 3 4]\n",
            "NULL Values :\n",
            "0\n",
            "Value Counts :\n",
            "4    2952\n",
            "3    2952\n",
            "2    2952\n",
            "1    2952\n",
            "Name: Junction, dtype: int64\n",
            "\n"
          ],
          "name": "stdout"
        }
      ]
    },
    {
      "cell_type": "code",
      "metadata": {
        "colab": {
          "base_uri": "https://localhost:8080/"
        },
        "id": "yykSYDRRAn-h",
        "outputId": "77eac4f6-1ee3-4259-d041-57995587dcda"
      },
      "source": [
        "# Converting to datetime :\n",
        "\n",
        "# filtering data greater than or equal to 01 Jan 2016\n",
        "# train=train[train['DateTime']>='2016-01-01']\n",
        "\n",
        "train['DateTime'] = pd.to_datetime(train['DateTime'])\n",
        "test['DateTime'] = pd.to_datetime(test['DateTime'])\n",
        "test.info()"
      ],
      "execution_count": 28,
      "outputs": [
        {
          "output_type": "stream",
          "text": [
            "<class 'pandas.core.frame.DataFrame'>\n",
            "RangeIndex: 11808 entries, 0 to 11807\n",
            "Data columns (total 2 columns):\n",
            " #   Column    Non-Null Count  Dtype         \n",
            "---  ------    --------------  -----         \n",
            " 0   DateTime  11808 non-null  datetime64[ns]\n",
            " 1   Junction  11808 non-null  int64         \n",
            "dtypes: datetime64[ns](1), int64(1)\n",
            "memory usage: 184.6 KB\n"
          ],
          "name": "stdout"
        }
      ]
    },
    {
      "cell_type": "code",
      "metadata": {
        "colab": {
          "base_uri": "https://localhost:8080/",
          "height": 295
        },
        "id": "mz3zNsUCAoCy",
        "outputId": "e6640d4e-8024-43ea-eb40-a2e0377bbc4a"
      },
      "source": [
        "# Visualising the histogram for positive reviews only from train and dataset\n",
        "data = train.Vehicles\n",
        "binwidth = 1\n",
        "plt.hist(data, bins=range(min(data), max(data) + binwidth, binwidth), log=False)\n",
        "plt.title(\"Gaussian Histogram\")\n",
        "plt.xlabel(\"Traffic\")\n",
        "plt.ylabel(\"Number of times\")\n",
        "plt.show()"
      ],
      "execution_count": 29,
      "outputs": [
        {
          "output_type": "display_data",
          "data": {
            "image/png": "[encoded data removed]",
            "text/plain": [
              "<Figure size 432x288 with 1 Axes>"
            ]
          },
          "metadata": {
            "tags": [],
            "needs_background": "light"
          }
        }
      ]
    },
    {
      "cell_type": "code",
      "metadata": {
        "id": "RawIxlQRAoIL"
      },
      "source": [
        "# Distribution graphs (histogram/bar graph) of column data\n",
        "def plotPerColumnDistribution(df, nGraphShown, nGraphPerRow):\n",
        "    nunique = df.nunique()\n",
        "    df = df[[col for col in df if nunique[col] > 1 and nunique[col] < 50]] # For displaying purposes, pick columns that have between 1 and 50 unique values\n",
        "    nRow, nCol = df.shape\n",
        "    columnNames = list(df)\n",
        "    nGraphRow = (nCol + nGraphPerRow - 1) / nGraphPerRow\n",
        "    plt.figure(num = None, figsize = (6 * nGraphPerRow, 8 * nGraphRow), dpi = 80, facecolor = 'w', edgecolor = 'k')\n",
        "    for i in range(min(nCol, nGraphShown)):\n",
        "        plt.subplot(nGraphRow, nGraphPerRow, i + 1)\n",
        "        columnDf = df.iloc[:, i]\n",
        "        if (not np.issubdtype(type(columnDf.iloc[0]), np.number)):\n",
        "            valueCounts = columnDf.value_counts()\n",
        "            valueCounts.plot.bar()\n",
        "        else:\n",
        "            columnDf.hist()\n",
        "        plt.ylabel('counts')\n",
        "        plt.xticks(rotation = 90)\n",
        "        plt.title(f'{columnNames[i]} (column {i})')\n",
        "    plt.tight_layout(pad = 1.0, w_pad = 1.0, h_pad = 1.0)\n",
        "    plt.show()"
      ],
      "execution_count": 31,
      "outputs": []
    },
    {
      "cell_type": "code",
      "metadata": {
        "id": "630zD_BZAoMB"
      },
      "source": [
        "# Correlation matrix\n",
        "def plotCorrelationMatrix(df, graphWidth):\n",
        "    filename = df.dataframeName\n",
        "    df = df.dropna('columns') # drop columns with NaN\n",
        "    df = df[[col for col in df if df[col].nunique() > 1]] # keep columns where there are more than 1 unique values\n",
        "    if df.shape[1] < 2:\n",
        "        print(f'No correlation plots shown: The number of non-NaN or constant columns ({df.shape[1]}) is less than 2')\n",
        "        return\n",
        "    corr = df.corr()\n",
        "    plt.figure(num=None, figsize=(graphWidth, graphWidth), dpi=80, facecolor='w', edgecolor='k')\n",
        "    corrMat = plt.matshow(corr, fignum = 1)\n",
        "    plt.xticks(range(len(corr.columns)), corr.columns, rotation=90)\n",
        "    plt.yticks(range(len(corr.columns)), corr.columns)\n",
        "    plt.gca().xaxis.tick_bottom()\n",
        "    plt.colorbar(corrMat)\n",
        "    plt.title(f'Correlation Matrix for {filename}', fontsize=15)\n",
        "    plt.show()"
      ],
      "execution_count": 32,
      "outputs": []
    },
    {
      "cell_type": "code",
      "metadata": {
        "id": "aANOZZ__AoQU"
      },
      "source": [
        "# Scatter and density plots\n",
        "def plotScatterMatrix(df, plotSize, textSize):\n",
        "    df = df.select_dtypes(include =[np.number]) # keep only numerical columns\n",
        "    # Remove rows and columns that would lead to df being singular\n",
        "    df = df.dropna('columns')\n",
        "    df = df[[col for col in df if df[col].nunique() > 1]] # keep columns where there are more than 1 unique values\n",
        "    columnNames = list(df)\n",
        "    if len(columnNames) > 10: # reduce the number of columns for matrix inversion of kernel density plots\n",
        "        columnNames = columnNames[:10]\n",
        "    df = df[columnNames]\n",
        "    ax = pd.plotting.scatter_matrix(df, alpha=0.75, figsize=[plotSize, plotSize], diagonal='kde')\n",
        "    corrs = df.corr().values\n",
        "    for i, j in zip(*plt.np.triu_indices_from(ax, k = 1)):\n",
        "        ax[i, j].annotate('Corr. coef = %.3f' % corrs[i, j], (0.8, 0.2), xycoords='axes fraction', ha='center', va='center', size=textSize)\n",
        "    plt.suptitle('Scatter and Density Plot')\n",
        "    plt.show()"
      ],
      "execution_count": 33,
      "outputs": []
    },
    {
      "cell_type": "code",
      "metadata": {
        "colab": {
          "base_uri": "https://localhost:8080/",
          "height": 34
        },
        "id": "Kj2XpX5CQ2NW",
        "outputId": "7f81d594-3d5f-45d9-a1ae-d62038261f31"
      },
      "source": [
        "plotPerColumnDistribution(df1, 10, 5)"
      ],
      "execution_count": 34,
      "outputs": [
        {
          "output_type": "display_data",
          "data": {
            "text/plain": [
              "<Figure size 2400x512 with 0 Axes>"
            ]
          },
          "metadata": {
            "tags": []
          }
        }
      ]
    },
    {
      "cell_type": "code",
      "metadata": {
        "colab": {
          "base_uri": "https://localhost:8080/"
        },
        "id": "jr6KiMLCQ2dx",
        "outputId": "476f43aa-a1dc-4a81-ec0a-94cdb88f103d"
      },
      "source": [
        "plotCorrelationMatrix(df1, 8)"
      ],
      "execution_count": 36,
      "outputs": [
        {
          "output_type": "stream",
          "text": [
            "No correlation plots shown: The number of non-NaN or constant columns (1) is less than 2\n"
          ],
          "name": "stdout"
        }
      ]
    },
    {
      "cell_type": "code",
      "metadata": {
        "colab": {
          "base_uri": "https://localhost:8080/",
          "height": 452
        },
        "id": "Uk-IoV70Q2io",
        "outputId": "98b81b1a-dd55-4787-d9f9-e7692164ffa0"
      },
      "source": [
        "plotScatterMatrix(df1, 6, 15)"
      ],
      "execution_count": 37,
      "outputs": [
        {
          "output_type": "display_data",
          "data": {
            "image/png": "[encoded data removed]",
            "text/plain": [
              "<Figure size 432x432 with 1 Axes>"
            ]
          },
          "metadata": {
            "tags": [],
            "needs_background": "light"
          }
        }
      ]
    },
    {
      "cell_type": "code",
      "metadata": {
        "colab": {
          "base_uri": "https://localhost:8080/"
        },
        "id": "gtZ9idN9Q2pL",
        "outputId": "09ad8b79-dcc3-444d-f172-20e4e7631d6f"
      },
      "source": [
        "nRowsRead = 1000 # specify 'None' if want to read whole file\n",
        "# test_ML_IOT.csv may have more rows in reality, but we are only loading/previewing the first 1000 rows\n",
        "df2 = pd.read_csv('/content/test_ML_IOT.csv', delimiter=',', nrows = nRowsRead)\n",
        "df2.dataframeName = 'test_ML_IOT.csv'\n",
        "nRow, nCol = df2.shape\n",
        "print(f'There are {nRow} rows and {nCol} columns')\n"
      ],
      "execution_count": 40,
      "outputs": [
        {
          "output_type": "stream",
          "text": [
            "There are 1000 rows and 3 columns\n"
          ],
          "name": "stdout"
        }
      ]
    },
    {
      "cell_type": "code",
      "metadata": {
        "colab": {
          "base_uri": "https://localhost:8080/",
          "height": 204
        },
        "id": "C6aOtNJWQ2uo",
        "outputId": "52ffe7e5-fcf1-433a-ae7b-0b7558d87892"
      },
      "source": [
        "df2.head(5)"
      ],
      "execution_count": 41,
      "outputs": [
        {
          "output_type": "execute_result",
          "data": {
            "text/html": [
              "<div>\n",
              "<style scoped>\n",
              "    .dataframe tbody tr th:only-of-type {\n",
              "        vertical-align: middle;\n",
              "    }\n",
              "\n",
              "    .dataframe tbody tr th {\n",
              "        vertical-align: top;\n",
              "    }\n",
              "\n",
              "    .dataframe thead th {\n",
              "        text-align: right;\n",
              "    }\n",
              "</style>\n",
              "<table border=\"1\" class=\"dataframe\">\n",
              "  <thead>\n",
              "    <tr style=\"text-align: right;\">\n",
              "      <th></th>\n",
              "      <th>DateTime</th>\n",
              "      <th>Junction</th>\n",
              "      <th>ID</th>\n",
              "    </tr>\n",
              "  </thead>\n",
              "  <tbody>\n",
              "    <tr>\n",
              "      <th>0</th>\n",
              "      <td>2017-07-01 00:00:00</td>\n",
              "      <td>1</td>\n",
              "      <td>20170701001</td>\n",
              "    </tr>\n",
              "    <tr>\n",
              "      <th>1</th>\n",
              "      <td>2017-07-01 01:00:00</td>\n",
              "      <td>1</td>\n",
              "      <td>20170701011</td>\n",
              "    </tr>\n",
              "    <tr>\n",
              "      <th>2</th>\n",
              "      <td>2017-07-01 02:00:00</td>\n",
              "      <td>1</td>\n",
              "      <td>20170701021</td>\n",
              "    </tr>\n",
              "    <tr>\n",
              "      <th>3</th>\n",
              "      <td>2017-07-01 03:00:00</td>\n",
              "      <td>1</td>\n",
              "      <td>20170701031</td>\n",
              "    </tr>\n",
              "    <tr>\n",
              "      <th>4</th>\n",
              "      <td>2017-07-01 04:00:00</td>\n",
              "      <td>1</td>\n",
              "      <td>20170701041</td>\n",
              "    </tr>\n",
              "  </tbody>\n",
              "</table>\n",
              "</div>"
            ],
            "text/plain": [
              "              DateTime  Junction           ID\n",
              "0  2017-07-01 00:00:00         1  20170701001\n",
              "1  2017-07-01 01:00:00         1  20170701011\n",
              "2  2017-07-01 02:00:00         1  20170701021\n",
              "3  2017-07-01 03:00:00         1  20170701031\n",
              "4  2017-07-01 04:00:00         1  20170701041"
            ]
          },
          "metadata": {
            "tags": []
          },
          "execution_count": 41
        }
      ]
    },
    {
      "cell_type": "code",
      "metadata": {
        "colab": {
          "base_uri": "https://localhost:8080/",
          "height": 34
        },
        "id": "pzan33HcQ2zH",
        "outputId": "10cee590-5d06-46ba-f112-4830ed85636a"
      },
      "source": [
        "#Distribution graphs (histogram/bar graph) of sampled columns:\n",
        "\n",
        "plotPerColumnDistribution(df2, 10, 5)\n",
        "\n"
      ],
      "execution_count": 42,
      "outputs": [
        {
          "output_type": "display_data",
          "data": {
            "text/plain": [
              "<Figure size 2400x512 with 0 Axes>"
            ]
          },
          "metadata": {
            "tags": []
          }
        }
      ]
    },
    {
      "cell_type": "code",
      "metadata": {
        "colab": {
          "base_uri": "https://localhost:8080/",
          "height": 539
        },
        "id": "5pDJrjWzQ25B",
        "outputId": "f8a2c0f5-3aa0-4f1c-e0a9-4e2e98be619e"
      },
      "source": [
        "#Correlation matrix:\n",
        "\n",
        "plotCorrelationMatrix(df2, 8)"
      ],
      "execution_count": 44,
      "outputs": [
        {
          "output_type": "display_data",
          "data": {
            "image/png": "[encoded data removed]",
            "text/plain": [
              "<Figure size 640x640 with 2 Axes>"
            ]
          },
          "metadata": {
            "tags": []
          }
        }
      ]
    },
    {
      "cell_type": "code",
      "metadata": {
        "colab": {
          "base_uri": "https://localhost:8080/",
          "height": 452
        },
        "id": "_60DPm90Q2-J",
        "outputId": "336abf8d-1c0c-4b76-96c0-b19753acefcb"
      },
      "source": [
        "plotScatterMatrix(df2, 6, 15)"
      ],
      "execution_count": 45,
      "outputs": [
        {
          "output_type": "display_data",
          "data": {
            "image/png": "[encoded data removed]",
            "text/plain": [
              "<Figure size 432x432 with 1 Axes>"
            ]
          },
          "metadata": {
            "tags": [],
            "needs_background": "light"
          }
        }
      ]
    },
    {
      "cell_type": "code",
      "metadata": {
        "colab": {
          "base_uri": "https://localhost:8080/"
        },
        "id": "Qd4FS6rSQ3Dc",
        "outputId": "674f7647-ffc9-4e0c-b09c-86b9c2ae4ddb"
      },
      "source": [
        "nRowsRead = 1000 # specify 'None' if want to read whole file\n",
        "# train_ML_IOT.csv may have more rows in reality, but we are only loading/previewing the first 1000 rows\n",
        "df3 = pd.read_csv('/content/train_ML_IOT.csv.zip', delimiter=',', nrows = nRowsRead)\n",
        "df3.dataframeName = 'train_ML_IOT.csv'\n",
        "nRow, nCol = df3.shape\n",
        "print(f'There are {nRow} rows and {nCol} columns')"
      ],
      "execution_count": 47,
      "outputs": [
        {
          "output_type": "stream",
          "text": [
            "There are 1000 rows and 4 columns\n",
            "There are 1000 rows and 4 columns\n"
          ],
          "name": "stdout"
        }
      ]
    },
    {
      "cell_type": "code",
      "metadata": {
        "colab": {
          "base_uri": "https://localhost:8080/",
          "height": 204
        },
        "id": "exOJMuEiQ3IE",
        "outputId": "7f6e7a32-ced1-4830-a437-0ddf1a0c2d09"
      },
      "source": [
        "df3.head(5)"
      ],
      "execution_count": 48,
      "outputs": [
        {
          "output_type": "execute_result",
          "data": {
            "text/html": [
              "<div>\n",
              "<style scoped>\n",
              "    .dataframe tbody tr th:only-of-type {\n",
              "        vertical-align: middle;\n",
              "    }\n",
              "\n",
              "    .dataframe tbody tr th {\n",
              "        vertical-align: top;\n",
              "    }\n",
              "\n",
              "    .dataframe thead th {\n",
              "        text-align: right;\n",
              "    }\n",
              "</style>\n",
              "<table border=\"1\" class=\"dataframe\">\n",
              "  <thead>\n",
              "    <tr style=\"text-align: right;\">\n",
              "      <th></th>\n",
              "      <th>DateTime</th>\n",
              "      <th>Junction</th>\n",
              "      <th>Vehicles</th>\n",
              "      <th>ID</th>\n",
              "    </tr>\n",
              "  </thead>\n",
              "  <tbody>\n",
              "    <tr>\n",
              "      <th>0</th>\n",
              "      <td>2015-11-01 00:00:00</td>\n",
              "      <td>1</td>\n",
              "      <td>15</td>\n",
              "      <td>20151101001</td>\n",
              "    </tr>\n",
              "    <tr>\n",
              "      <th>1</th>\n",
              "      <td>2015-11-01 01:00:00</td>\n",
              "      <td>1</td>\n",
              "      <td>13</td>\n",
              "      <td>20151101011</td>\n",
              "    </tr>\n",
              "    <tr>\n",
              "      <th>2</th>\n",
              "      <td>2015-11-01 02:00:00</td>\n",
              "      <td>1</td>\n",
              "      <td>10</td>\n",
              "      <td>20151101021</td>\n",
              "    </tr>\n",
              "    <tr>\n",
              "      <th>3</th>\n",
              "      <td>2015-11-01 03:00:00</td>\n",
              "      <td>1</td>\n",
              "      <td>7</td>\n",
              "      <td>20151101031</td>\n",
              "    </tr>\n",
              "    <tr>\n",
              "      <th>4</th>\n",
              "      <td>2015-11-01 04:00:00</td>\n",
              "      <td>1</td>\n",
              "      <td>9</td>\n",
              "      <td>20151101041</td>\n",
              "    </tr>\n",
              "  </tbody>\n",
              "</table>\n",
              "</div>"
            ],
            "text/plain": [
              "              DateTime  Junction  Vehicles           ID\n",
              "0  2015-11-01 00:00:00         1        15  20151101001\n",
              "1  2015-11-01 01:00:00         1        13  20151101011\n",
              "2  2015-11-01 02:00:00         1        10  20151101021\n",
              "3  2015-11-01 03:00:00         1         7  20151101031\n",
              "4  2015-11-01 04:00:00         1         9  20151101041"
            ]
          },
          "metadata": {
            "tags": []
          },
          "execution_count": 48
        }
      ]
    },
    {
      "cell_type": "code",
      "metadata": {
        "colab": {
          "base_uri": "https://localhost:8080/",
          "height": 650
        },
        "id": "zWIMs9JeQ3RK",
        "outputId": "331d0c38-2bf6-445d-f2d6-60882ac9e560"
      },
      "source": [
        "#Distribution graphs (histogram/bar graph) of sampled columns:\n",
        "\n",
        "plotPerColumnDistribution(df3, 10, 5)"
      ],
      "execution_count": 50,
      "outputs": [
        {
          "output_type": "display_data",
          "data": {
            "image/png": "[encoded data removed]",
            "text/plain": [
              "<Figure size 2400x640 with 1 Axes>"
            ]
          },
          "metadata": {
            "tags": []
          }
        }
      ]
    },
    {
      "cell_type": "code",
      "metadata": {
        "colab": {
          "base_uri": "https://localhost:8080/",
          "height": 536
        },
        "id": "m-1hDd08Q3Yq",
        "outputId": "1691641a-7b96-40e7-bf86-c42043d8856a"
      },
      "source": [
        "plotCorrelationMatrix(df3, 8)"
      ],
      "execution_count": 51,
      "outputs": [
        {
          "output_type": "display_data",
          "data": {
            "image/png": "[encoded data removed]",
            "text/plain": [
              "<Figure size 640x640 with 2 Axes>"
            ]
          },
          "metadata": {
            "tags": []
          }
        }
      ]
    },
    {
      "cell_type": "code",
      "metadata": {
        "colab": {
          "base_uri": "https://localhost:8080/",
          "height": 636
        },
        "id": "zwqcwYJEQ3eY",
        "outputId": "a224220e-3c4b-473b-f60e-75d292bd50d2"
      },
      "source": [
        "#Scatter and density plots:\n",
        "\n",
        "plotScatterMatrix(df3, 9, 10)\n"
      ],
      "execution_count": 52,
      "outputs": [
        {
          "output_type": "display_data",
          "data": {
            "image/png": "[encoded data removed]",
            "text/plain": [
              "<Figure size 648x648 with 4 Axes>"
            ]
          },
          "metadata": {
            "tags": [],
            "needs_background": "light"
          }
        }
      ]
    },
    {
      "cell_type": "code",
      "metadata": {
        "id": "Car8k9BYAoVN"
      },
      "source": [
        ""
      ],
      "execution_count": null,
      "outputs": []
    },
    {
      "cell_type": "code",
      "metadata": {
        "id": "TpkRhH_qAoZ2"
      },
      "source": [
        ""
      ],
      "execution_count": null,
      "outputs": []
    }
  ]
}